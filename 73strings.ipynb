{
 "cells": [
  {
   "cell_type": "markdown",
   "metadata": {},
   "source": [
    "# Data Mining"
   ]
  },
  {
   "cell_type": "code",
   "execution_count": 1,
   "metadata": {},
   "outputs": [],
   "source": [
    "#from fake_useragent import UserAgent\n",
    "#importing libraries \n",
    "import requests\n",
    "from fake_useragent import UserAgent\n",
    "import csv\n",
    "import re\n",
    "from selenium import webdriver\n",
    "from selenium.webdriver.chrome.options import Options\n",
    "from selenium.common.exceptions import NoSuchElementException\n",
    "from bs4 import BeautifulSoup\n",
    "\n",
    "from selenium import webdriver"
   ]
  },
  {
   "cell_type": "code",
   "execution_count": 2,
   "metadata": {},
   "outputs": [
    {
     "name": "stdout",
     "output_type": "stream",
     "text": [
      "{'User-Agent': 'Mozilla/5.0 (Windows NT 6.3; Win64; x64) AppleWebKit/537.36 (KHTML, like Gecko) Chrome/37.0.2049.0 Safari/537.36'}\n"
     ]
    }
   ],
   "source": [
    "ua = UserAgent()\n",
    "#print(ua.chrome)\n",
    "header = {'User-Agent':str(ua.chrome)}\n",
    "print(header)"
   ]
  },
  {
   "cell_type": "code",
   "execution_count": 3,
   "metadata": {},
   "outputs": [],
   "source": [
    "def searching(url,query,page_no):\n",
    "    \"\"\"\n",
    "    This is a function which searches for the page based on the url and the query\n",
    "    Parameters :\n",
    "    url = main site from which the data to be parsed\n",
    "    query = product/word that to be searches\n",
    "    returns : page if found or else error\n",
    "    \"\"\"\n",
    "    path = url + query +\"&page=\" + str(page_no)\n",
    "    #driver = webdriver.Firefox(executable_path=\"D:\\\\applied AI\\\\Selenium\\\\geckodriver-v0.26.0-win64\\\\geckodriver.exe\")\n",
    "    #driver.maximize_window() \n",
    "    #driver.get(path)\n",
    "    #return driver.page_source\n",
    "    page = requests.get(path, headers =header)\n",
    "    if page.status_code == 200:\n",
    "        return page.content \n",
    "    else:\n",
    "        return \"Error\"\n",
    "    \n",
    "    "
   ]
  },
  {
   "cell_type": "code",
   "execution_count": 5,
   "metadata": {},
   "outputs": [],
   "source": [
    "def asin(url,query,page_no):\n",
    "    \"\"\"\n",
    "    Get the ASIN(Amzon Standard Identification Number for the products)\n",
    "    Parameters:\n",
    "    url = main url from where the asin needs to be scraped\n",
    "    query = product category from which the asins to be scraped\n",
    "    returns : list of asins of the products\n",
    "    \"\"\"\n",
    "    product_asin = []\n",
    "    response = searching(url,query,page_no)\n",
    "    soup = BeautifulSoup(response,'html.parser')\n",
    "    for i in soup.find_all(\"div\",{\"class\":\"sg-col-20-of-24 s-result-item s-asin sg-col-0-of-12 sg-col-28-of-32 sg-col-16-of-20 sg-col sg-col-32-of-36 sg-col-12-of-16 sg-col-24-of-28\"}):\n",
    "        product_asin.append(i['data-asin'])\n",
    "    return product_asin"
   ]
  },
  {
   "cell_type": "code",
   "execution_count": 13,
   "metadata": {},
   "outputs": [],
   "source": [
    "url = \"https://www.amazon.in/s?k=\"\n",
    "query = \"smartphone\""
   ]
  },
  {
   "cell_type": "code",
   "execution_count": 11,
   "metadata": {},
   "outputs": [],
   "source": [
    "asins = []\n",
    "for i in range(7):\n",
    "    asins.extend(asin(url,query,i))"
   ]
  },
  {
   "cell_type": "code",
   "execution_count": 12,
   "metadata": {},
   "outputs": [
    {
     "data": {
      "text/plain": [
       "112"
      ]
     },
     "execution_count": 12,
     "metadata": {},
     "output_type": "execute_result"
    }
   ],
   "source": [
    "len(asins)"
   ]
  },
  {
   "cell_type": "code",
   "execution_count": 14,
   "metadata": {},
   "outputs": [],
   "source": [
    "driver = webdriver.Firefox(executable_path=\"D:\\\\applied AI\\\\Selenium\\\\geckodriver-v0.26.0-win64\\\\geckodriver.exe\")\n",
    "driver.maximize_window()"
   ]
  },
  {
   "cell_type": "code",
   "execution_count": 15,
   "metadata": {},
   "outputs": [],
   "source": [
    "def link_asin(asin):\n",
    "    \"\"\"\n",
    "    This function returns the link of the products based on its asin number\n",
    "    Parameters:\n",
    "    asin = amazon standard indentification number of a product\n",
    "    Returns:\n",
    "    link of the asin product passed as an argument\n",
    "    \"\"\"\n",
    "    #https://stackoverflow.com/questions/12159775/create-link-with-amazon-asin-number-to-link-the-right-country-e-g-amazon-com\n",
    "    url=\"https://www.amazon.in/dp/\"+asin\n",
    "#print(url)\n",
    "    #driver = webdriver.Firefox(executable_path=\"D:\\\\applied AI\\\\Selenium\\\\geckodriver-v0.26.0-win64\\\\geckodriver.exe\")\n",
    "    #driver.maximize_window()\n",
    "    driver.get(url)\n",
    "    return driver.page_source"
   ]
  },
  {
   "cell_type": "code",
   "execution_count": 16,
   "metadata": {},
   "outputs": [],
   "source": [
    "def details(asin):\n",
    "    \"\"\"\n",
    "    This function scrapes the title, review text and rating for the given asin number\n",
    "    Parameters:\n",
    "    asin: Amzaon Standard Indentification Number\n",
    "    Returns:\n",
    "    Rating, Review text and Title\n",
    "    \"\"\"\n",
    "    review =[]\n",
    "    rating = []\n",
    "    title = []\n",
    "    product_name = []\n",
    "    page = link_asin(asin)\n",
    "    soup = BeautifulSoup(page,'html.parser')\n",
    "    try:\n",
    "        review.append(soup.find(\"div\",{\"class\":\"a-row a-spacing-small review-data\"}).text)\n",
    "    except:\n",
    "        review.append(\"None\")\n",
    "    try:\n",
    "        rating.append(soup.find(\"span\",{\"class\":\"a-icon-alt\"}).text)\n",
    "    except:\n",
    "        rating.append(\"None\")\n",
    "    try:\n",
    "        title.append(soup.find(\"a\",{\"class\":\"a-size-base a-link-normal review-title a-color-base review-title-content a-text-bold\"}).text)\n",
    "    except:\n",
    "        title.append(\"None\")\n",
    "    try:\n",
    "        product_name.append(soup.find(\"span\",{\"id\":\"productTitle\"}).text)\n",
    "    except:\n",
    "        product_name.append(\"None\")\n",
    "    return [review,rating , title,product_name]"
   ]
  },
  {
   "cell_type": "code",
   "execution_count": 17,
   "metadata": {},
   "outputs": [],
   "source": [
    "reviews2=[]\n",
    "ratings2 = []\n",
    "titles2 = []\n",
    "product_names = []\n",
    "for i in asins:\n",
    "    review , rating, title,product_name = details(i)\n",
    "    reviews2.append(review)\n",
    "    ratings2.append(rating)\n",
    "    titles2.append(title)\n",
    "    product_names.append(product_name)"
   ]
  },
  {
   "cell_type": "code",
   "execution_count": 22,
   "metadata": {},
   "outputs": [
    {
     "data": {
      "text/plain": [
       "[['\\n\\n  \\xa0Defective product shipped.. reported within a  few  hours of receipt and no one showed up for inspection despite several follow ups. Now, it is not being replaced or refunded. Horrible experience!!\\n\\nRead more'],\n",
       " ['\\n\\n  Damaged product\\n\\nRead more'],\n",
       " [\"\\n\\n  Update (15/08/2020):Never give a chance to regret..  Go ahead...👍The Icons looks was not so great ..  And then I set 'Spherlue Icons' from theam and now its looks better with dark mode ...Even though its 6000 Mah I always leaves phone on charging before go to bed ( I like to see my phone 100% every morning 🙂 )..  So I turned off fast charging option.. You can do that.. Its will not affect  batteryMONSTER :1. Battery :- 5/5Two day battery standby for normal easy2.Display:- 4.99/5Super amaload with full hd.. Superb Display3.Design:3/5It has a6000Mah battery,  still looking not bulky. Noglass body,  but who cares after you put a back cover..  In my opinion, don't spend more money for glass body if you uses back covers4. Camera: 3/5Back camera pretty good but front camera's low light output is very low..  many features available such as slow and super slow videos available..5. OS&UI:- 5/5Android 10 with One UI6.Finger print reader and face lock 3/5 Face lock and finger print reader are not so fast7.Processor and performance 3.5/5Exynos 9611 is not meant for PUBG gamers  .. But for me its perfect as I am not a heavy gamer..  No lag ang hang till now..  but processor is outdated..8. Charging :2.5/5. No fast charging.. Provided with a 15W charger and iy takes about 3 Hrs to fully reacharge the phone9. Accessories : 2/5No earphone, No Back cover, No Screenguard..  So order backcover and tempered glass when you placing order as its backbody is plastic amd more prone to scratches..10.Loud speaker 1.5/5Loudspeaker sound level is very low.. (Keep earphones)Verdict: For this price  Its the best choice if you are not a hardcore gamer  ...\\n\\nRead more\"],\n",
       " [\"\\n\\n  Thank you samsung and Amazon for timely rakshabandhan delivery.Now for readers this is a review unbiased and written after testing and continuous usage :-Pro's1.Screen ppi is great as entry level device✌2.Battery backup is awesome thanks to samsungs R&D even with .7mamp charger.👀3.Android go version 10 is cute without craps4.Reading pdfs is easy and comfort for eyes atleast samsung has guts to say the truth.5.No lag till now because i dont need gaming other than that all regular even without go apps are nicely running.6.fingerprint and face lock i dont need so good they are not provided.7.Call quality is okay.Speaker is normal.8.For music lovers dowload any music app with equilizer will be fine.9.16gb/32gb and sd card is okay.10.Auto smart memory cleaner(use smart manager in settings once a day) for smooth RAM functioning and ROM cleaning🤗11. Supports OTG as well.Cons1. Camera below average still expected but samsung should work more on this front if they wanna beat chinese phones.2.Not for gamers and thats expected buy a 4gb Ram 🤔 based phone why reading me?😉3.finger print and face lock missing I Can manage but most indians can't.4.Battery takes 3.15 hours to charge to work for 12 hours of calling and surfing and thats not bad at all but can be issue for chinese phone lovers who have habit of charging again and again to play pubg.Overall out of 5.Camera-2  Gui-4  Screen ppi-5  speed-4  android-4Don't buy a phone only because of specifications must see integration and longevity overall a nice secondary option and primary for featured phone switchers.\\n\\nRead more\"],\n",
       " ['\\n\\n  Brought this phone for my wife who is die hard fan for oppo...Offer like 2000 extra off on exchange with Oppo is just like waww....So after exchange of her old oppo mobile I got this phone for just Rs.6800.... Best phone if u want oppo brand name and u are boared to ur old oppo phone... So this review is considering 6800 cost...Pros.1) good features considering cost 6800.2) Size matters 6.5 inch grt3) Speakers are good Dolby4) Comes with classic headphones with good looks and decent sound quality... No other phones now a days comes with headphones...5) Quad camera gives good quality photos...6) Selfie camera is also decent considering cost 68007) 5000mAh battery8) can be use as power bank for other phonesCons:1) Original cost 13990 is huge considering features...Other good brands like MI, VIVO, MOTO, etc sells 48MP camera phones for 12000 and so...2) Accessories like back cover, tempered glass are yet not in market... May be u have to wait for them...Though 1 transparent back cover is included in Mobile Box...This is all about this phone after 24hrs use....I will update if something comes...\\n\\nRead more'],\n",
       " ['\\n\\n  Best camera, very good battery life, eat body material, average weight, best performance,  best display.\\n\\nRead more'],\n",
       " ['\\n\\n  Dont buy.. after 10 to.15 mins gaming phone lagging too much\\n\\nRead more'],\n",
       " ['\\n\\n  \\xa0Defective product shipped.. reported within a  few  hours of receipt and no one showed up for inspection despite several follow ups. Now, it is not being replaced or refunded. Horrible experience!!\\n\\nRead more'],\n",
       " ['\\n\\n  \\xa0Defective product shipped.. reported within a  few  hours of receipt and no one showed up for inspection despite several follow ups. Now, it is not being replaced or refunded. Horrible experience!!\\n\\nRead more'],\n",
       " ['\\n\\n  \\xa0Defective product shipped.. reported within a  few  hours of receipt and no one showed up for inspection despite several follow ups. Now, it is not being replaced or refunded. Horrible experience!!\\n\\nRead more'],\n",
       " [\"\\n\\n  Update (15/08/2020):Never give a chance to regret..  Go ahead...👍The Icons looks was not so great ..  And then I set 'Spherlue Icons' from theam and now its looks better with dark mode ...Even though its 6000 Mah I always leaves phone on charging before go to bed ( I like to see my phone 100% every morning 🙂 )..  So I turned off fast charging option.. You can do that.. Its will not affect  batteryMONSTER :1. Battery :- 5/5Two day battery standby for normal easy2.Display:- 4.99/5Super amaload with full hd.. Superb Display3.Design:3/5It has a6000Mah battery,  still looking not bulky. Noglass body,  but who cares after you put a back cover..  In my opinion, don't spend more money for glass body if you uses back covers4. Camera: 3/5Back camera pretty good but front camera's low light output is very low..  many features available such as slow and super slow videos available..5. OS&UI:- 5/5Android 10 with One UI6.Finger print reader and face lock 3/5 Face lock and finger print reader are not so fast7.Processor and performance 3.5/5Exynos 9611 is not meant for PUBG gamers  .. But for me its perfect as I am not a heavy gamer..  No lag ang hang till now..  but processor is outdated..8. Charging :2.5/5. No fast charging.. Provided with a 15W charger and iy takes about 3 Hrs to fully reacharge the phone9. Accessories : 2/5No earphone, No Back cover, No Screenguard..  So order backcover and tempered glass when you placing order as its backbody is plastic amd more prone to scratches..10.Loud speaker 1.5/5Loudspeaker sound level is very low.. (Keep earphones)Verdict: For this price  Its the best choice if you are not a hardcore gamer  ...\\n\\nRead more\"],\n",
       " [\"\\n\\n  PLZZ read this complete information before buying from AmazonThey do not refund if your product got defected.Amazon is worst in providing services so if you have any option to buy from Flipkart then go there. Don't waste your time on AmazonRegarding mobileWorst mobile i have ever seenBattery charging time is more than expected.Battery drainaing problem is thereCamera will stuck when you click pictures.Poor camera quality they said 48 mp but it's like 12mp.  If you are game lover then PLZZ try another mobile. Performance is very low.I told Amazon customer care to take this product back but they are not helping me instead they want me to go service center in covid19 situation which is in red zone. They can't provide home visit because their technician life is more important than customer. If customer get infected it's ok for them.Thanks Amazon for this service now i hate Amazon more than tiktok.Unistalling the app right now. And also recommending my friend's and relatives to not buy anything from Amazon, they are worst.\\n\\nRead more\"],\n",
       " [\"\\n\\n  Thank you samsung and Amazon for timely rakshabandhan delivery.Now for readers this is a review unbiased and written after testing and continuous usage :-Pro's1.Screen ppi is great as entry level device✌2.Battery backup is awesome thanks to samsungs R&D even with .7mamp charger.👀3.Android go version 10 is cute without craps4.Reading pdfs is easy and comfort for eyes atleast samsung has guts to say the truth.5.No lag till now because i dont need gaming other than that all regular even without go apps are nicely running.6.fingerprint and face lock i dont need so good they are not provided.7.Call quality is okay.Speaker is normal.8.For music lovers dowload any music app with equilizer will be fine.9.16gb/32gb and sd card is okay.10.Auto smart memory cleaner(use smart manager in settings once a day) for smooth RAM functioning and ROM cleaning🤗11. Supports OTG as well.Cons1. Camera below average still expected but samsung should work more on this front if they wanna beat chinese phones.2.Not for gamers and thats expected buy a 4gb Ram 🤔 based phone why reading me?😉3.finger print and face lock missing I Can manage but most indians can't.4.Battery takes 3.15 hours to charge to work for 12 hours of calling and surfing and thats not bad at all but can be issue for chinese phone lovers who have habit of charging again and again to play pubg.Overall out of 5.Camera-2  Gui-4  Screen ppi-5  speed-4  android-4Don't buy a phone only because of specifications must see integration and longevity overall a nice secondary option and primary for featured phone switchers.\\n\\nRead more\"],\n",
       " ['\\n\\n  Damaged product\\n\\nRead more'],\n",
       " ['\\n\\n  Febulas performance Redmi Note 8 ...I love it ..😍first time I parchase online and Amazon give full satisfaction of product.Thanks for Amazon 😘\\n\\nRead more'],\n",
       " ['\\n\\n  Camera sound off option is not there.Both camera are below average quality.In settings options are very less. OS is not good.Overall not a good phone.\\n\\nRead more'],\n",
       " [\"\\n\\n  Update (15/08/2020):Never give a chance to regret..  Go ahead...👍The Icons looks was not so great ..  And then I set 'Spherlue Icons' from theam and now its looks better with dark mode ...Even though its 6000 Mah I always leaves phone on charging before go to bed ( I like to see my phone 100% every morning 🙂 )..  So I turned off fast charging option.. You can do that.. Its will not affect  batteryMONSTER :1. Battery :- 5/5Two day battery standby for normal easy2.Display:- 4.99/5Super amaload with full hd.. Superb Display3.Design:3/5It has a6000Mah battery,  still looking not bulky. Noglass body,  but who cares after you put a back cover..  In my opinion, don't spend more money for glass body if you uses back covers4. Camera: 3/5Back camera pretty good but front camera's low light output is very low..  many features available such as slow and super slow videos available..5. OS&UI:- 5/5Android 10 with One UI6.Finger print reader and face lock 3/5 Face lock and finger print reader are not so fast7.Processor and performance 3.5/5Exynos 9611 is not meant for PUBG gamers  .. But for me its perfect as I am not a heavy gamer..  No lag ang hang till now..  but processor is outdated..8. Charging :2.5/5. No fast charging.. Provided with a 15W charger and iy takes about 3 Hrs to fully reacharge the phone9. Accessories : 2/5No earphone, No Back cover, No Screenguard..  So order backcover and tempered glass when you placing order as its backbody is plastic amd more prone to scratches..10.Loud speaker 1.5/5Loudspeaker sound level is very low.. (Keep earphones)Verdict: For this price  Its the best choice if you are not a hardcore gamer  ...\\n\\nRead more\"],\n",
       " ['\\n\\n  \\xa0Defective product shipped.. reported within a  few  hours of receipt and no one showed up for inspection despite several follow ups. Now, it is not being replaced or refunded. Horrible experience!!\\n\\nRead more'],\n",
       " ['\\n\\n  Damaged product\\n\\nRead more'],\n",
       " [\"\\n\\n  Thank you samsung and Amazon for timely rakshabandhan delivery.Now for readers this is a review unbiased and written after testing and continuous usage :-Pro's1.Screen ppi is great as entry level device✌2.Battery backup is awesome thanks to samsungs R&D even with .7mamp charger.👀3.Android go version 10 is cute without craps4.Reading pdfs is easy and comfort for eyes atleast samsung has guts to say the truth.5.No lag till now because i dont need gaming other than that all regular even without go apps are nicely running.6.fingerprint and face lock i dont need so good they are not provided.7.Call quality is okay.Speaker is normal.8.For music lovers dowload any music app with equilizer will be fine.9.16gb/32gb and sd card is okay.10.Auto smart memory cleaner(use smart manager in settings once a day) for smooth RAM functioning and ROM cleaning🤗11. Supports OTG as well.Cons1. Camera below average still expected but samsung should work more on this front if they wanna beat chinese phones.2.Not for gamers and thats expected buy a 4gb Ram 🤔 based phone why reading me?😉3.finger print and face lock missing I Can manage but most indians can't.4.Battery takes 3.15 hours to charge to work for 12 hours of calling and surfing and thats not bad at all but can be issue for chinese phone lovers who have habit of charging again and again to play pubg.Overall out of 5.Camera-2  Gui-4  Screen ppi-5  speed-4  android-4Don't buy a phone only because of specifications must see integration and longevity overall a nice secondary option and primary for featured phone switchers.\\n\\nRead more\"],\n",
       " ['\\n\\n  Best camera, very good battery life, eat body material, average weight, best performance,  best display.\\n\\nRead more'],\n",
       " ['\\n\\n  Brought this phone for my wife who is die hard fan for oppo...Offer like 2000 extra off on exchange with Oppo is just like waww....So after exchange of her old oppo mobile I got this phone for just Rs.6800.... Best phone if u want oppo brand name and u are boared to ur old oppo phone... So this review is considering 6800 cost...Pros.1) good features considering cost 6800.2) Size matters 6.5 inch grt3) Speakers are good Dolby4) Comes with classic headphones with good looks and decent sound quality... No other phones now a days comes with headphones...5) Quad camera gives good quality photos...6) Selfie camera is also decent considering cost 68007) 5000mAh battery8) can be use as power bank for other phonesCons:1) Original cost 13990 is huge considering features...Other good brands like MI, VIVO, MOTO, etc sells 48MP camera phones for 12000 and so...2) Accessories like back cover, tempered glass are yet not in market... May be u have to wait for them...Though 1 transparent back cover is included in Mobile Box...This is all about this phone after 24hrs use....I will update if something comes...\\n\\nRead more'],\n",
       " [\"\\n\\n  Update (15/08/2020):Never give a chance to regret..  Go ahead...👍The Icons looks was not so great ..  And then I set 'Spherlue Icons' from theam and now its looks better with dark mode ...Even though its 6000 Mah I always leaves phone on charging before go to bed ( I like to see my phone 100% every morning 🙂 )..  So I turned off fast charging option.. You can do that.. Its will not affect  batteryMONSTER :1. Battery :- 5/5Two day battery standby for normal easy2.Display:- 4.99/5Super amaload with full hd.. Superb Display3.Design:3/5It has a6000Mah battery,  still looking not bulky. Noglass body,  but who cares after you put a back cover..  In my opinion, don't spend more money for glass body if you uses back covers4. Camera: 3/5Back camera pretty good but front camera's low light output is very low..  many features available such as slow and super slow videos available..5. OS&UI:- 5/5Android 10 with One UI6.Finger print reader and face lock 3/5 Face lock and finger print reader are not so fast7.Processor and performance 3.5/5Exynos 9611 is not meant for PUBG gamers  .. But for me its perfect as I am not a heavy gamer..  No lag ang hang till now..  but processor is outdated..8. Charging :2.5/5. No fast charging.. Provided with a 15W charger and iy takes about 3 Hrs to fully reacharge the phone9. Accessories : 2/5No earphone, No Back cover, No Screenguard..  So order backcover and tempered glass when you placing order as its backbody is plastic amd more prone to scratches..10.Loud speaker 1.5/5Loudspeaker sound level is very low.. (Keep earphones)Verdict: For this price  Its the best choice if you are not a hardcore gamer  ...\\n\\nRead more\"],\n",
       " ['\\n\\n  \\xa0Defective product shipped.. reported within a  few  hours of receipt and no one showed up for inspection despite several follow ups. Now, it is not being replaced or refunded. Horrible experience!!\\n\\nRead more'],\n",
       " ['\\n\\n  \\xa0Defective product shipped.. reported within a  few  hours of receipt and no one showed up for inspection despite several follow ups. Now, it is not being replaced or refunded. Horrible experience!!\\n\\nRead more'],\n",
       " ['\\n\\n  Dont buy.. after 10 to.15 mins gaming phone lagging too much\\n\\nRead more'],\n",
       " [\"\\n\\n  PLZZ read this complete information before buying from AmazonThey do not refund if your product got defected.Amazon is worst in providing services so if you have any option to buy from Flipkart then go there. Don't waste your time on AmazonRegarding mobileWorst mobile i have ever seenBattery charging time is more than expected.Battery drainaing problem is thereCamera will stuck when you click pictures.Poor camera quality they said 48 mp but it's like 12mp.  If you are game lover then PLZZ try another mobile. Performance is very low.I told Amazon customer care to take this product back but they are not helping me instead they want me to go service center in covid19 situation which is in red zone. They can't provide home visit because their technician life is more important than customer. If customer get infected it's ok for them.Thanks Amazon for this service now i hate Amazon more than tiktok.Unistalling the app right now. And also recommending my friend's and relatives to not buy anything from Amazon, they are worst.\\n\\nRead more\"],\n",
       " ['\\n\\n  \\xa0Defective product shipped.. reported within a  few  hours of receipt and no one showed up for inspection despite several follow ups. Now, it is not being replaced or refunded. Horrible experience!!\\n\\nRead more'],\n",
       " ['\\n\\n  Damaged product\\n\\nRead more'],\n",
       " [\"\\n\\n  Update (15/08/2020):Never give a chance to regret..  Go ahead...👍The Icons looks was not so great ..  And then I set 'Spherlue Icons' from theam and now its looks better with dark mode ...Even though its 6000 Mah I always leaves phone on charging before go to bed ( I like to see my phone 100% every morning 🙂 )..  So I turned off fast charging option.. You can do that.. Its will not affect  batteryMONSTER :1. Battery :- 5/5Two day battery standby for normal easy2.Display:- 4.99/5Super amaload with full hd.. Superb Display3.Design:3/5It has a6000Mah battery,  still looking not bulky. Noglass body,  but who cares after you put a back cover..  In my opinion, don't spend more money for glass body if you uses back covers4. Camera: 3/5Back camera pretty good but front camera's low light output is very low..  many features available such as slow and super slow videos available..5. OS&UI:- 5/5Android 10 with One UI6.Finger print reader and face lock 3/5 Face lock and finger print reader are not so fast7.Processor and performance 3.5/5Exynos 9611 is not meant for PUBG gamers  .. But for me its perfect as I am not a heavy gamer..  No lag ang hang till now..  but processor is outdated..8. Charging :2.5/5. No fast charging.. Provided with a 15W charger and iy takes about 3 Hrs to fully reacharge the phone9. Accessories : 2/5No earphone, No Back cover, No Screenguard..  So order backcover and tempered glass when you placing order as its backbody is plastic amd more prone to scratches..10.Loud speaker 1.5/5Loudspeaker sound level is very low.. (Keep earphones)Verdict: For this price  Its the best choice if you are not a hardcore gamer  ...\\n\\nRead more\"],\n",
       " [\"\\n\\n  Thank you samsung and Amazon for timely rakshabandhan delivery.Now for readers this is a review unbiased and written after testing and continuous usage :-Pro's1.Screen ppi is great as entry level device✌2.Battery backup is awesome thanks to samsungs R&D even with .7mamp charger.👀3.Android go version 10 is cute without craps4.Reading pdfs is easy and comfort for eyes atleast samsung has guts to say the truth.5.No lag till now because i dont need gaming other than that all regular even without go apps are nicely running.6.fingerprint and face lock i dont need so good they are not provided.7.Call quality is okay.Speaker is normal.8.For music lovers dowload any music app with equilizer will be fine.9.16gb/32gb and sd card is okay.10.Auto smart memory cleaner(use smart manager in settings once a day) for smooth RAM functioning and ROM cleaning🤗11. Supports OTG as well.Cons1. Camera below average still expected but samsung should work more on this front if they wanna beat chinese phones.2.Not for gamers and thats expected buy a 4gb Ram 🤔 based phone why reading me?😉3.finger print and face lock missing I Can manage but most indians can't.4.Battery takes 3.15 hours to charge to work for 12 hours of calling and surfing and thats not bad at all but can be issue for chinese phone lovers who have habit of charging again and again to play pubg.Overall out of 5.Camera-2  Gui-4  Screen ppi-5  speed-4  android-4Don't buy a phone only because of specifications must see integration and longevity overall a nice secondary option and primary for featured phone switchers.\\n\\nRead more\"],\n",
       " [\"\\n\\n  Honest review for a Honest Samsung phone. I am writing this review after using M31s for more than half month. And my verdict based on truly improved Samsung M series with my experience & tested after usage only.BUILD QUALITY. Superior, as it matches any S series flagship premium in classy look, strong built for this budget amount. My hand is small but still I found 6.5 inches display is good to handle as it is well managed for one hand use also.DISPLAY & FINGERPRINT.With Samsung SuperAmoled display you can truly trust the amazing view angle. Now in M31s feature of Widevine L Certification you can enjoy all those global Dolby theatre experience. I found it reliable for my 1920p to 4k level of movie watching without any distraction due to Infinite O display which gives Full Screen Ratio. Fingerprint on side is much faster than I expected. It doesn't takes a second also to open. Even FaceUnlock is faster.BATTERY.Main benefit of this midrange M series is it's maasive 6000mAh battery which gave me enough juice for nearly 3 days continuously. Tested.CAMERA.This time M series did a honest job by giving us a INTELLI camera of 64 mwgapixel with Single Take feature. Samsung gives what it advertises. Which made me to stick to Samsung brand. My usage of Camera is high & I found no complaints at all in focusing a shoot. Good color saturated. Well bright night shots. Macro shots r OSM. The depth & clarity of 64 megapixel is more developed in this M31s model. So no complaints.PROCESSOR.After using for more than half month I must say, Exynos 9611 works wonderful liquid speed when it is combined with LPDDR4X RAM technology. I have not faced any lag in PUBG or ASPHALT-9 hight end games, in medium setting which is good for battery saving. So 2.3Ghz speed accomplished. No complaints for the budget spent.SOUND QUALITY.After using for hours I found the Speaker this time Samsung made is much improved with Bass Stereo which was missing earlier. The in-ear delivers your ear the pure Dolby Atmos with clear precision and crystal clear bass effect.Bang for the bucks go for it. Thanks Amazon for Safe delivery.\\n\\nRead more\"],\n",
       " ['\\n\\n  Phone looks absolutely top class. Will update this review after 7days of use.Should have fingerprint sensor.\\n\\nRead more'],\n",
       " ['\\n\\n  \\xa0Defective product shipped.. reported within a  few  hours of receipt and no one showed up for inspection despite several follow ups. Now, it is not being replaced or refunded. Horrible experience!!\\n\\nRead more'],\n",
       " ['\\n\\n  Camera sound off option is not there.Both camera are below average quality.In settings options are very less. OS is not good.Overall not a good phone.\\n\\nRead more'],\n",
       " [\"\\n\\n  Update (15/08/2020):Never give a chance to regret..  Go ahead...👍The Icons looks was not so great ..  And then I set 'Spherlue Icons' from theam and now its looks better with dark mode ...Even though its 6000 Mah I always leaves phone on charging before go to bed ( I like to see my phone 100% every morning 🙂 )..  So I turned off fast charging option.. You can do that.. Its will not affect  batteryMONSTER :1. Battery :- 5/5Two day battery standby for normal easy2.Display:- 4.99/5Super amaload with full hd.. Superb Display3.Design:3/5It has a6000Mah battery,  still looking not bulky. Noglass body,  but who cares after you put a back cover..  In my opinion, don't spend more money for glass body if you uses back covers4. Camera: 3/5Back camera pretty good but front camera's low light output is very low..  many features available such as slow and super slow videos available..5. OS&UI:- 5/5Android 10 with One UI6.Finger print reader and face lock 3/5 Face lock and finger print reader are not so fast7.Processor and performance 3.5/5Exynos 9611 is not meant for PUBG gamers  .. But for me its perfect as I am not a heavy gamer..  No lag ang hang till now..  but processor is outdated..8. Charging :2.5/5. No fast charging.. Provided with a 15W charger and iy takes about 3 Hrs to fully reacharge the phone9. Accessories : 2/5No earphone, No Back cover, No Screenguard..  So order backcover and tempered glass when you placing order as its backbody is plastic amd more prone to scratches..10.Loud speaker 1.5/5Loudspeaker sound level is very low.. (Keep earphones)Verdict: For this price  Its the best choice if you are not a hardcore gamer  ...\\n\\nRead more\"],\n",
       " [\"\\n\\n  PLZZ read this complete information before buying from AmazonThey do not refund if your product got defected.Amazon is worst in providing services so if you have any option to buy from Flipkart then go there. Don't waste your time on AmazonRegarding mobileWorst mobile i have ever seenBattery charging time is more than expected.Battery drainaing problem is thereCamera will stuck when you click pictures.Poor camera quality they said 48 mp but it's like 12mp.  If you are game lover then PLZZ try another mobile. Performance is very low.I told Amazon customer care to take this product back but they are not helping me instead they want me to go service center in covid19 situation which is in red zone. They can't provide home visit because their technician life is more important than customer. If customer get infected it's ok for them.Thanks Amazon for this service now i hate Amazon more than tiktok.Unistalling the app right now. And also recommending my friend's and relatives to not buy anything from Amazon, they are worst.\\n\\nRead more\"],\n",
       " ['\\n\\n  Brought this phone for my wife who is die hard fan for oppo...Offer like 2000 extra off on exchange with Oppo is just like waww....So after exchange of her old oppo mobile I got this phone for just Rs.6800.... Best phone if u want oppo brand name and u are boared to ur old oppo phone... So this review is considering 6800 cost...Pros.1) good features considering cost 6800.2) Size matters 6.5 inch grt3) Speakers are good Dolby4) Comes with classic headphones with good looks and decent sound quality... No other phones now a days comes with headphones...5) Quad camera gives good quality photos...6) Selfie camera is also decent considering cost 68007) 5000mAh battery8) can be use as power bank for other phonesCons:1) Original cost 13990 is huge considering features...Other good brands like MI, VIVO, MOTO, etc sells 48MP camera phones for 12000 and so...2) Accessories like back cover, tempered glass are yet not in market... May be u have to wait for them...Though 1 transparent back cover is included in Mobile Box...This is all about this phone after 24hrs use....I will update if something comes...\\n\\nRead more'],\n",
       " [\"\\n\\n  It's a great phone im buy last 2 weaks ago oppo f9pro same all features on oppo a5s their is no change in this phone both are same of all features and battery backup is coming upto 2 days of once full charge with using mobile data display is asumne like oppo f9pro and for the cost its a superb phone to buy no hang problem in 2gb ram games is runing smoth with oppo game space its super thanks for the oppo and the seller for this great phone\\n\\nRead more\"],\n",
       " ['\\n\\n  Dont buyig this is product its third class catergory phone plz guyiz dont buying this phone its humble request d\\n\\nRead more'],\n",
       " [\"\\n\\n  Honest review for a Honest Samsung phone. I am writing this review after using M31s for more than half month. And my verdict based on truly improved Samsung M series with my experience & tested after usage only.BUILD QUALITY. Superior, as it matches any S series flagship premium in classy look, strong built for this budget amount. My hand is small but still I found 6.5 inches display is good to handle as it is well managed for one hand use also.DISPLAY & FINGERPRINT.With Samsung SuperAmoled display you can truly trust the amazing view angle. Now in M31s feature of Widevine L Certification you can enjoy all those global Dolby theatre experience. I found it reliable for my 1920p to 4k level of movie watching without any distraction due to Infinite O display which gives Full Screen Ratio. Fingerprint on side is much faster than I expected. It doesn't takes a second also to open. Even FaceUnlock is faster.BATTERY.Main benefit of this midrange M series is it's maasive 6000mAh battery which gave me enough juice for nearly 3 days continuously. Tested.CAMERA.This time M series did a honest job by giving us a INTELLI camera of 64 mwgapixel with Single Take feature. Samsung gives what it advertises. Which made me to stick to Samsung brand. My usage of Camera is high & I found no complaints at all in focusing a shoot. Good color saturated. Well bright night shots. Macro shots r OSM. The depth & clarity of 64 megapixel is more developed in this M31s model. So no complaints.PROCESSOR.After using for more than half month I must say, Exynos 9611 works wonderful liquid speed when it is combined with LPDDR4X RAM technology. I have not faced any lag in PUBG or ASPHALT-9 hight end games, in medium setting which is good for battery saving. So 2.3Ghz speed accomplished. No complaints for the budget spent.SOUND QUALITY.After using for hours I found the Speaker this time Samsung made is much improved with Bass Stereo which was missing earlier. The in-ear delivers your ear the pure Dolby Atmos with clear precision and crystal clear bass effect.Bang for the bucks go for it. Thanks Amazon for Safe delivery.\\n\\nRead more\"],\n",
       " ['\\n\\n  Best camera, very good battery life, eat body material, average weight, best performance,  best display.\\n\\nRead more'],\n",
       " ['\\n\\n  Not fast charging  no long batterylife, no headphones. Somewhat is happy but disappointed with features.\\n\\nRead more'],\n",
       " ['\\n\\n  Price is too high for this specifications. 11000-12000 is the perfect price. Other than everything is fine\\n\\nRead more'],\n",
       " ['\\n\\n  In display lines started coming after using 1 day . I want to return this . Amazon Customer service is worst. Though damage is visible they are not accepting for return.\\n\\nRead more'],\n",
       " ['\\n\\n  \\xa0Defective product shipped.. reported within a  few  hours of receipt and no one showed up for inspection despite several follow ups. Now, it is not being replaced or refunded. Horrible experience!!\\n\\nRead more'],\n",
       " ['\\n\\n  Awesome mobile at this price point\\n\\nRead more'],\n",
       " ['\\n\\n  This phones performance is not good..this is very slow working..than other phone in this rate...this smartphone is totally waste for money....so amazon pls return this phone and refund my money....\\n\\nRead more'],\n",
       " ['\\n\\n  Brought this phone for my wife who is die hard fan for oppo...Offer like 2000 extra off on exchange with Oppo is just like waww....So after exchange of her old oppo mobile I got this phone for just Rs.6800.... Best phone if u want oppo brand name and u are boared to ur old oppo phone... So this review is considering 6800 cost...Pros.1) good features considering cost 6800.2) Size matters 6.5 inch grt3) Speakers are good Dolby4) Comes with classic headphones with good looks and decent sound quality... No other phones now a days comes with headphones...5) Quad camera gives good quality photos...6) Selfie camera is also decent considering cost 68007) 5000mAh battery8) can be use as power bank for other phonesCons:1) Original cost 13990 is huge considering features...Other good brands like MI, VIVO, MOTO, etc sells 48MP camera phones for 12000 and so...2) Accessories like back cover, tempered glass are yet not in market... May be u have to wait for them...Though 1 transparent back cover is included in Mobile Box...This is all about this phone after 24hrs use....I will update if something comes...\\n\\nRead more'],\n",
       " ['\\n\\n  Very happy 10 out of 10. Its giving me two days battery backup at full time 4g data on. well done  Tecno team 👍\\n\\nRead more'],\n",
       " ['\\n\\n  The product is fine and working well. Battery and camera quality is phenomenal and met the expectations.  Unfortunately the Amazon promise on zero cost EMI is misleading. I opted for 6 months EMI considering zero percent interest. But HDFC bank charged me around 12% interest plus GST etc. This is like taking customer for a ride.  I was surprised to receive a msg like that from bank. Just to alert Amazon to rectify this immediately.\\n\\nRead more'],\n",
       " ['\\n\\n  In display lines started coming after using 1 day . I want to return this . Amazon Customer service is worst. Though damage is visible they are not accepting for return.\\n\\nRead more'],\n",
       " [\"\\n\\n  Honest review for a Honest Samsung phone. I am writing this review after using M31s for more than half month. And my verdict based on truly improved Samsung M series with my experience & tested after usage only.BUILD QUALITY. Superior, as it matches any S series flagship premium in classy look, strong built for this budget amount. My hand is small but still I found 6.5 inches display is good to handle as it is well managed for one hand use also.DISPLAY & FINGERPRINT.With Samsung SuperAmoled display you can truly trust the amazing view angle. Now in M31s feature of Widevine L Certification you can enjoy all those global Dolby theatre experience. I found it reliable for my 1920p to 4k level of movie watching without any distraction due to Infinite O display which gives Full Screen Ratio. Fingerprint on side is much faster than I expected. It doesn't takes a second also to open. Even FaceUnlock is faster.BATTERY.Main benefit of this midrange M series is it's maasive 6000mAh battery which gave me enough juice for nearly 3 days continuously. Tested.CAMERA.This time M series did a honest job by giving us a INTELLI camera of 64 mwgapixel with Single Take feature. Samsung gives what it advertises. Which made me to stick to Samsung brand. My usage of Camera is high & I found no complaints at all in focusing a shoot. Good color saturated. Well bright night shots. Macro shots r OSM. The depth & clarity of 64 megapixel is more developed in this M31s model. So no complaints.PROCESSOR.After using for more than half month I must say, Exynos 9611 works wonderful liquid speed when it is combined with LPDDR4X RAM technology. I have not faced any lag in PUBG or ASPHALT-9 hight end games, in medium setting which is good for battery saving. So 2.3Ghz speed accomplished. No complaints for the budget spent.SOUND QUALITY.After using for hours I found the Speaker this time Samsung made is much improved with Bass Stereo which was missing earlier. The in-ear delivers your ear the pure Dolby Atmos with clear precision and crystal clear bass effect.Bang for the bucks go for it. Thanks Amazon for Safe delivery.\\n\\nRead more\"],\n",
       " [\"\\n\\n  Honest review for a Honest Samsung phone. I am writing this review after using M31s for more than half month. And my verdict based on truly improved Samsung M series with my experience & tested after usage only.BUILD QUALITY. Superior, as it matches any S series flagship premium in classy look, strong built for this budget amount. My hand is small but still I found 6.5 inches display is good to handle as it is well managed for one hand use also.DISPLAY & FINGERPRINT.With Samsung SuperAmoled display you can truly trust the amazing view angle. Now in M31s feature of Widevine L Certification you can enjoy all those global Dolby theatre experience. I found it reliable for my 1920p to 4k level of movie watching without any distraction due to Infinite O display which gives Full Screen Ratio. Fingerprint on side is much faster than I expected. It doesn't takes a second also to open. Even FaceUnlock is faster.BATTERY.Main benefit of this midrange M series is it's maasive 6000mAh battery which gave me enough juice for nearly 3 days continuously. Tested.CAMERA.This time M series did a honest job by giving us a INTELLI camera of 64 mwgapixel with Single Take feature. Samsung gives what it advertises. Which made me to stick to Samsung brand. My usage of Camera is high & I found no complaints at all in focusing a shoot. Good color saturated. Well bright night shots. Macro shots r OSM. The depth & clarity of 64 megapixel is more developed in this M31s model. So no complaints.PROCESSOR.After using for more than half month I must say, Exynos 9611 works wonderful liquid speed when it is combined with LPDDR4X RAM technology. I have not faced any lag in PUBG or ASPHALT-9 hight end games, in medium setting which is good for battery saving. So 2.3Ghz speed accomplished. No complaints for the budget spent.SOUND QUALITY.After using for hours I found the Speaker this time Samsung made is much improved with Bass Stereo which was missing earlier. The in-ear delivers your ear the pure Dolby Atmos with clear precision and crystal clear bass effect.Bang for the bucks go for it. Thanks Amazon for Safe delivery.\\n\\nRead more\"],\n",
       " ['\\n\\n  Camera quality is not good. It is mentioned as 13mp but the motion of the camera is like 2mp. Phone is very slow in operation even though it is 3gb RAM . More over it is MADE IN CHINA.\\n\\nRead more'],\n",
       " ['\\n\\n  Best camera, very good battery life, eat body material, average weight, best performance,  best display.\\n\\nRead more'],\n",
       " ['\\n\\n  Not fast charging  no long batterylife, no headphones. Somewhat is happy but disappointed with features.\\n\\nRead more'],\n",
       " ['\\n\\n  Best camera, very good battery life, eat body material, average weight, best performance,  best display.\\n\\nRead more'],\n",
       " ['\\n\\n  One of the best budget phones available under 8K. I was a bit sceptical about buying it as the company Tecno isn\\'t known in India but to my surprise it is exceptionally well made.ProsBattery Life - 6000mah Easily lasts two daysScreen - 7\" inch screen for viewing videos and movies (Helpful for my mother as she struggles with small fonts while reading or typing)Two SIM slot and dedicated Micro SD slotCamera - 13Mp Rear Triple camera and 8mp front camera with dual flashAndroid 10 (Go version) - Up to date android with Go version for a seamless useConsRam - It is only available in 2GB and 32GB internal storage variant which the company should reconsider. Do not expect playing high end games. PUBG LITE runs with minor glitches during gameplaySound - Speaker output quality isn\\'t upto the mark while playing videos and music but manageable.Would definitely recommend this phone if you\\'re looking to buy something under 8k or a back-up phone to watch movies & web series.Thank you Amazon & Tecno :)\\n\\nRead more'],\n",
       " [\"\\n\\n  There are lot of better phones available at the market.  I guess its way too late to launch this product at this time as it's time of quad camera📷 and hd screen and better battery.  The phone is too pricy for the current trend📈\\n\\nRead more\"],\n",
       " ['\\n\\n  Battery is not getting charged.\\n\\nRead more'],\n",
       " [\"\\n\\n  PLZZ read this complete information before buying from AmazonThey do not refund if your product got defected.Amazon is worst in providing services so if you have any option to buy from Flipkart then go there. Don't waste your time on AmazonRegarding mobileWorst mobile i have ever seenBattery charging time is more than expected.Battery drainaing problem is thereCamera will stuck when you click pictures.Poor camera quality they said 48 mp but it's like 12mp.  If you are game lover then PLZZ try another mobile. Performance is very low.I told Amazon customer care to take this product back but they are not helping me instead they want me to go service center in covid19 situation which is in red zone. They can't provide home visit because their technician life is more important than customer. If customer get infected it's ok for them.Thanks Amazon for this service now i hate Amazon more than tiktok.Unistalling the app right now. And also recommending my friend's and relatives to not buy anything from Amazon, they are worst.\\n\\nRead more\"],\n",
       " [\"\\n\\n  If I started to rating it's all features, it will as followed (Out of 5 🌟):Processor ⭐⭐⭐⭐Display ⭐ ⭐⭐⭐⭐Battery ⭐⭐⭐⭐⭐Sound in loud ⭐⭐⭐Sound in 3.5 mm cord ⭐⭐⭐⭐⭐Camera Selfie ⭐⭐⭐Camera Back ⭐⭐⭐⭐Networking ⭐⭐⭐⭐⭐Lack:There is no Fingers print sensor locked.There is no Back cover in the box.Camera quality not so good.\\n\\nRead more\"],\n",
       " [\"\\n\\n  PLZZ read this complete information before buying from AmazonThey do not refund if your product got defected.Amazon is worst in providing services so if you have any option to buy from Flipkart then go there. Don't waste your time on AmazonRegarding mobileWorst mobile i have ever seenBattery charging time is more than expected.Battery drainaing problem is thereCamera will stuck when you click pictures.Poor camera quality they said 48 mp but it's like 12mp.  If you are game lover then PLZZ try another mobile. Performance is very low.I told Amazon customer care to take this product back but they are not helping me instead they want me to go service center in covid19 situation which is in red zone. They can't provide home visit because their technician life is more important than customer. If customer get infected it's ok for them.Thanks Amazon for this service now i hate Amazon more than tiktok.Unistalling the app right now. And also recommending my friend's and relatives to not buy anything from Amazon, they are worst.\\n\\nRead more\"],\n",
       " ['\\n\\n  Brought this phone for my wife who is die hard fan for oppo...Offer like 2000 extra off on exchange with Oppo is just like waww....So after exchange of her old oppo mobile I got this phone for just Rs.6800.... Best phone if u want oppo brand name and u are boared to ur old oppo phone... So this review is considering 6800 cost...Pros.1) good features considering cost 6800.2) Size matters 6.5 inch grt3) Speakers are good Dolby4) Comes with classic headphones with good looks and decent sound quality... No other phones now a days comes with headphones...5) Quad camera gives good quality photos...6) Selfie camera is also decent considering cost 68007) 5000mAh battery8) can be use as power bank for other phonesCons:1) Original cost 13990 is huge considering features...Other good brands like MI, VIVO, MOTO, etc sells 48MP camera phones for 12000 and so...2) Accessories like back cover, tempered glass are yet not in market... May be u have to wait for them...Though 1 transparent back cover is included in Mobile Box...This is all about this phone after 24hrs use....I will update if something comes...\\n\\nRead more'],\n",
       " ['None'],\n",
       " ['\\n\\n  Super vivo v17\\n\\nRead more'],\n",
       " ['\\n\\n  One of the best budget phones available under 8K. I was a bit sceptical about buying it as the company Tecno isn\\'t known in India but to my surprise it is exceptionally well made.ProsBattery Life - 6000mah Easily lasts two daysScreen - 7\" inch screen for viewing videos and movies (Helpful for my mother as she struggles with small fonts while reading or typing)Two SIM slot and dedicated Micro SD slotCamera - 13Mp Rear Triple camera and 8mp front camera with dual flashAndroid 10 (Go version) - Up to date android with Go version for a seamless useConsRam - It is only available in 2GB and 32GB internal storage variant which the company should reconsider. Do not expect playing high end games. PUBG LITE runs with minor glitches during gameplaySound - Speaker output quality isn\\'t upto the mark while playing videos and music but manageable.Would definitely recommend this phone if you\\'re looking to buy something under 8k or a back-up phone to watch movies & web series.Thank you Amazon & Tecno :)\\n\\nRead more'],\n",
       " [\"\\n\\n  There are lot of better phones available at the market.  I guess its way too late to launch this product at this time as it's time of quad camera📷 and hd screen and better battery.  The phone is too pricy for the current trend📈\\n\\nRead more\"],\n",
       " [\"\\n\\n  There are lot of better phones available at the market.  I guess its way too late to launch this product at this time as it's time of quad camera📷 and hd screen and better battery.  The phone is too pricy for the current trend📈\\n\\nRead more\"],\n",
       " ['\\n\\n  \\xa0Defective product shipped.. reported within a  few  hours of receipt and no one showed up for inspection despite several follow ups. Now, it is not being replaced or refunded. Horrible experience!!\\n\\nRead more'],\n",
       " ['\\n\\n  Camera sound off option is not there.Both camera are below average quality.In settings options are very less. OS is not good.Overall not a good phone.\\n\\nRead more'],\n",
       " ['\\n\\n  Really great phone....Dont think too much ....just go for it....honest review!!!\\n\\nRead more'],\n",
       " ['\\n\\n  Camera quality is not good. It is mentioned as 13mp but the motion of the camera is like 2mp. Phone is very slow in operation even though it is 3gb RAM . More over it is MADE IN CHINA.\\n\\nRead more'],\n",
       " ['\\n\\n  Damaged product\\n\\nRead more'],\n",
       " ['None'],\n",
       " [\"\\n\\n  Honest review for a Honest Samsung phone. I am writing this review after using M31s for more than half month. And my verdict based on truly improved Samsung M series with my experience & tested after usage only.BUILD QUALITY. Superior, as it matches any S series flagship premium in classy look, strong built for this budget amount. My hand is small but still I found 6.5 inches display is good to handle as it is well managed for one hand use also.DISPLAY & FINGERPRINT.With Samsung SuperAmoled display you can truly trust the amazing view angle. Now in M31s feature of Widevine L Certification you can enjoy all those global Dolby theatre experience. I found it reliable for my 1920p to 4k level of movie watching without any distraction due to Infinite O display which gives Full Screen Ratio. Fingerprint on side is much faster than I expected. It doesn't takes a second also to open. Even FaceUnlock is faster.BATTERY.Main benefit of this midrange M series is it's maasive 6000mAh battery which gave me enough juice for nearly 3 days continuously. Tested.CAMERA.This time M series did a honest job by giving us a INTELLI camera of 64 mwgapixel with Single Take feature. Samsung gives what it advertises. Which made me to stick to Samsung brand. My usage of Camera is high & I found no complaints at all in focusing a shoot. Good color saturated. Well bright night shots. Macro shots r OSM. The depth & clarity of 64 megapixel is more developed in this M31s model. So no complaints.PROCESSOR.After using for more than half month I must say, Exynos 9611 works wonderful liquid speed when it is combined with LPDDR4X RAM technology. I have not faced any lag in PUBG or ASPHALT-9 hight end games, in medium setting which is good for battery saving. So 2.3Ghz speed accomplished. No complaints for the budget spent.SOUND QUALITY.After using for hours I found the Speaker this time Samsung made is much improved with Bass Stereo which was missing earlier. The in-ear delivers your ear the pure Dolby Atmos with clear precision and crystal clear bass effect.Bang for the bucks go for it. Thanks Amazon for Safe delivery.\\n\\nRead more\"],\n",
       " [\"\\n\\n  PLZZ read this complete information before buying from AmazonThey do not refund if your product got defected.Amazon is worst in providing services so if you have any option to buy from Flipkart then go there. Don't waste your time on AmazonRegarding mobileWorst mobile i have ever seenBattery charging time is more than expected.Battery drainaing problem is thereCamera will stuck when you click pictures.Poor camera quality they said 48 mp but it's like 12mp.  If you are game lover then PLZZ try another mobile. Performance is very low.I told Amazon customer care to take this product back but they are not helping me instead they want me to go service center in covid19 situation which is in red zone. They can't provide home visit because their technician life is more important than customer. If customer get infected it's ok for them.Thanks Amazon for this service now i hate Amazon more than tiktok.Unistalling the app right now. And also recommending my friend's and relatives to not buy anything from Amazon, they are worst.\\n\\nRead more\"],\n",
       " ['None'],\n",
       " ['\\n\\n  Average phoneThe display speed is very slowTouch working slowCamera not good as expectedNot happy with this phone\\n\\nRead more'],\n",
       " ['\\n\\n  Battery is getting drained out quite fast. 7% in an hr. with half an hr of usage. Camera is also poor. Charging is very slow that was known though. First point is troubling!\\n\\nRead more'],\n",
       " ['\\n\\n  Best Product Thnx for Amazon.in\\n\\nRead more'],\n",
       " ['\\n\\n  One of the best budget phones available under 8K. I was a bit sceptical about buying it as the company Tecno isn\\'t known in India but to my surprise it is exceptionally well made.ProsBattery Life - 6000mah Easily lasts two daysScreen - 7\" inch screen for viewing videos and movies (Helpful for my mother as she struggles with small fonts while reading or typing)Two SIM slot and dedicated Micro SD slotCamera - 13Mp Rear Triple camera and 8mp front camera with dual flashAndroid 10 (Go version) - Up to date android with Go version for a seamless useConsRam - It is only available in 2GB and 32GB internal storage variant which the company should reconsider. Do not expect playing high end games. PUBG LITE runs with minor glitches during gameplaySound - Speaker output quality isn\\'t upto the mark while playing videos and music but manageable.Would definitely recommend this phone if you\\'re looking to buy something under 8k or a back-up phone to watch movies & web series.Thank you Amazon & Tecno :)\\n\\nRead more'],\n",
       " ['None'],\n",
       " ['\\n\\n  Best camera, very good battery life, eat body material, average weight, best performance,  best display.\\n\\nRead more'],\n",
       " ['\\n\\n  \\xa0Defective product shipped.. reported within a  few  hours of receipt and no one showed up for inspection despite several follow ups. Now, it is not being replaced or refunded. Horrible experience!!\\n\\nRead more'],\n",
       " ['None'],\n",
       " [\"\\n\\n  Thank you samsung and Amazon for timely rakshabandhan delivery.Now for readers this is a review unbiased and written after testing and continuous usage :-Pro's1.Screen ppi is great as entry level device✌2.Battery backup is awesome thanks to samsungs R&D even with .7mamp charger.👀3.Android go version 10 is cute without craps4.Reading pdfs is easy and comfort for eyes atleast samsung has guts to say the truth.5.No lag till now because i dont need gaming other than that all regular even without go apps are nicely running.6.fingerprint and face lock i dont need so good they are not provided.7.Call quality is okay.Speaker is normal.8.For music lovers dowload any music app with equilizer will be fine.9.16gb/32gb and sd card is okay.10.Auto smart memory cleaner(use smart manager in settings once a day) for smooth RAM functioning and ROM cleaning🤗11. Supports OTG as well.Cons1. Camera below average still expected but samsung should work more on this front if they wanna beat chinese phones.2.Not for gamers and thats expected buy a 4gb Ram 🤔 based phone why reading me?😉3.finger print and face lock missing I Can manage but most indians can't.4.Battery takes 3.15 hours to charge to work for 12 hours of calling and surfing and thats not bad at all but can be issue for chinese phone lovers who have habit of charging again and again to play pubg.Overall out of 5.Camera-2  Gui-4  Screen ppi-5  speed-4  android-4Don't buy a phone only because of specifications must see integration and longevity overall a nice secondary option and primary for featured phone switchers.\\n\\nRead more\"],\n",
       " ['\\n\\n  Nice mobile.\\n\\nRead more'],\n",
       " [\"\\n\\n  Money waste products don't buy ...Time wasted ... Cheating costumers.. Itself I was lost 6 thousand rupees. Don't buy any one\\n\\nRead more\"],\n",
       " [\"\\n\\n  There are lot of better phones available at the market.  I guess its way too late to launch this product at this time as it's time of quad camera📷 and hd screen and better battery.  The phone is too pricy for the current trend📈\\n\\nRead more\"],\n",
       " ['\\n\\n  Really great phone....Dont think too much ....just go for it....honest review!!!\\n\\nRead more'],\n",
       " ['\\n\\n  Price is too high for this specifications. 11000-12000 is the perfect price. Other than everything is fine\\n\\nRead more'],\n",
       " ['\\n\\n  Superb\\n\\nRead more'],\n",
       " [\"\\n\\n  I haven't checked sim 2 after delivery, after few days when I insert sim 2 this was not detected, I visited service centre he said this phone having this issue and need to change PC main board but part is not available. Every alternate days I am calling/visited but answer is same.I am very disappointed that Amazon providing this kind of bad products\\n\\nRead more\"],\n",
       " ['\\n\\n  Camera sound off option is not there.Both camera are below average quality.In settings options are very less. OS is not good.Overall not a good phone.\\n\\nRead more'],\n",
       " ['\\n\\n  Price is too high for this specifications. 11000-12000 is the perfect price. Other than everything is fine\\n\\nRead more'],\n",
       " ['\\n\\n  Camera quality not good\\n\\nRead more'],\n",
       " [\"\\n\\n  Okk I am writing a review after using one day ..I gifted this mobile to my mother and she liked a lot ..First of all I let you know this is an updated version of Eluga I7..as you can check on the pictures posted by me ..it's Eluga I7 Enterprise Edition..And this is updated to Android 9.0 pie..Whereas the Normal Version is only Android 7 version( which is available on Flipkart).This mobile does not have tray SIM slot..rather you can open the back cover and easily insert both the SIM and Memory card..and  has Non Hybrid Sim Slots..But point to note here is SIM 1 is Micro and SIM 2 Nano ..Camera quality is gud not so gorgeous with 8MP for both Front and Back ..with Flash Led lights on both sides..you can't expect more in this price range .The best thing is it's Battery Back up of 4000 MAH..Videos run smooth you tube and all.You can increase the Storage space .. accordingly.Doesn't support quick charging so it takes time for charging but the battery backup is worth .My Verdict would be if you are getting so many features fr a price of 6499 ..it's worth buying ..A thumbs up from me.👍👍👍\\n\\nRead more\"],\n",
       " ['\\n\\n  Best Product Thnx for Amazon.in\\n\\nRead more'],\n",
       " ['\\n\\n  Camera quality is not good. It is mentioned as 13mp but the motion of the camera is like 2mp. Phone is very slow in operation even though it is 3gb RAM . More over it is MADE IN CHINA.\\n\\nRead more'],\n",
       " ['\\n\\n  Super vivo v17\\n\\nRead more'],\n",
       " [\"\\n\\n  Not so good phone waste of moneyDisplay-10/10 .best 👍great display super amoledPort-10/10..👍2+1 port which is Indian required..Proccessor-5/10.👎👎.22k price and proccesor p95 r u kidding me... If you want to buy in terms of display camera then don't buy this phone.. Main thing which phone is required processors... After some days you feel lacking some timesCamera-7/10 👎averageFingers print-6/10 👎averageFacelock-8/10👍 goodYou choose poco x2 or wait some time m51 Samsung or redmi k20 pro\\n\\nRead more\"],\n",
       " ['\\n\\n  No finger print....there is vast color difference in picture & actual . there is no matching in SEA BLUE color. piece received with DARK Blue colorotherwise good gadget at this price.\\n\\nRead more'],\n",
       " [\"\\n\\n  Not so good phone waste of moneyDisplay-10/10 .best 👍great display super amoledPort-10/10..👍2+1 port which is Indian required..Proccessor-5/10.👎👎.22k price and proccesor p95 r u kidding me... If you want to buy in terms of display camera then don't buy this phone.. Main thing which phone is required processors... After some days you feel lacking some timesCamera-7/10 👎averageFingers print-6/10 👎averageFacelock-8/10👍 goodYou choose poco x2 or wait some time m51 Samsung or redmi k20 pro\\n\\nRead more\"],\n",
       " [\"\\n\\n  Very bad product don't buy 😢\\n\\nRead more\"],\n",
       " ['\\n\\n  Dont buyig this is product its third class catergory phone plz guyiz dont buying this phone its humble request d\\n\\nRead more'],\n",
       " [\"\\n\\n  Pros:1) Clean and bloatfree OxygenOS, which runs as smooth as they come.2) AMOLED screen and 90Hz refresh rate really go along to make the display above average.3) Battery life is decent and will last a day on normal usage.4) Sound quality is good and modestly loud. (Drawback in Cons)5) The design actually fits the hand well as it is shorter than usual on breadth, and a bit more on length, all the more better viewing experience.6) Gaming performance is average. (Similar phones in this range have better gaming performances)7) The phone looks and feels premium while using.8) The alert slider makes it very convenient to switch between different modes.9) Face Unlock is as fast as other OnePlus phones. (Very very fast)Cons:1) The camera is not as good as it was expected. The macro lens is pretty useless, and the main camera lacks depth and the colors aren't as vibrant as OnePlus 8. A bit too much of beautification was there in selfie shots. 4K video recording @ 60fps is absent but 1080@60fps performance is quite good. (The camera is better than most phones out there but it isn't what we were promised)2) No headphone jack.3) The mono speaker is on the bottom right of the phone, which tends to get covered by your hand while using. Also, being on just one side of the phone, the audio isn't as well delivered as it is on a stereo speaker.4) No expandable memory slot.5) The plastic frame (doesn't look like plastic but it is) is a worrying thing and makes the phone *comparatively* less durable.6) Fingerprint scanner being under the screen isn't as quick as a traditional fingerprint scanner on the back.Recommendation: If you're looking for a phone which delivers high performance and smooth interface for your daily use, go for it.But if your prime purpose is gaming, there are better options available.Also, if you're expecting flagship camera performance, you might want to consider other phones. (Pixel 4a is about to release, that's far better probably)Update: Pixel 4a camera is surely much better that Nord's camera.\\n\\nRead more\"],\n",
       " ['\\n\\n  Awesome mobile at this price point\\n\\nRead more'],\n",
       " ['\\n\\n  Very Good Mobile, best for battery, onces charged 2 days battery with WiFi on and with 2 SIM.Camera 4 star ratingBattery 5 star rating2 SIM+Memory card slotCharger is 18w and it takes 2hr from 0 to 100%. And you get 2 days of backup.\\n\\nRead more'],\n",
       " ['None'],\n",
       " ['\\n\\n  Price is too high for this specifications. 11000-12000 is the perfect price. Other than everything is fine\\n\\nRead more']]"
      ]
     },
     "execution_count": 22,
     "metadata": {},
     "output_type": "execute_result"
    }
   ],
   "source": [
    "reviews2"
   ]
  },
  {
   "cell_type": "code",
   "execution_count": 23,
   "metadata": {},
   "outputs": [],
   "source": [
    "product_reviews=[]\n",
    "product_titles = []\n",
    "product_ratings =[]\n",
    "pro_names = []\n",
    "product_reviews.extend(reviews2)\n",
    "product_titles.extend(titles2)\n",
    "product_ratings.extend(ratings2)\n",
    "pro_names.extend(product_names)\n"
   ]
  },
  {
   "cell_type": "code",
   "execution_count": 29,
   "metadata": {},
   "outputs": [],
   "source": [
    "d={\n",
    "    \"ASIN\":asins,\n",
    "    \"Reviews\":product_reviews,\n",
    "    \"Titles\":product_titles,\n",
    "    \"Ratings\":product_ratings,\n",
    "    \"Product_Names\": pro_names\n",
    "}"
   ]
  },
  {
   "cell_type": "code",
   "execution_count": 30,
   "metadata": {},
   "outputs": [],
   "source": [
    "import pandas as pd\n",
    "data = pd.DataFrame(d)"
   ]
  },
  {
   "cell_type": "code",
   "execution_count": 31,
   "metadata": {},
   "outputs": [
    {
     "data": {
      "text/html": [
       "<div>\n",
       "<style scoped>\n",
       "    .dataframe tbody tr th:only-of-type {\n",
       "        vertical-align: middle;\n",
       "    }\n",
       "\n",
       "    .dataframe tbody tr th {\n",
       "        vertical-align: top;\n",
       "    }\n",
       "\n",
       "    .dataframe thead th {\n",
       "        text-align: right;\n",
       "    }\n",
       "</style>\n",
       "<table border=\"1\" class=\"dataframe\">\n",
       "  <thead>\n",
       "    <tr style=\"text-align: right;\">\n",
       "      <th></th>\n",
       "      <th>ASIN</th>\n",
       "      <th>Reviews</th>\n",
       "      <th>Titles</th>\n",
       "      <th>Ratings</th>\n",
       "      <th>Product_Names</th>\n",
       "    </tr>\n",
       "  </thead>\n",
       "  <tbody>\n",
       "    <tr>\n",
       "      <th>0</th>\n",
       "      <td>B07X4R63DF</td>\n",
       "      <td>[\\n\\n   Defective product shipped.. reported w...</td>\n",
       "      <td>[\\nPray you don't receive a defective product\\n]</td>\n",
       "      <td>[4.0 out of 5 stars]</td>\n",
       "      <td>[\\n\\n\\n\\n\\n\\n\\n\\nRedmi 8A Dual (Sea Blue, 2GB ...</td>\n",
       "    </tr>\n",
       "    <tr>\n",
       "      <th>1</th>\n",
       "      <td>B086KCCMCP</td>\n",
       "      <td>[\\n\\n  Damaged product\\n\\nRead more]</td>\n",
       "      <td>[\\nVery chipper quality\\n]</td>\n",
       "      <td>[3.9 out of 5 stars]</td>\n",
       "      <td>[\\n\\n\\n\\n\\n\\n\\n\\nSamsung Galaxy M01 (Black, 3G...</td>\n",
       "    </tr>\n",
       "    <tr>\n",
       "      <th>2</th>\n",
       "      <td>B07HGJJ559</td>\n",
       "      <td>[\\n\\n  Update (15/08/2020):Never give a chance...</td>\n",
       "      <td>[\\nValue For Money !! Go for it\\n]</td>\n",
       "      <td>[4.2 out of 5 stars]</td>\n",
       "      <td>[\\n\\n\\n\\n\\n\\n\\n\\nSamsung Galaxy M21 (Midnight ...</td>\n",
       "    </tr>\n",
       "    <tr>\n",
       "      <th>3</th>\n",
       "      <td>B089MQ622N</td>\n",
       "      <td>[\\n\\n  Thank you samsung and Amazon for timely...</td>\n",
       "      <td>[\\n#samsunghitsbullseye\\n]</td>\n",
       "      <td>[3.1 out of 5 stars]</td>\n",
       "      <td>[\\n\\n\\n\\n\\n\\n\\n\\nSamsung Galaxy M01 Core (Blac...</td>\n",
       "    </tr>\n",
       "    <tr>\n",
       "      <th>4</th>\n",
       "      <td>B07SDPJ4XJ</td>\n",
       "      <td>[\\n\\n  Brought this phone for my wife who is d...</td>\n",
       "      <td>[\\nGood opportunity for oppo lovers to upgrade\\n]</td>\n",
       "      <td>[4.2 out of 5 stars]</td>\n",
       "      <td>[\\n\\n\\n\\n\\n\\n\\n\\nOPPO A5 2020 (Dazzling White,...</td>\n",
       "    </tr>\n",
       "  </tbody>\n",
       "</table>\n",
       "</div>"
      ],
      "text/plain": [
       "         ASIN                                            Reviews  \\\n",
       "0  B07X4R63DF  [\\n\\n   Defective product shipped.. reported w...   \n",
       "1  B086KCCMCP               [\\n\\n  Damaged product\\n\\nRead more]   \n",
       "2  B07HGJJ559  [\\n\\n  Update (15/08/2020):Never give a chance...   \n",
       "3  B089MQ622N  [\\n\\n  Thank you samsung and Amazon for timely...   \n",
       "4  B07SDPJ4XJ  [\\n\\n  Brought this phone for my wife who is d...   \n",
       "\n",
       "                                              Titles               Ratings  \\\n",
       "0   [\\nPray you don't receive a defective product\\n]  [4.0 out of 5 stars]   \n",
       "1                         [\\nVery chipper quality\\n]  [3.9 out of 5 stars]   \n",
       "2                 [\\nValue For Money !! Go for it\\n]  [4.2 out of 5 stars]   \n",
       "3                         [\\n#samsunghitsbullseye\\n]  [3.1 out of 5 stars]   \n",
       "4  [\\nGood opportunity for oppo lovers to upgrade\\n]  [4.2 out of 5 stars]   \n",
       "\n",
       "                                       Product_Names  \n",
       "0  [\\n\\n\\n\\n\\n\\n\\n\\nRedmi 8A Dual (Sea Blue, 2GB ...  \n",
       "1  [\\n\\n\\n\\n\\n\\n\\n\\nSamsung Galaxy M01 (Black, 3G...  \n",
       "2  [\\n\\n\\n\\n\\n\\n\\n\\nSamsung Galaxy M21 (Midnight ...  \n",
       "3  [\\n\\n\\n\\n\\n\\n\\n\\nSamsung Galaxy M01 Core (Blac...  \n",
       "4  [\\n\\n\\n\\n\\n\\n\\n\\nOPPO A5 2020 (Dazzling White,...  "
      ]
     },
     "execution_count": 31,
     "metadata": {},
     "output_type": "execute_result"
    }
   ],
   "source": [
    "data.head()"
   ]
  },
  {
   "cell_type": "code",
   "execution_count": 32,
   "metadata": {},
   "outputs": [],
   "source": [
    "import os\n",
    "os.chdir(\"D:\\\\firefox downloads\\\\73strings\")"
   ]
  },
  {
   "cell_type": "code",
   "execution_count": 33,
   "metadata": {},
   "outputs": [],
   "source": [
    "data.to_csv(\"amazon_reviews_names.csv\", sep=',',index=False)"
   ]
  },
  {
   "cell_type": "code",
   "execution_count": 34,
   "metadata": {},
   "outputs": [],
   "source": [
    "d1={\n",
    "    \"ASIN\":asins,\n",
    "    \"Reviews\":product_reviews,\n",
    "    \"Titles\":product_titles,\n",
    "    \"Ratings\":product_ratings,\n",
    "}"
   ]
  },
  {
   "cell_type": "code",
   "execution_count": 35,
   "metadata": {},
   "outputs": [],
   "source": [
    "data1 = pd.DataFrame(d1)"
   ]
  },
  {
   "cell_type": "code",
   "execution_count": 36,
   "metadata": {},
   "outputs": [
    {
     "data": {
      "text/html": [
       "<div>\n",
       "<style scoped>\n",
       "    .dataframe tbody tr th:only-of-type {\n",
       "        vertical-align: middle;\n",
       "    }\n",
       "\n",
       "    .dataframe tbody tr th {\n",
       "        vertical-align: top;\n",
       "    }\n",
       "\n",
       "    .dataframe thead th {\n",
       "        text-align: right;\n",
       "    }\n",
       "</style>\n",
       "<table border=\"1\" class=\"dataframe\">\n",
       "  <thead>\n",
       "    <tr style=\"text-align: right;\">\n",
       "      <th></th>\n",
       "      <th>ASIN</th>\n",
       "      <th>Reviews</th>\n",
       "      <th>Titles</th>\n",
       "      <th>Ratings</th>\n",
       "    </tr>\n",
       "  </thead>\n",
       "  <tbody>\n",
       "    <tr>\n",
       "      <th>0</th>\n",
       "      <td>B07X4R63DF</td>\n",
       "      <td>[\\n\\n   Defective product shipped.. reported w...</td>\n",
       "      <td>[\\nPray you don't receive a defective product\\n]</td>\n",
       "      <td>[4.0 out of 5 stars]</td>\n",
       "    </tr>\n",
       "    <tr>\n",
       "      <th>1</th>\n",
       "      <td>B086KCCMCP</td>\n",
       "      <td>[\\n\\n  Damaged product\\n\\nRead more]</td>\n",
       "      <td>[\\nVery chipper quality\\n]</td>\n",
       "      <td>[3.9 out of 5 stars]</td>\n",
       "    </tr>\n",
       "    <tr>\n",
       "      <th>2</th>\n",
       "      <td>B07HGJJ559</td>\n",
       "      <td>[\\n\\n  Update (15/08/2020):Never give a chance...</td>\n",
       "      <td>[\\nValue For Money !! Go for it\\n]</td>\n",
       "      <td>[4.2 out of 5 stars]</td>\n",
       "    </tr>\n",
       "    <tr>\n",
       "      <th>3</th>\n",
       "      <td>B089MQ622N</td>\n",
       "      <td>[\\n\\n  Thank you samsung and Amazon for timely...</td>\n",
       "      <td>[\\n#samsunghitsbullseye\\n]</td>\n",
       "      <td>[3.1 out of 5 stars]</td>\n",
       "    </tr>\n",
       "    <tr>\n",
       "      <th>4</th>\n",
       "      <td>B07SDPJ4XJ</td>\n",
       "      <td>[\\n\\n  Brought this phone for my wife who is d...</td>\n",
       "      <td>[\\nGood opportunity for oppo lovers to upgrade\\n]</td>\n",
       "      <td>[4.2 out of 5 stars]</td>\n",
       "    </tr>\n",
       "  </tbody>\n",
       "</table>\n",
       "</div>"
      ],
      "text/plain": [
       "         ASIN                                            Reviews  \\\n",
       "0  B07X4R63DF  [\\n\\n   Defective product shipped.. reported w...   \n",
       "1  B086KCCMCP               [\\n\\n  Damaged product\\n\\nRead more]   \n",
       "2  B07HGJJ559  [\\n\\n  Update (15/08/2020):Never give a chance...   \n",
       "3  B089MQ622N  [\\n\\n  Thank you samsung and Amazon for timely...   \n",
       "4  B07SDPJ4XJ  [\\n\\n  Brought this phone for my wife who is d...   \n",
       "\n",
       "                                              Titles               Ratings  \n",
       "0   [\\nPray you don't receive a defective product\\n]  [4.0 out of 5 stars]  \n",
       "1                         [\\nVery chipper quality\\n]  [3.9 out of 5 stars]  \n",
       "2                 [\\nValue For Money !! Go for it\\n]  [4.2 out of 5 stars]  \n",
       "3                         [\\n#samsunghitsbullseye\\n]  [3.1 out of 5 stars]  \n",
       "4  [\\nGood opportunity for oppo lovers to upgrade\\n]  [4.2 out of 5 stars]  "
      ]
     },
     "execution_count": 36,
     "metadata": {},
     "output_type": "execute_result"
    }
   ],
   "source": [
    "data1.head()"
   ]
  },
  {
   "cell_type": "code",
   "execution_count": 37,
   "metadata": {},
   "outputs": [],
   "source": [
    "data1.to_csv(\"amazon_reviews1.csv\", sep=',',index=False)"
   ]
  },
  {
   "cell_type": "markdown",
   "metadata": {},
   "source": [
    "# Data Cleaning and Preprocessing"
   ]
  },
  {
   "cell_type": "code",
   "execution_count": 38,
   "metadata": {},
   "outputs": [],
   "source": [
    "import pandas as pd \n",
    "import matplotlib.pyplot as plt \n",
    "import os\n",
    "import numpy as np\n",
    "import re\n",
    "\n",
    "os.chdir(\"D:\\\\firefox downloads\\\\73strings\")"
   ]
  },
  {
   "cell_type": "code",
   "execution_count": 39,
   "metadata": {},
   "outputs": [],
   "source": [
    "data = pd.read_csv(\"amazon_reviews1.csv\")"
   ]
  },
  {
   "cell_type": "code",
   "execution_count": 40,
   "metadata": {},
   "outputs": [
    {
     "data": {
      "text/html": [
       "<div>\n",
       "<style scoped>\n",
       "    .dataframe tbody tr th:only-of-type {\n",
       "        vertical-align: middle;\n",
       "    }\n",
       "\n",
       "    .dataframe tbody tr th {\n",
       "        vertical-align: top;\n",
       "    }\n",
       "\n",
       "    .dataframe thead th {\n",
       "        text-align: right;\n",
       "    }\n",
       "</style>\n",
       "<table border=\"1\" class=\"dataframe\">\n",
       "  <thead>\n",
       "    <tr style=\"text-align: right;\">\n",
       "      <th></th>\n",
       "      <th>ASIN</th>\n",
       "      <th>Reviews</th>\n",
       "      <th>Titles</th>\n",
       "      <th>Ratings</th>\n",
       "    </tr>\n",
       "  </thead>\n",
       "  <tbody>\n",
       "    <tr>\n",
       "      <th>0</th>\n",
       "      <td>B07X4R63DF</td>\n",
       "      <td>['\\n\\n  \\xa0Defective product shipped.. report...</td>\n",
       "      <td>[\"\\nPray you don't receive a defective product...</td>\n",
       "      <td>['4.0 out of 5 stars']</td>\n",
       "    </tr>\n",
       "    <tr>\n",
       "      <th>1</th>\n",
       "      <td>B086KCCMCP</td>\n",
       "      <td>['\\n\\n  Damaged product\\n\\nRead more']</td>\n",
       "      <td>['\\nVery chipper quality\\n']</td>\n",
       "      <td>['3.9 out of 5 stars']</td>\n",
       "    </tr>\n",
       "    <tr>\n",
       "      <th>2</th>\n",
       "      <td>B07HGJJ559</td>\n",
       "      <td>[\"\\n\\n  Update (15/08/2020):Never give a chanc...</td>\n",
       "      <td>['\\nValue For Money !! Go for it\\n']</td>\n",
       "      <td>['4.2 out of 5 stars']</td>\n",
       "    </tr>\n",
       "    <tr>\n",
       "      <th>3</th>\n",
       "      <td>B089MQ622N</td>\n",
       "      <td>[\"\\n\\n  Thank you samsung and Amazon for timel...</td>\n",
       "      <td>['\\n#samsunghitsbullseye\\n']</td>\n",
       "      <td>['3.1 out of 5 stars']</td>\n",
       "    </tr>\n",
       "    <tr>\n",
       "      <th>4</th>\n",
       "      <td>B07SDPJ4XJ</td>\n",
       "      <td>['\\n\\n  Brought this phone for my wife who is ...</td>\n",
       "      <td>['\\nGood opportunity for oppo lovers to upgrad...</td>\n",
       "      <td>['4.2 out of 5 stars']</td>\n",
       "    </tr>\n",
       "  </tbody>\n",
       "</table>\n",
       "</div>"
      ],
      "text/plain": [
       "         ASIN                                            Reviews  \\\n",
       "0  B07X4R63DF  ['\\n\\n  \\xa0Defective product shipped.. report...   \n",
       "1  B086KCCMCP             ['\\n\\n  Damaged product\\n\\nRead more']   \n",
       "2  B07HGJJ559  [\"\\n\\n  Update (15/08/2020):Never give a chanc...   \n",
       "3  B089MQ622N  [\"\\n\\n  Thank you samsung and Amazon for timel...   \n",
       "4  B07SDPJ4XJ  ['\\n\\n  Brought this phone for my wife who is ...   \n",
       "\n",
       "                                              Titles                 Ratings  \n",
       "0  [\"\\nPray you don't receive a defective product...  ['4.0 out of 5 stars']  \n",
       "1                       ['\\nVery chipper quality\\n']  ['3.9 out of 5 stars']  \n",
       "2               ['\\nValue For Money !! Go for it\\n']  ['4.2 out of 5 stars']  \n",
       "3                       ['\\n#samsunghitsbullseye\\n']  ['3.1 out of 5 stars']  \n",
       "4  ['\\nGood opportunity for oppo lovers to upgrad...  ['4.2 out of 5 stars']  "
      ]
     },
     "execution_count": 40,
     "metadata": {},
     "output_type": "execute_result"
    }
   ],
   "source": [
    "data.head()"
   ]
  },
  {
   "cell_type": "markdown",
   "metadata": {},
   "source": [
    "We can see that every other column except for the ASIN column is a list of values we need to convert those values into string first and then convert **Ratings** column into integer type"
   ]
  },
  {
   "cell_type": "code",
   "execution_count": 41,
   "metadata": {},
   "outputs": [],
   "source": [
    "#how to convert each value in a column pandas from list to string\n",
    "#https://stackoverflow.com/questions/37347725/converting-a-panda-df-list-into-a-string/37347837\n",
    "data['reviews'] = data[\"Reviews\"].astype(str).str.replace('\\[|\\]|\\'', '')"
   ]
  },
  {
   "cell_type": "code",
   "execution_count": 42,
   "metadata": {},
   "outputs": [
    {
     "data": {
      "text/html": [
       "<div>\n",
       "<style scoped>\n",
       "    .dataframe tbody tr th:only-of-type {\n",
       "        vertical-align: middle;\n",
       "    }\n",
       "\n",
       "    .dataframe tbody tr th {\n",
       "        vertical-align: top;\n",
       "    }\n",
       "\n",
       "    .dataframe thead th {\n",
       "        text-align: right;\n",
       "    }\n",
       "</style>\n",
       "<table border=\"1\" class=\"dataframe\">\n",
       "  <thead>\n",
       "    <tr style=\"text-align: right;\">\n",
       "      <th></th>\n",
       "      <th>ASIN</th>\n",
       "      <th>Reviews</th>\n",
       "      <th>Titles</th>\n",
       "      <th>Ratings</th>\n",
       "      <th>reviews</th>\n",
       "    </tr>\n",
       "  </thead>\n",
       "  <tbody>\n",
       "    <tr>\n",
       "      <th>0</th>\n",
       "      <td>B07X4R63DF</td>\n",
       "      <td>['\\n\\n  \\xa0Defective product shipped.. report...</td>\n",
       "      <td>[\"\\nPray you don't receive a defective product...</td>\n",
       "      <td>['4.0 out of 5 stars']</td>\n",
       "      <td>\\n\\n  \\xa0Defective product shipped.. reported...</td>\n",
       "    </tr>\n",
       "    <tr>\n",
       "      <th>1</th>\n",
       "      <td>B086KCCMCP</td>\n",
       "      <td>['\\n\\n  Damaged product\\n\\nRead more']</td>\n",
       "      <td>['\\nVery chipper quality\\n']</td>\n",
       "      <td>['3.9 out of 5 stars']</td>\n",
       "      <td>\\n\\n  Damaged product\\n\\nRead more</td>\n",
       "    </tr>\n",
       "    <tr>\n",
       "      <th>2</th>\n",
       "      <td>B07HGJJ559</td>\n",
       "      <td>[\"\\n\\n  Update (15/08/2020):Never give a chanc...</td>\n",
       "      <td>['\\nValue For Money !! Go for it\\n']</td>\n",
       "      <td>['4.2 out of 5 stars']</td>\n",
       "      <td>\"\\n\\n  Update (15/08/2020):Never give a chance...</td>\n",
       "    </tr>\n",
       "    <tr>\n",
       "      <th>3</th>\n",
       "      <td>B089MQ622N</td>\n",
       "      <td>[\"\\n\\n  Thank you samsung and Amazon for timel...</td>\n",
       "      <td>['\\n#samsunghitsbullseye\\n']</td>\n",
       "      <td>['3.1 out of 5 stars']</td>\n",
       "      <td>\"\\n\\n  Thank you samsung and Amazon for timely...</td>\n",
       "    </tr>\n",
       "    <tr>\n",
       "      <th>4</th>\n",
       "      <td>B07SDPJ4XJ</td>\n",
       "      <td>['\\n\\n  Brought this phone for my wife who is ...</td>\n",
       "      <td>['\\nGood opportunity for oppo lovers to upgrad...</td>\n",
       "      <td>['4.2 out of 5 stars']</td>\n",
       "      <td>\\n\\n  Brought this phone for my wife who is di...</td>\n",
       "    </tr>\n",
       "  </tbody>\n",
       "</table>\n",
       "</div>"
      ],
      "text/plain": [
       "         ASIN                                            Reviews  \\\n",
       "0  B07X4R63DF  ['\\n\\n  \\xa0Defective product shipped.. report...   \n",
       "1  B086KCCMCP             ['\\n\\n  Damaged product\\n\\nRead more']   \n",
       "2  B07HGJJ559  [\"\\n\\n  Update (15/08/2020):Never give a chanc...   \n",
       "3  B089MQ622N  [\"\\n\\n  Thank you samsung and Amazon for timel...   \n",
       "4  B07SDPJ4XJ  ['\\n\\n  Brought this phone for my wife who is ...   \n",
       "\n",
       "                                              Titles                 Ratings  \\\n",
       "0  [\"\\nPray you don't receive a defective product...  ['4.0 out of 5 stars']   \n",
       "1                       ['\\nVery chipper quality\\n']  ['3.9 out of 5 stars']   \n",
       "2               ['\\nValue For Money !! Go for it\\n']  ['4.2 out of 5 stars']   \n",
       "3                       ['\\n#samsunghitsbullseye\\n']  ['3.1 out of 5 stars']   \n",
       "4  ['\\nGood opportunity for oppo lovers to upgrad...  ['4.2 out of 5 stars']   \n",
       "\n",
       "                                             reviews  \n",
       "0  \\n\\n  \\xa0Defective product shipped.. reported...  \n",
       "1                 \\n\\n  Damaged product\\n\\nRead more  \n",
       "2  \"\\n\\n  Update (15/08/2020):Never give a chance...  \n",
       "3  \"\\n\\n  Thank you samsung and Amazon for timely...  \n",
       "4  \\n\\n  Brought this phone for my wife who is di...  "
      ]
     },
     "execution_count": 42,
     "metadata": {},
     "output_type": "execute_result"
    }
   ],
   "source": [
    "data.head()"
   ]
  },
  {
   "cell_type": "code",
   "execution_count": 43,
   "metadata": {},
   "outputs": [
    {
     "data": {
      "text/html": [
       "<div>\n",
       "<style scoped>\n",
       "    .dataframe tbody tr th:only-of-type {\n",
       "        vertical-align: middle;\n",
       "    }\n",
       "\n",
       "    .dataframe tbody tr th {\n",
       "        vertical-align: top;\n",
       "    }\n",
       "\n",
       "    .dataframe thead th {\n",
       "        text-align: right;\n",
       "    }\n",
       "</style>\n",
       "<table border=\"1\" class=\"dataframe\">\n",
       "  <thead>\n",
       "    <tr style=\"text-align: right;\">\n",
       "      <th></th>\n",
       "      <th>ASIN</th>\n",
       "      <th>Reviews</th>\n",
       "      <th>Titles</th>\n",
       "      <th>Ratings</th>\n",
       "      <th>reviews</th>\n",
       "      <th>ratings</th>\n",
       "    </tr>\n",
       "  </thead>\n",
       "  <tbody>\n",
       "    <tr>\n",
       "      <th>0</th>\n",
       "      <td>B07X4R63DF</td>\n",
       "      <td>['\\n\\n  \\xa0Defective product shipped.. report...</td>\n",
       "      <td>[\"\\nPray you don't receive a defective product...</td>\n",
       "      <td>['4.0 out of 5 stars']</td>\n",
       "      <td>\\n\\n  \\xa0Defective product shipped.. reported...</td>\n",
       "      <td>4.0 out of 5 stars</td>\n",
       "    </tr>\n",
       "    <tr>\n",
       "      <th>1</th>\n",
       "      <td>B086KCCMCP</td>\n",
       "      <td>['\\n\\n  Damaged product\\n\\nRead more']</td>\n",
       "      <td>['\\nVery chipper quality\\n']</td>\n",
       "      <td>['3.9 out of 5 stars']</td>\n",
       "      <td>\\n\\n  Damaged product\\n\\nRead more</td>\n",
       "      <td>3.9 out of 5 stars</td>\n",
       "    </tr>\n",
       "    <tr>\n",
       "      <th>2</th>\n",
       "      <td>B07HGJJ559</td>\n",
       "      <td>[\"\\n\\n  Update (15/08/2020):Never give a chanc...</td>\n",
       "      <td>['\\nValue For Money !! Go for it\\n']</td>\n",
       "      <td>['4.2 out of 5 stars']</td>\n",
       "      <td>\"\\n\\n  Update (15/08/2020):Never give a chance...</td>\n",
       "      <td>4.2 out of 5 stars</td>\n",
       "    </tr>\n",
       "    <tr>\n",
       "      <th>3</th>\n",
       "      <td>B089MQ622N</td>\n",
       "      <td>[\"\\n\\n  Thank you samsung and Amazon for timel...</td>\n",
       "      <td>['\\n#samsunghitsbullseye\\n']</td>\n",
       "      <td>['3.1 out of 5 stars']</td>\n",
       "      <td>\"\\n\\n  Thank you samsung and Amazon for timely...</td>\n",
       "      <td>3.1 out of 5 stars</td>\n",
       "    </tr>\n",
       "    <tr>\n",
       "      <th>4</th>\n",
       "      <td>B07SDPJ4XJ</td>\n",
       "      <td>['\\n\\n  Brought this phone for my wife who is ...</td>\n",
       "      <td>['\\nGood opportunity for oppo lovers to upgrad...</td>\n",
       "      <td>['4.2 out of 5 stars']</td>\n",
       "      <td>\\n\\n  Brought this phone for my wife who is di...</td>\n",
       "      <td>4.2 out of 5 stars</td>\n",
       "    </tr>\n",
       "  </tbody>\n",
       "</table>\n",
       "</div>"
      ],
      "text/plain": [
       "         ASIN                                            Reviews  \\\n",
       "0  B07X4R63DF  ['\\n\\n  \\xa0Defective product shipped.. report...   \n",
       "1  B086KCCMCP             ['\\n\\n  Damaged product\\n\\nRead more']   \n",
       "2  B07HGJJ559  [\"\\n\\n  Update (15/08/2020):Never give a chanc...   \n",
       "3  B089MQ622N  [\"\\n\\n  Thank you samsung and Amazon for timel...   \n",
       "4  B07SDPJ4XJ  ['\\n\\n  Brought this phone for my wife who is ...   \n",
       "\n",
       "                                              Titles                 Ratings  \\\n",
       "0  [\"\\nPray you don't receive a defective product...  ['4.0 out of 5 stars']   \n",
       "1                       ['\\nVery chipper quality\\n']  ['3.9 out of 5 stars']   \n",
       "2               ['\\nValue For Money !! Go for it\\n']  ['4.2 out of 5 stars']   \n",
       "3                       ['\\n#samsunghitsbullseye\\n']  ['3.1 out of 5 stars']   \n",
       "4  ['\\nGood opportunity for oppo lovers to upgrad...  ['4.2 out of 5 stars']   \n",
       "\n",
       "                                             reviews             ratings  \n",
       "0  \\n\\n  \\xa0Defective product shipped.. reported...  4.0 out of 5 stars  \n",
       "1                 \\n\\n  Damaged product\\n\\nRead more  3.9 out of 5 stars  \n",
       "2  \"\\n\\n  Update (15/08/2020):Never give a chance...  4.2 out of 5 stars  \n",
       "3  \"\\n\\n  Thank you samsung and Amazon for timely...  3.1 out of 5 stars  \n",
       "4  \\n\\n  Brought this phone for my wife who is di...  4.2 out of 5 stars  "
      ]
     },
     "execution_count": 43,
     "metadata": {},
     "output_type": "execute_result"
    }
   ],
   "source": [
    "#how to convert each value in a column pandas from list to string\n",
    "#https://stackoverflow.com/questions/37347725/converting-a-panda-df-list-into-a-string/37347837\n",
    "data['ratings'] = data[\"Ratings\"].astype(str).str.replace('\\[|\\]|\\'', '')\n",
    "data.head()"
   ]
  },
  {
   "cell_type": "code",
   "execution_count": 44,
   "metadata": {},
   "outputs": [
    {
     "data": {
      "text/html": [
       "<div>\n",
       "<style scoped>\n",
       "    .dataframe tbody tr th:only-of-type {\n",
       "        vertical-align: middle;\n",
       "    }\n",
       "\n",
       "    .dataframe tbody tr th {\n",
       "        vertical-align: top;\n",
       "    }\n",
       "\n",
       "    .dataframe thead th {\n",
       "        text-align: right;\n",
       "    }\n",
       "</style>\n",
       "<table border=\"1\" class=\"dataframe\">\n",
       "  <thead>\n",
       "    <tr style=\"text-align: right;\">\n",
       "      <th></th>\n",
       "      <th>ASIN</th>\n",
       "      <th>Reviews</th>\n",
       "      <th>Titles</th>\n",
       "      <th>Ratings</th>\n",
       "      <th>reviews</th>\n",
       "      <th>ratings</th>\n",
       "      <th>titles</th>\n",
       "    </tr>\n",
       "  </thead>\n",
       "  <tbody>\n",
       "    <tr>\n",
       "      <th>0</th>\n",
       "      <td>B07X4R63DF</td>\n",
       "      <td>['\\n\\n  \\xa0Defective product shipped.. report...</td>\n",
       "      <td>[\"\\nPray you don't receive a defective product...</td>\n",
       "      <td>['4.0 out of 5 stars']</td>\n",
       "      <td>\\n\\n  \\xa0Defective product shipped.. reported...</td>\n",
       "      <td>4.0 out of 5 stars</td>\n",
       "      <td>\"\\nPray you dont receive a defective product\\n\"</td>\n",
       "    </tr>\n",
       "    <tr>\n",
       "      <th>1</th>\n",
       "      <td>B086KCCMCP</td>\n",
       "      <td>['\\n\\n  Damaged product\\n\\nRead more']</td>\n",
       "      <td>['\\nVery chipper quality\\n']</td>\n",
       "      <td>['3.9 out of 5 stars']</td>\n",
       "      <td>\\n\\n  Damaged product\\n\\nRead more</td>\n",
       "      <td>3.9 out of 5 stars</td>\n",
       "      <td>\\nVery chipper quality\\n</td>\n",
       "    </tr>\n",
       "    <tr>\n",
       "      <th>2</th>\n",
       "      <td>B07HGJJ559</td>\n",
       "      <td>[\"\\n\\n  Update (15/08/2020):Never give a chanc...</td>\n",
       "      <td>['\\nValue For Money !! Go for it\\n']</td>\n",
       "      <td>['4.2 out of 5 stars']</td>\n",
       "      <td>\"\\n\\n  Update (15/08/2020):Never give a chance...</td>\n",
       "      <td>4.2 out of 5 stars</td>\n",
       "      <td>\\nValue For Money !! Go for it\\n</td>\n",
       "    </tr>\n",
       "    <tr>\n",
       "      <th>3</th>\n",
       "      <td>B089MQ622N</td>\n",
       "      <td>[\"\\n\\n  Thank you samsung and Amazon for timel...</td>\n",
       "      <td>['\\n#samsunghitsbullseye\\n']</td>\n",
       "      <td>['3.1 out of 5 stars']</td>\n",
       "      <td>\"\\n\\n  Thank you samsung and Amazon for timely...</td>\n",
       "      <td>3.1 out of 5 stars</td>\n",
       "      <td>\\n#samsunghitsbullseye\\n</td>\n",
       "    </tr>\n",
       "    <tr>\n",
       "      <th>4</th>\n",
       "      <td>B07SDPJ4XJ</td>\n",
       "      <td>['\\n\\n  Brought this phone for my wife who is ...</td>\n",
       "      <td>['\\nGood opportunity for oppo lovers to upgrad...</td>\n",
       "      <td>['4.2 out of 5 stars']</td>\n",
       "      <td>\\n\\n  Brought this phone for my wife who is di...</td>\n",
       "      <td>4.2 out of 5 stars</td>\n",
       "      <td>\\nGood opportunity for oppo lovers to upgrade\\n</td>\n",
       "    </tr>\n",
       "  </tbody>\n",
       "</table>\n",
       "</div>"
      ],
      "text/plain": [
       "         ASIN                                            Reviews  \\\n",
       "0  B07X4R63DF  ['\\n\\n  \\xa0Defective product shipped.. report...   \n",
       "1  B086KCCMCP             ['\\n\\n  Damaged product\\n\\nRead more']   \n",
       "2  B07HGJJ559  [\"\\n\\n  Update (15/08/2020):Never give a chanc...   \n",
       "3  B089MQ622N  [\"\\n\\n  Thank you samsung and Amazon for timel...   \n",
       "4  B07SDPJ4XJ  ['\\n\\n  Brought this phone for my wife who is ...   \n",
       "\n",
       "                                              Titles                 Ratings  \\\n",
       "0  [\"\\nPray you don't receive a defective product...  ['4.0 out of 5 stars']   \n",
       "1                       ['\\nVery chipper quality\\n']  ['3.9 out of 5 stars']   \n",
       "2               ['\\nValue For Money !! Go for it\\n']  ['4.2 out of 5 stars']   \n",
       "3                       ['\\n#samsunghitsbullseye\\n']  ['3.1 out of 5 stars']   \n",
       "4  ['\\nGood opportunity for oppo lovers to upgrad...  ['4.2 out of 5 stars']   \n",
       "\n",
       "                                             reviews             ratings  \\\n",
       "0  \\n\\n  \\xa0Defective product shipped.. reported...  4.0 out of 5 stars   \n",
       "1                 \\n\\n  Damaged product\\n\\nRead more  3.9 out of 5 stars   \n",
       "2  \"\\n\\n  Update (15/08/2020):Never give a chance...  4.2 out of 5 stars   \n",
       "3  \"\\n\\n  Thank you samsung and Amazon for timely...  3.1 out of 5 stars   \n",
       "4  \\n\\n  Brought this phone for my wife who is di...  4.2 out of 5 stars   \n",
       "\n",
       "                                            titles  \n",
       "0  \"\\nPray you dont receive a defective product\\n\"  \n",
       "1                         \\nVery chipper quality\\n  \n",
       "2                 \\nValue For Money !! Go for it\\n  \n",
       "3                         \\n#samsunghitsbullseye\\n  \n",
       "4  \\nGood opportunity for oppo lovers to upgrade\\n  "
      ]
     },
     "execution_count": 44,
     "metadata": {},
     "output_type": "execute_result"
    }
   ],
   "source": [
    "#how to convert each value in a column pandas from list to string\n",
    "#https://stackoverflow.com/questions/37347725/converting-a-panda-df-list-into-a-string/37347837\n",
    "data['titles'] = data[\"Titles\"].astype(str).str.replace('\\[|\\]|\\'', '')\n",
    "data.head()"
   ]
  },
  {
   "cell_type": "code",
   "execution_count": 45,
   "metadata": {},
   "outputs": [],
   "source": [
    "data.drop([\"Reviews\",\"Titles\",\"Ratings\"],axis = 'columns',inplace=True)"
   ]
  },
  {
   "cell_type": "code",
   "execution_count": 46,
   "metadata": {},
   "outputs": [
    {
     "data": {
      "text/html": [
       "<div>\n",
       "<style scoped>\n",
       "    .dataframe tbody tr th:only-of-type {\n",
       "        vertical-align: middle;\n",
       "    }\n",
       "\n",
       "    .dataframe tbody tr th {\n",
       "        vertical-align: top;\n",
       "    }\n",
       "\n",
       "    .dataframe thead th {\n",
       "        text-align: right;\n",
       "    }\n",
       "</style>\n",
       "<table border=\"1\" class=\"dataframe\">\n",
       "  <thead>\n",
       "    <tr style=\"text-align: right;\">\n",
       "      <th></th>\n",
       "      <th>ASIN</th>\n",
       "      <th>reviews</th>\n",
       "      <th>ratings</th>\n",
       "      <th>titles</th>\n",
       "    </tr>\n",
       "  </thead>\n",
       "  <tbody>\n",
       "    <tr>\n",
       "      <th>0</th>\n",
       "      <td>B07X4R63DF</td>\n",
       "      <td>\\n\\n  \\xa0Defective product shipped.. reported...</td>\n",
       "      <td>4.0 out of 5 stars</td>\n",
       "      <td>\"\\nPray you dont receive a defective product\\n\"</td>\n",
       "    </tr>\n",
       "    <tr>\n",
       "      <th>1</th>\n",
       "      <td>B086KCCMCP</td>\n",
       "      <td>\\n\\n  Damaged product\\n\\nRead more</td>\n",
       "      <td>3.9 out of 5 stars</td>\n",
       "      <td>\\nVery chipper quality\\n</td>\n",
       "    </tr>\n",
       "    <tr>\n",
       "      <th>2</th>\n",
       "      <td>B07HGJJ559</td>\n",
       "      <td>\"\\n\\n  Update (15/08/2020):Never give a chance...</td>\n",
       "      <td>4.2 out of 5 stars</td>\n",
       "      <td>\\nValue For Money !! Go for it\\n</td>\n",
       "    </tr>\n",
       "    <tr>\n",
       "      <th>3</th>\n",
       "      <td>B089MQ622N</td>\n",
       "      <td>\"\\n\\n  Thank you samsung and Amazon for timely...</td>\n",
       "      <td>3.1 out of 5 stars</td>\n",
       "      <td>\\n#samsunghitsbullseye\\n</td>\n",
       "    </tr>\n",
       "    <tr>\n",
       "      <th>4</th>\n",
       "      <td>B07SDPJ4XJ</td>\n",
       "      <td>\\n\\n  Brought this phone for my wife who is di...</td>\n",
       "      <td>4.2 out of 5 stars</td>\n",
       "      <td>\\nGood opportunity for oppo lovers to upgrade\\n</td>\n",
       "    </tr>\n",
       "  </tbody>\n",
       "</table>\n",
       "</div>"
      ],
      "text/plain": [
       "         ASIN                                            reviews  \\\n",
       "0  B07X4R63DF  \\n\\n  \\xa0Defective product shipped.. reported...   \n",
       "1  B086KCCMCP                 \\n\\n  Damaged product\\n\\nRead more   \n",
       "2  B07HGJJ559  \"\\n\\n  Update (15/08/2020):Never give a chance...   \n",
       "3  B089MQ622N  \"\\n\\n  Thank you samsung and Amazon for timely...   \n",
       "4  B07SDPJ4XJ  \\n\\n  Brought this phone for my wife who is di...   \n",
       "\n",
       "              ratings                                           titles  \n",
       "0  4.0 out of 5 stars  \"\\nPray you dont receive a defective product\\n\"  \n",
       "1  3.9 out of 5 stars                         \\nVery chipper quality\\n  \n",
       "2  4.2 out of 5 stars                 \\nValue For Money !! Go for it\\n  \n",
       "3  3.1 out of 5 stars                         \\n#samsunghitsbullseye\\n  \n",
       "4  4.2 out of 5 stars  \\nGood opportunity for oppo lovers to upgrade\\n  "
      ]
     },
     "execution_count": 46,
     "metadata": {},
     "output_type": "execute_result"
    }
   ],
   "source": [
    "data.head()"
   ]
  },
  {
   "cell_type": "code",
   "execution_count": 47,
   "metadata": {},
   "outputs": [
    {
     "data": {
      "text/plain": [
       "(112, 4)"
      ]
     },
     "execution_count": 47,
     "metadata": {},
     "output_type": "execute_result"
    }
   ],
   "source": [
    "data.shape"
   ]
  },
  {
   "cell_type": "markdown",
   "metadata": {},
   "source": [
    "Now we need to clean the text present in the **reviews** columns and **titles** column and also convert our **ratings** columns into float type, we can also drop our asin columns as its a product specific column"
   ]
  },
  {
   "cell_type": "code",
   "execution_count": 48,
   "metadata": {},
   "outputs": [],
   "source": [
    "data.drop(\"ASIN\",axis = \"columns\",inplace=True)"
   ]
  },
  {
   "cell_type": "markdown",
   "metadata": {},
   "source": [
    "## cleaning ratings "
   ]
  },
  {
   "cell_type": "code",
   "execution_count": 49,
   "metadata": {},
   "outputs": [],
   "source": [
    "lst = []\n",
    "for val in data[\"ratings\"]:\n",
    "    x = val[0:3]\n",
    "    try:\n",
    "        lst.append(float(x))\n",
    "    except:\n",
    "        lst.append(np.nan)"
   ]
  },
  {
   "cell_type": "code",
   "execution_count": 50,
   "metadata": {},
   "outputs": [],
   "source": [
    "data[\"score\"] = lst"
   ]
  },
  {
   "cell_type": "code",
   "execution_count": 51,
   "metadata": {},
   "outputs": [
    {
     "data": {
      "text/html": [
       "<div>\n",
       "<style scoped>\n",
       "    .dataframe tbody tr th:only-of-type {\n",
       "        vertical-align: middle;\n",
       "    }\n",
       "\n",
       "    .dataframe tbody tr th {\n",
       "        vertical-align: top;\n",
       "    }\n",
       "\n",
       "    .dataframe thead th {\n",
       "        text-align: right;\n",
       "    }\n",
       "</style>\n",
       "<table border=\"1\" class=\"dataframe\">\n",
       "  <thead>\n",
       "    <tr style=\"text-align: right;\">\n",
       "      <th></th>\n",
       "      <th>reviews</th>\n",
       "      <th>ratings</th>\n",
       "      <th>titles</th>\n",
       "      <th>score</th>\n",
       "    </tr>\n",
       "  </thead>\n",
       "  <tbody>\n",
       "    <tr>\n",
       "      <th>0</th>\n",
       "      <td>\\n\\n  \\xa0Defective product shipped.. reported...</td>\n",
       "      <td>4.0 out of 5 stars</td>\n",
       "      <td>\"\\nPray you dont receive a defective product\\n\"</td>\n",
       "      <td>4.0</td>\n",
       "    </tr>\n",
       "    <tr>\n",
       "      <th>1</th>\n",
       "      <td>\\n\\n  Damaged product\\n\\nRead more</td>\n",
       "      <td>3.9 out of 5 stars</td>\n",
       "      <td>\\nVery chipper quality\\n</td>\n",
       "      <td>3.9</td>\n",
       "    </tr>\n",
       "    <tr>\n",
       "      <th>2</th>\n",
       "      <td>\"\\n\\n  Update (15/08/2020):Never give a chance...</td>\n",
       "      <td>4.2 out of 5 stars</td>\n",
       "      <td>\\nValue For Money !! Go for it\\n</td>\n",
       "      <td>4.2</td>\n",
       "    </tr>\n",
       "    <tr>\n",
       "      <th>3</th>\n",
       "      <td>\"\\n\\n  Thank you samsung and Amazon for timely...</td>\n",
       "      <td>3.1 out of 5 stars</td>\n",
       "      <td>\\n#samsunghitsbullseye\\n</td>\n",
       "      <td>3.1</td>\n",
       "    </tr>\n",
       "    <tr>\n",
       "      <th>4</th>\n",
       "      <td>\\n\\n  Brought this phone for my wife who is di...</td>\n",
       "      <td>4.2 out of 5 stars</td>\n",
       "      <td>\\nGood opportunity for oppo lovers to upgrade\\n</td>\n",
       "      <td>4.2</td>\n",
       "    </tr>\n",
       "  </tbody>\n",
       "</table>\n",
       "</div>"
      ],
      "text/plain": [
       "                                             reviews             ratings  \\\n",
       "0  \\n\\n  \\xa0Defective product shipped.. reported...  4.0 out of 5 stars   \n",
       "1                 \\n\\n  Damaged product\\n\\nRead more  3.9 out of 5 stars   \n",
       "2  \"\\n\\n  Update (15/08/2020):Never give a chance...  4.2 out of 5 stars   \n",
       "3  \"\\n\\n  Thank you samsung and Amazon for timely...  3.1 out of 5 stars   \n",
       "4  \\n\\n  Brought this phone for my wife who is di...  4.2 out of 5 stars   \n",
       "\n",
       "                                            titles  score  \n",
       "0  \"\\nPray you dont receive a defective product\\n\"    4.0  \n",
       "1                         \\nVery chipper quality\\n    3.9  \n",
       "2                 \\nValue For Money !! Go for it\\n    4.2  \n",
       "3                         \\n#samsunghitsbullseye\\n    3.1  \n",
       "4  \\nGood opportunity for oppo lovers to upgrade\\n    4.2  "
      ]
     },
     "execution_count": 51,
     "metadata": {},
     "output_type": "execute_result"
    }
   ],
   "source": [
    "data.head()"
   ]
  },
  {
   "cell_type": "code",
   "execution_count": 52,
   "metadata": {},
   "outputs": [],
   "source": [
    "data.drop(\"ratings\", axis = \"columns\", inplace = True)"
   ]
  },
  {
   "cell_type": "code",
   "execution_count": 53,
   "metadata": {},
   "outputs": [
    {
     "data": {
      "text/html": [
       "<div>\n",
       "<style scoped>\n",
       "    .dataframe tbody tr th:only-of-type {\n",
       "        vertical-align: middle;\n",
       "    }\n",
       "\n",
       "    .dataframe tbody tr th {\n",
       "        vertical-align: top;\n",
       "    }\n",
       "\n",
       "    .dataframe thead th {\n",
       "        text-align: right;\n",
       "    }\n",
       "</style>\n",
       "<table border=\"1\" class=\"dataframe\">\n",
       "  <thead>\n",
       "    <tr style=\"text-align: right;\">\n",
       "      <th></th>\n",
       "      <th>reviews</th>\n",
       "      <th>titles</th>\n",
       "      <th>score</th>\n",
       "    </tr>\n",
       "  </thead>\n",
       "  <tbody>\n",
       "    <tr>\n",
       "      <th>0</th>\n",
       "      <td>\\n\\n  \\xa0Defective product shipped.. reported...</td>\n",
       "      <td>\"\\nPray you dont receive a defective product\\n\"</td>\n",
       "      <td>4.0</td>\n",
       "    </tr>\n",
       "    <tr>\n",
       "      <th>1</th>\n",
       "      <td>\\n\\n  Damaged product\\n\\nRead more</td>\n",
       "      <td>\\nVery chipper quality\\n</td>\n",
       "      <td>3.9</td>\n",
       "    </tr>\n",
       "    <tr>\n",
       "      <th>2</th>\n",
       "      <td>\"\\n\\n  Update (15/08/2020):Never give a chance...</td>\n",
       "      <td>\\nValue For Money !! Go for it\\n</td>\n",
       "      <td>4.2</td>\n",
       "    </tr>\n",
       "    <tr>\n",
       "      <th>3</th>\n",
       "      <td>\"\\n\\n  Thank you samsung and Amazon for timely...</td>\n",
       "      <td>\\n#samsunghitsbullseye\\n</td>\n",
       "      <td>3.1</td>\n",
       "    </tr>\n",
       "    <tr>\n",
       "      <th>4</th>\n",
       "      <td>\\n\\n  Brought this phone for my wife who is di...</td>\n",
       "      <td>\\nGood opportunity for oppo lovers to upgrade\\n</td>\n",
       "      <td>4.2</td>\n",
       "    </tr>\n",
       "  </tbody>\n",
       "</table>\n",
       "</div>"
      ],
      "text/plain": [
       "                                             reviews  \\\n",
       "0  \\n\\n  \\xa0Defective product shipped.. reported...   \n",
       "1                 \\n\\n  Damaged product\\n\\nRead more   \n",
       "2  \"\\n\\n  Update (15/08/2020):Never give a chance...   \n",
       "3  \"\\n\\n  Thank you samsung and Amazon for timely...   \n",
       "4  \\n\\n  Brought this phone for my wife who is di...   \n",
       "\n",
       "                                            titles  score  \n",
       "0  \"\\nPray you dont receive a defective product\\n\"    4.0  \n",
       "1                         \\nVery chipper quality\\n    3.9  \n",
       "2                 \\nValue For Money !! Go for it\\n    4.2  \n",
       "3                         \\n#samsunghitsbullseye\\n    3.1  \n",
       "4  \\nGood opportunity for oppo lovers to upgrade\\n    4.2  "
      ]
     },
     "execution_count": 53,
     "metadata": {},
     "output_type": "execute_result"
    }
   ],
   "source": [
    "data.head()"
   ]
  },
  {
   "cell_type": "code",
   "execution_count": 54,
   "metadata": {},
   "outputs": [
    {
     "data": {
      "text/plain": [
       "reviews     object\n",
       "titles      object\n",
       "score      float64\n",
       "dtype: object"
      ]
     },
     "execution_count": 54,
     "metadata": {},
     "output_type": "execute_result"
    }
   ],
   "source": [
    "data.dtypes"
   ]
  },
  {
   "cell_type": "code",
   "execution_count": 55,
   "metadata": {},
   "outputs": [
    {
     "data": {
      "text/plain": [
       "True     78\n",
       "False    34\n",
       "Name: score, dtype: int64"
      ]
     },
     "execution_count": 55,
     "metadata": {},
     "output_type": "execute_result"
    }
   ],
   "source": [
    "(data[\"score\"]>=4.0).value_counts()"
   ]
  },
  {
   "cell_type": "markdown",
   "metadata": {},
   "source": [
    "Now we can convert our score into binary values where score of **more than 3 can be considered as positive review(1)** and **3 or less than 3 as negative(0)** ; \n",
    "\n",
    "\n",
    "**Note**:\n",
    "\n",
    "We can also consider score less than 3 as negative and more than 3 as positive and 3 as neutral and remove neutral reviews but since we have only 100 datapoints therefore we are not removing any values based on this"
   ]
  },
  {
   "cell_type": "code",
   "execution_count": 56,
   "metadata": {},
   "outputs": [],
   "source": [
    "def convert(s):\n",
    "    \"\"\"\n",
    "    This function takes float value can checks if its greater than equal to 4.0 returns  1 else returns 0\n",
    "    Parameters:\n",
    "    s = float value\n",
    "    Returns:\n",
    "    1/0 based on the condition\n",
    "    \"\"\"\n",
    "#for val in s:\n",
    "\n",
    "    if (s>=4.0):\n",
    "        return 1\n",
    "    else:\n",
    "        return 0"
   ]
  },
  {
   "cell_type": "code",
   "execution_count": 57,
   "metadata": {},
   "outputs": [],
   "source": [
    "data[\"score\"] = data[\"score\"].apply(convert)"
   ]
  },
  {
   "cell_type": "code",
   "execution_count": 58,
   "metadata": {},
   "outputs": [
    {
     "data": {
      "text/html": [
       "<div>\n",
       "<style scoped>\n",
       "    .dataframe tbody tr th:only-of-type {\n",
       "        vertical-align: middle;\n",
       "    }\n",
       "\n",
       "    .dataframe tbody tr th {\n",
       "        vertical-align: top;\n",
       "    }\n",
       "\n",
       "    .dataframe thead th {\n",
       "        text-align: right;\n",
       "    }\n",
       "</style>\n",
       "<table border=\"1\" class=\"dataframe\">\n",
       "  <thead>\n",
       "    <tr style=\"text-align: right;\">\n",
       "      <th></th>\n",
       "      <th>reviews</th>\n",
       "      <th>titles</th>\n",
       "      <th>score</th>\n",
       "    </tr>\n",
       "  </thead>\n",
       "  <tbody>\n",
       "    <tr>\n",
       "      <th>0</th>\n",
       "      <td>\\n\\n  \\xa0Defective product shipped.. reported...</td>\n",
       "      <td>\"\\nPray you dont receive a defective product\\n\"</td>\n",
       "      <td>1</td>\n",
       "    </tr>\n",
       "    <tr>\n",
       "      <th>1</th>\n",
       "      <td>\\n\\n  Damaged product\\n\\nRead more</td>\n",
       "      <td>\\nVery chipper quality\\n</td>\n",
       "      <td>0</td>\n",
       "    </tr>\n",
       "    <tr>\n",
       "      <th>2</th>\n",
       "      <td>\"\\n\\n  Update (15/08/2020):Never give a chance...</td>\n",
       "      <td>\\nValue For Money !! Go for it\\n</td>\n",
       "      <td>1</td>\n",
       "    </tr>\n",
       "    <tr>\n",
       "      <th>3</th>\n",
       "      <td>\"\\n\\n  Thank you samsung and Amazon for timely...</td>\n",
       "      <td>\\n#samsunghitsbullseye\\n</td>\n",
       "      <td>0</td>\n",
       "    </tr>\n",
       "    <tr>\n",
       "      <th>4</th>\n",
       "      <td>\\n\\n  Brought this phone for my wife who is di...</td>\n",
       "      <td>\\nGood opportunity for oppo lovers to upgrade\\n</td>\n",
       "      <td>1</td>\n",
       "    </tr>\n",
       "  </tbody>\n",
       "</table>\n",
       "</div>"
      ],
      "text/plain": [
       "                                             reviews  \\\n",
       "0  \\n\\n  \\xa0Defective product shipped.. reported...   \n",
       "1                 \\n\\n  Damaged product\\n\\nRead more   \n",
       "2  \"\\n\\n  Update (15/08/2020):Never give a chance...   \n",
       "3  \"\\n\\n  Thank you samsung and Amazon for timely...   \n",
       "4  \\n\\n  Brought this phone for my wife who is di...   \n",
       "\n",
       "                                            titles  score  \n",
       "0  \"\\nPray you dont receive a defective product\\n\"      1  \n",
       "1                         \\nVery chipper quality\\n      0  \n",
       "2                 \\nValue For Money !! Go for it\\n      1  \n",
       "3                         \\n#samsunghitsbullseye\\n      0  \n",
       "4  \\nGood opportunity for oppo lovers to upgrade\\n      1  "
      ]
     },
     "execution_count": 58,
     "metadata": {},
     "output_type": "execute_result"
    }
   ],
   "source": [
    "data.head()"
   ]
  },
  {
   "cell_type": "code",
   "execution_count": 59,
   "metadata": {},
   "outputs": [
    {
     "data": {
      "text/plain": [
       "1    78\n",
       "0    34\n",
       "Name: score, dtype: int64"
      ]
     },
     "execution_count": 59,
     "metadata": {},
     "output_type": "execute_result"
    }
   ],
   "source": [
    "data[\"score\"].value_counts()"
   ]
  },
  {
   "cell_type": "markdown",
   "metadata": {},
   "source": [
    "# Text Preprocessing\n",
    "\n",
    "\n",
    "**Preprocessing requires following steps :-**\n",
    "\n",
    "1. Begin by removing the html tags\n",
    "2. Remove any punctuations or limited set of special characters like , or . or # etc\n",
    "3. Check if the word is made up of english letters and is not alpha-numeric\n",
    "4. Check to see if the length of the word is greater than 2\n",
    "5. Convert the text in lowercase\n",
    "6. Remove the stopwords\n",
    "7. Finally we to stemming using snowball stemming\n"
   ]
  },
  {
   "cell_type": "markdown",
   "metadata": {},
   "source": [
    "## Review Text"
   ]
  },
  {
   "cell_type": "markdown",
   "metadata": {},
   "source": [
    "We can see that there **emojis** , **numbers** , **\\n** present and these are to be removed , moreover we need to see how many none values are present we represent that no one has given review for that phone"
   ]
  },
  {
   "cell_type": "code",
   "execution_count": 60,
   "metadata": {},
   "outputs": [],
   "source": [
    "# https://stackoverflow.com/a/47091490/4084039\n",
    "#what is decontracted words - http://www.whitehall-i.walsall.sch.uk/pupils/help-for-your-writing/spelling-rules-ok/contracted-words/\n",
    "import re\n",
    "\n",
    "def decontracted(phrase):\n",
    "    # specific\n",
    "    \"\"\"\n",
    "    This function takes a string/text as an arguement and converts contracted words like won't , can't etc and \n",
    "    converts those words present in text into decontracted words like  would not , could not etc\n",
    "    Returns :\n",
    "    \n",
    "    \"\"\"\n",
    "    phrase = re.sub(r\"won't\", \"will not\", phrase)\n",
    "    phrase = re.sub(r\"can\\'t\", \"can not\", phrase)\n",
    "\n",
    "    # general\n",
    "    phrase = re.sub(r\"n\\'t\", \" not\", phrase)\n",
    "    phrase = re.sub(r\"\\'re\", \" are\", phrase)\n",
    "    phrase = re.sub(r\"\\'s\", \" is\", phrase)\n",
    "    phrase = re.sub(r\"\\'d\", \" would\", phrase)\n",
    "    phrase = re.sub(r\"\\'ll\", \" will\", phrase)\n",
    "    phrase = re.sub(r\"\\'t\", \" not\", phrase)\n",
    "    phrase = re.sub(r\"\\'ve\", \" have\", phrase)\n",
    "    phrase = re.sub(r\"\\'m\", \" am\", phrase)\n",
    "    return phrase"
   ]
  },
  {
   "cell_type": "code",
   "execution_count": 61,
   "metadata": {},
   "outputs": [],
   "source": [
    "from nltk.stem import PorterStemmer\n",
    "from nltk.tokenize import word_tokenize\n",
    "from nltk.corpus import stopwords\n",
    "import nltk \n",
    "import seaborn as sns "
   ]
  },
  {
   "cell_type": "code",
   "execution_count": 62,
   "metadata": {},
   "outputs": [
    {
     "name": "stdout",
     "output_type": "stream",
     "text": [
      "{'do', 'y', \"it's\", 'won', 'his', 'now', \"couldn't\", 'not', 'yourself', 'doing', 'for', 'above', 'needn', 'that', \"hasn't\", 'both', \"hadn't\", 'm', 'there', 'the', 'from', \"should've\", 'have', \"don't\", 'with', 'each', 'does', 'don', 'such', 'didn', 'theirs', 'whom', 'than', 'yourselves', 'or', \"didn't\", \"aren't\", 'these', 'ain', 'doesn', 'mightn', 'shouldn', \"you'll\", \"weren't\", 'by', 'himself', 're', \"doesn't\", \"isn't\", 'so', 'be', 'its', 'out', 'during', 'wouldn', 'she', 'having', 'herself', 'weren', 'where', 'more', 'through', 'mustn', 'their', 'then', \"you'd\", 'just', 'under', 'below', 'did', \"wouldn't\", 'over', 'ours', 'my', 'yours', 'has', 'any', 'an', 'this', 'o', 'were', 'again', 's', 'll', 'isn', 'couldn', 'am', 'him', 'further', \"mightn't\", 'they', 'should', \"haven't\", 'ourselves', 'own', \"she's\", 'if', 'been', 'when', 'up', 'shan', 'too', \"you've\", 'what', 'while', 'why', 'between', 'here', 'which', 'who', 'because', 'some', 'it', 'itself', 'hadn', 'a', 'those', 'no', 'was', 'he', 'me', 'off', \"wasn't\", \"won't\", 'before', \"shan't\", 'until', 've', 'very', 'we', 'few', 'wasn', 'our', 'same', 'of', 'and', 'against', 'into', \"that'll\", 'to', 'other', 'her', 'can', 'aren', 'i', 'most', 'haven', 'after', 'is', 'in', 'are', 'only', 'at', 'on', 'ma', 'you', 'about', \"mustn't\", \"needn't\", 'myself', \"you're\", 'hers', \"shouldn't\", 'd', 'hasn', 't', 'down', 'being', 'but', 'nor', 'once', 'will', 'your', 'themselves', 'all', 'as', 'them', 'had', 'how'}\n"
     ]
    }
   ],
   "source": [
    "# 5- Remving Stopwords\n",
    "s=set(stopwords.words('english'))\n",
    "print(s)"
   ]
  },
  {
   "cell_type": "code",
   "execution_count": 72,
   "metadata": {},
   "outputs": [
    {
     "name": "stdout",
     "output_type": "stream",
     "text": [
      "*********************\n",
      "tasti\n"
     ]
    },
    {
     "name": "stderr",
     "output_type": "stream",
     "text": [
      "[nltk_data] Downloading package stopwords to\n",
      "[nltk_data]     C:\\Users\\aksha\\AppData\\Roaming\\nltk_data...\n",
      "[nltk_data]   Package stopwords is already up-to-date!\n"
     ]
    }
   ],
   "source": [
    "nltk.download('stopwords')\n",
    "#https://pythonprogramming.net/stop-words-nltk-tutorial/ to learn more about stopwords\n",
    "sno=nltk.stem.SnowballStemmer('english')\n",
    "def cleanhtml(sentence):\n",
    "    \"\"\"\n",
    "    THis function using regex to remove the html tags if present\n",
    "    Parameters:\n",
    "    sentence to be cleaned\n",
    "    Returns:\n",
    "    sentence with removed html tags\n",
    "    \"\"\"\n",
    "    cleanr=re.compile('<.*?>')\n",
    "    cleantext=re.sub(cleanr,\" \",sentence)\n",
    "    return cleantext\n",
    "def cleanpunc(sentence):\n",
    "    \"\"\"\n",
    "    This function removes the puctutions presents in the sentences\n",
    "    Parameters:\n",
    "    sentence from which punctuations to be removed\n",
    "    Returns:\n",
    "    sentence with removed punctuations \n",
    "    \"\"\"\n",
    "    cleaned=re.compile(r'[?|!|\\'|\"|#|.|,|)|(|\\|/|]')\n",
    "    clean_ed=re.sub(cleaned,\" \",sentence)\n",
    "    return clean_ed\n",
    "print(\"*********************\")\n",
    "print(sno.stem(\"tasty\"))"
   ]
  },
  {
   "cell_type": "code",
   "execution_count": 64,
   "metadata": {},
   "outputs": [
    {
     "name": "stderr",
     "output_type": "stream",
     "text": [
      "100%|██████████████████████████████████████████████████████████████████████████████| 112/112 [00:00<00:00, 7981.14it/s]\n"
     ]
    }
   ],
   "source": [
    "# Combining all the above stundents \n",
    "from tqdm import tqdm\n",
    "preprocessed_reviews = []\n",
    "# tqdm is for printing the status bar\n",
    "for sentance in tqdm(data['reviews'].values):\n",
    "    sentance = re.sub(r\"http\\S+\", \"\", sentance) #removing https if present\n",
    "    sentance= sentance.replace(\"\\\\n\",\"\").replace(\"  \",\"\") #removing //n if present\n",
    "    sentance= re.sub(\"\\S*\\d\\S*\", \"\", sentance).strip() #removing special characters and emojis\n",
    "    sentance = cleanhtml(sentance) #html tags\n",
    "    sentance = decontracted(sentance) #decontraction\n",
    "    sentance = cleanpunc(sentance) #cleaning punctuation\n",
    "    sentance = re.sub('[^A-Za-z0-9]+', ' ', sentance)# https://gist.github.com/sebleier/554280\n",
    "    sentance = ' '.join(e.lower() for e in sentance.split() if e.lower() not in s) #converting everything to lowercase and stopword removal \n",
    "    preprocessed_reviews.append(sentance.strip(\"'\"))"
   ]
  },
  {
   "cell_type": "code",
   "execution_count": 65,
   "metadata": {},
   "outputs": [
    {
     "data": {
      "text/plain": [
       "['product shipped reported within afewhours receipt one showed inspection despite several follow ups replaced refunded horrible experience read',\n",
       " 'damaged productread',\n",
       " 'update give chance regret go ahead icons looks great set spherlue icons theam looks better dark mode even though mah always leaves phone charging go bed like see phone every morning turned fast charging option affectbatterymonster battery day battery standby normal amaload full hd superb battery still looking bulky noglass body cares put back cover opinion dont spend money glass body uses back camera camera pretty good front cameras low light output low many features available slow super slow videos os ui one print reader face lock face lock finger print reader performance meant pubg gamers perfect heavy gamer lag ang hang till processor charging fast charging provided charger iy takes hrs fully reacharge accessories earphone back cover screenguard order backcover tempered glass placing order backbody plastic amd prone speaker sound level low keep earphones verdict priceits best choice hardcore gamer read',\n",
       " 'thank samsung amazon timely rakshabandhan delivery readers review unbiased written testing continuous usage ppi great entry level backup awesome thanks samsungs r even go version cute without pdfs easy comfort eyes atleast samsung guts say lag till dont need gaming regular even without go apps nicely face lock dont need good quality okay speaker music lovers dowload music app equilizer sd card smart memory cleaner use smart manager settings day smooth ram functioning rom supports otg camera average still expected samsung work front wanna beat chinese gamers thats expected buy ram based phone reading print face lock missing manage indians takes hours charge work hours calling surfing thats bad issue chinese phone lovers habit charging play pubg overall buy phone specifications must see integration longevity overall nice secondary option primary featured phone switchers read',\n",
       " 'brought phone wife die hard fan oppo offer like extra exchange oppo like waww exchange old oppo mobile got phone best phone u want oppo brand name u boared ur old oppo phone review considering good features considering cost size matters inch speakers good comes classic headphones good looks decent sound quality phones days comes quad camera gives good quality selfie camera also decent considering cost use power bank original cost huge considering features good brands like mi vivo moto etc sells camera phones accessories like back cover tempered glass yet market may u wait though transparent back cover included mobile box phone use update something comes read',\n",
       " 'best camera good battery life eat body material average weight best performance best display read',\n",
       " 'dont buy mins gaming phone lagging muchread',\n",
       " 'product shipped reported within afewhours receipt one showed inspection despite several follow ups replaced refunded horrible experience read',\n",
       " 'product shipped reported within afewhours receipt one showed inspection despite several follow ups replaced refunded horrible experience read',\n",
       " 'product shipped reported within afewhours receipt one showed inspection despite several follow ups replaced refunded horrible experience read',\n",
       " 'update give chance regret go ahead icons looks great set spherlue icons theam looks better dark mode even though mah always leaves phone charging go bed like see phone every morning turned fast charging option affectbatterymonster battery day battery standby normal amaload full hd superb battery still looking bulky noglass body cares put back cover opinion dont spend money glass body uses back camera camera pretty good front cameras low light output low many features available slow super slow videos os ui one print reader face lock face lock finger print reader performance meant pubg gamers perfect heavy gamer lag ang hang till processor charging fast charging provided charger iy takes hrs fully reacharge accessories earphone back cover screenguard order backcover tempered glass placing order backbody plastic amd prone speaker sound level low keep earphones verdict priceits best choice hardcore gamer read',\n",
       " 'plzz read complete information buying amazonthey refund product got defected amazon worst providing services option buy flipkart go dont waste time amazonregarding mobileworst mobile ever seenbattery charging time expected battery drainaing problem therecamera stuck click pictures poor camera quality said mp like game lover plzz try another mobile performance low told amazon customer care take product back helping instead want go service center situation red zone cant provide home visit technician life important customer customer get infected ok thanks amazon service hate amazon tiktok unistalling app right also recommending friends relatives buy anything amazon worst read',\n",
       " 'thank samsung amazon timely rakshabandhan delivery readers review unbiased written testing continuous usage ppi great entry level backup awesome thanks samsungs r even go version cute without pdfs easy comfort eyes atleast samsung guts say lag till dont need gaming regular even without go apps nicely face lock dont need good quality okay speaker music lovers dowload music app equilizer sd card smart memory cleaner use smart manager settings day smooth ram functioning rom supports otg camera average still expected samsung work front wanna beat chinese gamers thats expected buy ram based phone reading print face lock missing manage indians takes hours charge work hours calling surfing thats bad issue chinese phone lovers habit charging play pubg overall buy phone specifications must see integration longevity overall nice secondary option primary featured phone switchers read',\n",
       " 'damaged productread',\n",
       " 'febulas performance redmi note love first time parchase online amazon give full satisfaction product thanks amazon read',\n",
       " 'camera sound option camera average quality settings options less os good overall good phone read',\n",
       " 'update give chance regret go ahead icons looks great set spherlue icons theam looks better dark mode even though mah always leaves phone charging go bed like see phone every morning turned fast charging option affectbatterymonster battery day battery standby normal amaload full hd superb battery still looking bulky noglass body cares put back cover opinion dont spend money glass body uses back camera camera pretty good front cameras low light output low many features available slow super slow videos os ui one print reader face lock face lock finger print reader performance meant pubg gamers perfect heavy gamer lag ang hang till processor charging fast charging provided charger iy takes hrs fully reacharge accessories earphone back cover screenguard order backcover tempered glass placing order backbody plastic amd prone speaker sound level low keep earphones verdict priceits best choice hardcore gamer read',\n",
       " 'product shipped reported within afewhours receipt one showed inspection despite several follow ups replaced refunded horrible experience read',\n",
       " 'damaged productread',\n",
       " 'thank samsung amazon timely rakshabandhan delivery readers review unbiased written testing continuous usage ppi great entry level backup awesome thanks samsungs r even go version cute without pdfs easy comfort eyes atleast samsung guts say lag till dont need gaming regular even without go apps nicely face lock dont need good quality okay speaker music lovers dowload music app equilizer sd card smart memory cleaner use smart manager settings day smooth ram functioning rom supports otg camera average still expected samsung work front wanna beat chinese gamers thats expected buy ram based phone reading print face lock missing manage indians takes hours charge work hours calling surfing thats bad issue chinese phone lovers habit charging play pubg overall buy phone specifications must see integration longevity overall nice secondary option primary featured phone switchers read',\n",
       " 'best camera good battery life eat body material average weight best performance best display read',\n",
       " 'brought phone wife die hard fan oppo offer like extra exchange oppo like waww exchange old oppo mobile got phone best phone u want oppo brand name u boared ur old oppo phone review considering good features considering cost size matters inch speakers good comes classic headphones good looks decent sound quality phones days comes quad camera gives good quality selfie camera also decent considering cost use power bank original cost huge considering features good brands like mi vivo moto etc sells camera phones accessories like back cover tempered glass yet market may u wait though transparent back cover included mobile box phone use update something comes read',\n",
       " 'update give chance regret go ahead icons looks great set spherlue icons theam looks better dark mode even though mah always leaves phone charging go bed like see phone every morning turned fast charging option affectbatterymonster battery day battery standby normal amaload full hd superb battery still looking bulky noglass body cares put back cover opinion dont spend money glass body uses back camera camera pretty good front cameras low light output low many features available slow super slow videos os ui one print reader face lock face lock finger print reader performance meant pubg gamers perfect heavy gamer lag ang hang till processor charging fast charging provided charger iy takes hrs fully reacharge accessories earphone back cover screenguard order backcover tempered glass placing order backbody plastic amd prone speaker sound level low keep earphones verdict priceits best choice hardcore gamer read',\n",
       " 'product shipped reported within afewhours receipt one showed inspection despite several follow ups replaced refunded horrible experience read',\n",
       " 'product shipped reported within afewhours receipt one showed inspection despite several follow ups replaced refunded horrible experience read',\n",
       " 'dont buy mins gaming phone lagging muchread',\n",
       " 'plzz read complete information buying amazonthey refund product got defected amazon worst providing services option buy flipkart go dont waste time amazonregarding mobileworst mobile ever seenbattery charging time expected battery drainaing problem therecamera stuck click pictures poor camera quality said mp like game lover plzz try another mobile performance low told amazon customer care take product back helping instead want go service center situation red zone cant provide home visit technician life important customer customer get infected ok thanks amazon service hate amazon tiktok unistalling app right also recommending friends relatives buy anything amazon worst read',\n",
       " 'product shipped reported within afewhours receipt one showed inspection despite several follow ups replaced refunded horrible experience read',\n",
       " 'damaged productread',\n",
       " 'update give chance regret go ahead icons looks great set spherlue icons theam looks better dark mode even though mah always leaves phone charging go bed like see phone every morning turned fast charging option affectbatterymonster battery day battery standby normal amaload full hd superb battery still looking bulky noglass body cares put back cover opinion dont spend money glass body uses back camera camera pretty good front cameras low light output low many features available slow super slow videos os ui one print reader face lock face lock finger print reader performance meant pubg gamers perfect heavy gamer lag ang hang till processor charging fast charging provided charger iy takes hrs fully reacharge accessories earphone back cover screenguard order backcover tempered glass placing order backbody plastic amd prone speaker sound level low keep earphones verdict priceits best choice hardcore gamer read',\n",
       " 'thank samsung amazon timely rakshabandhan delivery readers review unbiased written testing continuous usage ppi great entry level backup awesome thanks samsungs r even go version cute without pdfs easy comfort eyes atleast samsung guts say lag till dont need gaming regular even without go apps nicely face lock dont need good quality okay speaker music lovers dowload music app equilizer sd card smart memory cleaner use smart manager settings day smooth ram functioning rom supports otg camera average still expected samsung work front wanna beat chinese gamers thats expected buy ram based phone reading print face lock missing manage indians takes hours charge work hours calling surfing thats bad issue chinese phone lovers habit charging play pubg overall buy phone specifications must see integration longevity overall nice secondary option primary featured phone switchers read',\n",
       " 'honest review honest samsung phone writing review using half month verdict based truly improved samsung series experience tested usage build quality superior matches series flagship premium classy look strong built budget amount hand small still found inches display good handle well managed one hand use also display fingerprint samsung superamoled display truly trust amazing view angle feature widevine l certification enjoy global dolby theatre experience found reliable level movie watching without distraction due infinite display gives full screen ratio fingerprint side much faster expected doesnt takes second also open even faceunlock faster battery main benefit midrange series maasive battery gave enough juice nearly days continuously tested camera time series honest job giving us intelli camera mwgapixel single take feature samsung gives advertises made stick samsung brand usage camera high found complaints focusing shoot good color saturated well bright night shots macro shots r osm depth clarity megapixel developed model complaints processor using half month must say exynos works wonderful liquid speed combined ram technology faced lag pubg hight end games medium setting good battery saving speed accomplished complaints budget spent sound quality using hours found speaker time samsung made much improved bass stereo missing earlier ear delivers ear pure dolby atmos clear precision crystal clear bass effect bang bucks go thanks amazon safe delivery read',\n",
       " 'phone looks absolutely top class update review use fingerprint sensor read',\n",
       " 'product shipped reported within afewhours receipt one showed inspection despite several follow ups replaced refunded horrible experience read',\n",
       " 'camera sound option camera average quality settings options less os good overall good phone read',\n",
       " 'update give chance regret go ahead icons looks great set spherlue icons theam looks better dark mode even though mah always leaves phone charging go bed like see phone every morning turned fast charging option affectbatterymonster battery day battery standby normal amaload full hd superb battery still looking bulky noglass body cares put back cover opinion dont spend money glass body uses back camera camera pretty good front cameras low light output low many features available slow super slow videos os ui one print reader face lock face lock finger print reader performance meant pubg gamers perfect heavy gamer lag ang hang till processor charging fast charging provided charger iy takes hrs fully reacharge accessories earphone back cover screenguard order backcover tempered glass placing order backbody plastic amd prone speaker sound level low keep earphones verdict priceits best choice hardcore gamer read',\n",
       " 'plzz read complete information buying amazonthey refund product got defected amazon worst providing services option buy flipkart go dont waste time amazonregarding mobileworst mobile ever seenbattery charging time expected battery drainaing problem therecamera stuck click pictures poor camera quality said mp like game lover plzz try another mobile performance low told amazon customer care take product back helping instead want go service center situation red zone cant provide home visit technician life important customer customer get infected ok thanks amazon service hate amazon tiktok unistalling app right also recommending friends relatives buy anything amazon worst read',\n",
       " 'brought phone wife die hard fan oppo offer like extra exchange oppo like waww exchange old oppo mobile got phone best phone u want oppo brand name u boared ur old oppo phone review considering good features considering cost size matters inch speakers good comes classic headphones good looks decent sound quality phones days comes quad camera gives good quality selfie camera also decent considering cost use power bank original cost huge considering features good brands like mi vivo moto etc sells camera phones accessories like back cover tempered glass yet market may u wait though transparent back cover included mobile box phone use update something comes read',\n",
       " 'great phone im buy last weaks ago oppo features oppo change phone features battery backup coming upto days full charge using mobile data display asumne like oppo cost superb phone buy hang problem ram games runing smoth oppo game space super thanks oppo seller great phoneread',\n",
       " 'dont buyig product third class catergory phone plz guyiz dont buying phone humble request dread',\n",
       " 'honest review honest samsung phone writing review using half month verdict based truly improved samsung series experience tested usage build quality superior matches series flagship premium classy look strong built budget amount hand small still found inches display good handle well managed one hand use also display fingerprint samsung superamoled display truly trust amazing view angle feature widevine l certification enjoy global dolby theatre experience found reliable level movie watching without distraction due infinite display gives full screen ratio fingerprint side much faster expected doesnt takes second also open even faceunlock faster battery main benefit midrange series maasive battery gave enough juice nearly days continuously tested camera time series honest job giving us intelli camera mwgapixel single take feature samsung gives advertises made stick samsung brand usage camera high found complaints focusing shoot good color saturated well bright night shots macro shots r osm depth clarity megapixel developed model complaints processor using half month must say exynos works wonderful liquid speed combined ram technology faced lag pubg hight end games medium setting good battery saving speed accomplished complaints budget spent sound quality using hours found speaker time samsung made much improved bass stereo missing earlier ear delivers ear pure dolby atmos clear precision crystal clear bass effect bang bucks go thanks amazon safe delivery read',\n",
       " 'best camera good battery life eat body material average weight best performance best display read',\n",
       " 'fast chargingno long batterylife headphones somewhat happy disappointed features read',\n",
       " 'price high specifications perfect price everything fineread',\n",
       " 'display lines started coming using day want return amazon customer service worst though damage visible accepting return read',\n",
       " 'product shipped reported within afewhours receipt one showed inspection despite several follow ups replaced refunded horrible experience read',\n",
       " 'awesome mobile price pointread',\n",
       " 'phones performance good slow working phone rate smartphone totally waste money amazon pls return phone refund money read',\n",
       " 'brought phone wife die hard fan oppo offer like extra exchange oppo like waww exchange old oppo mobile got phone best phone u want oppo brand name u boared ur old oppo phone review considering good features considering cost size matters inch speakers good comes classic headphones good looks decent sound quality phones days comes quad camera gives good quality selfie camera also decent considering cost use power bank original cost huge considering features good brands like mi vivo moto etc sells camera phones accessories like back cover tempered glass yet market may u wait though transparent back cover included mobile box phone use update something comes read',\n",
       " 'happy giving two days battery backup full time data well donetecno team read',\n",
       " 'product fine working well battery camera quality phenomenal met expectations unfortunately amazon promise zero cost emi misleading opted months emi considering zero percent interest hdfc bank charged around interest plus gst etc like taking customer ride surprised receive msg like bank alert amazon rectify immediately read',\n",
       " 'display lines started coming using day want return amazon customer service worst though damage visible accepting return read',\n",
       " 'honest review honest samsung phone writing review using half month verdict based truly improved samsung series experience tested usage build quality superior matches series flagship premium classy look strong built budget amount hand small still found inches display good handle well managed one hand use also display fingerprint samsung superamoled display truly trust amazing view angle feature widevine l certification enjoy global dolby theatre experience found reliable level movie watching without distraction due infinite display gives full screen ratio fingerprint side much faster expected doesnt takes second also open even faceunlock faster battery main benefit midrange series maasive battery gave enough juice nearly days continuously tested camera time series honest job giving us intelli camera mwgapixel single take feature samsung gives advertises made stick samsung brand usage camera high found complaints focusing shoot good color saturated well bright night shots macro shots r osm depth clarity megapixel developed model complaints processor using half month must say exynos works wonderful liquid speed combined ram technology faced lag pubg hight end games medium setting good battery saving speed accomplished complaints budget spent sound quality using hours found speaker time samsung made much improved bass stereo missing earlier ear delivers ear pure dolby atmos clear precision crystal clear bass effect bang bucks go thanks amazon safe delivery read',\n",
       " 'honest review honest samsung phone writing review using half month verdict based truly improved samsung series experience tested usage build quality superior matches series flagship premium classy look strong built budget amount hand small still found inches display good handle well managed one hand use also display fingerprint samsung superamoled display truly trust amazing view angle feature widevine l certification enjoy global dolby theatre experience found reliable level movie watching without distraction due infinite display gives full screen ratio fingerprint side much faster expected doesnt takes second also open even faceunlock faster battery main benefit midrange series maasive battery gave enough juice nearly days continuously tested camera time series honest job giving us intelli camera mwgapixel single take feature samsung gives advertises made stick samsung brand usage camera high found complaints focusing shoot good color saturated well bright night shots macro shots r osm depth clarity megapixel developed model complaints processor using half month must say exynos works wonderful liquid speed combined ram technology faced lag pubg hight end games medium setting good battery saving speed accomplished complaints budget spent sound quality using hours found speaker time samsung made much improved bass stereo missing earlier ear delivers ear pure dolby atmos clear precision crystal clear bass effect bang bucks go thanks amazon safe delivery read',\n",
       " 'camera quality good mentioned motion camera like phone slow operation even though ram made china read',\n",
       " 'best camera good battery life eat body material average weight best performance best display read',\n",
       " 'fast chargingno long batterylife headphones somewhat happy disappointed features read',\n",
       " 'best camera good battery life eat body material average weight best performance best display read',\n",
       " 'one best budget phones available bit sceptical buying company tecno known india surprise exceptionally well made prosbattery life easily lasts two daysscreen inch screen viewing videos movies helpful mother struggles small fonts reading typing two sim slot dedicated micro sd slotcamera rear triple camera front camera dual flashandroid go version date android go version seamless useconsram available internal storage variant company reconsider expect playing high end games pubg lite runs minor glitches gameplaysound speaker output quality upto mark playing videos music manageable would definitely recommend phone looking buy something back phone watch movies web series thank amazon tecno read',\n",
       " 'lot better phones available market guess way late launch product time time quad camera hd screen better battery phone pricy current trend read',\n",
       " 'battery getting charged read',\n",
       " 'plzz read complete information buying amazonthey refund product got defected amazon worst providing services option buy flipkart go dont waste time amazonregarding mobileworst mobile ever seenbattery charging time expected battery drainaing problem therecamera stuck click pictures poor camera quality said mp like game lover plzz try another mobile performance low told amazon customer care take product back helping instead want go service center situation red zone cant provide home visit technician life important customer customer get infected ok thanks amazon service hate amazon tiktok unistalling app right also recommending friends relatives buy anything amazon worst read',\n",
       " 'started rating features followed processor display battery sound loud sound mm cord camera selfie camera back networking lack fingers print sensor locked back cover box camera quality good read',\n",
       " 'plzz read complete information buying amazonthey refund product got defected amazon worst providing services option buy flipkart go dont waste time amazonregarding mobileworst mobile ever seenbattery charging time expected battery drainaing problem therecamera stuck click pictures poor camera quality said mp like game lover plzz try another mobile performance low told amazon customer care take product back helping instead want go service center situation red zone cant provide home visit technician life important customer customer get infected ok thanks amazon service hate amazon tiktok unistalling app right also recommending friends relatives buy anything amazon worst read',\n",
       " 'brought phone wife die hard fan oppo offer like extra exchange oppo like waww exchange old oppo mobile got phone best phone u want oppo brand name u boared ur old oppo phone review considering good features considering cost size matters inch speakers good comes classic headphones good looks decent sound quality phones days comes quad camera gives good quality selfie camera also decent considering cost use power bank original cost huge considering features good brands like mi vivo moto etc sells camera phones accessories like back cover tempered glass yet market may u wait though transparent back cover included mobile box phone use update something comes read',\n",
       " 'none',\n",
       " 'super vivo',\n",
       " 'one best budget phones available bit sceptical buying company tecno known india surprise exceptionally well made prosbattery life easily lasts two daysscreen inch screen viewing videos movies helpful mother struggles small fonts reading typing two sim slot dedicated micro sd slotcamera rear triple camera front camera dual flashandroid go version date android go version seamless useconsram available internal storage variant company reconsider expect playing high end games pubg lite runs minor glitches gameplaysound speaker output quality upto mark playing videos music manageable would definitely recommend phone looking buy something back phone watch movies web series thank amazon tecno read',\n",
       " 'lot better phones available market guess way late launch product time time quad camera hd screen better battery phone pricy current trend read',\n",
       " 'lot better phones available market guess way late launch product time time quad camera hd screen better battery phone pricy current trend read',\n",
       " 'product shipped reported within afewhours receipt one showed inspection despite several follow ups replaced refunded horrible experience read',\n",
       " 'camera sound option camera average quality settings options less os good overall good phone read',\n",
       " 'really great phone dont think much go honest review read',\n",
       " 'camera quality good mentioned motion camera like phone slow operation even though ram made china read',\n",
       " 'damaged productread',\n",
       " 'none',\n",
       " 'honest review honest samsung phone writing review using half month verdict based truly improved samsung series experience tested usage build quality superior matches series flagship premium classy look strong built budget amount hand small still found inches display good handle well managed one hand use also display fingerprint samsung superamoled display truly trust amazing view angle feature widevine l certification enjoy global dolby theatre experience found reliable level movie watching without distraction due infinite display gives full screen ratio fingerprint side much faster expected doesnt takes second also open even faceunlock faster battery main benefit midrange series maasive battery gave enough juice nearly days continuously tested camera time series honest job giving us intelli camera mwgapixel single take feature samsung gives advertises made stick samsung brand usage camera high found complaints focusing shoot good color saturated well bright night shots macro shots r osm depth clarity megapixel developed model complaints processor using half month must say exynos works wonderful liquid speed combined ram technology faced lag pubg hight end games medium setting good battery saving speed accomplished complaints budget spent sound quality using hours found speaker time samsung made much improved bass stereo missing earlier ear delivers ear pure dolby atmos clear precision crystal clear bass effect bang bucks go thanks amazon safe delivery read',\n",
       " 'plzz read complete information buying amazonthey refund product got defected amazon worst providing services option buy flipkart go dont waste time amazonregarding mobileworst mobile ever seenbattery charging time expected battery drainaing problem therecamera stuck click pictures poor camera quality said mp like game lover plzz try another mobile performance low told amazon customer care take product back helping instead want go service center situation red zone cant provide home visit technician life important customer customer get infected ok thanks amazon service hate amazon tiktok unistalling app right also recommending friends relatives buy anything amazon worst read',\n",
       " 'none',\n",
       " 'average phonethe display speed slowtouch working slowcamera good expectednot happy phoneread',\n",
       " 'battery getting drained quite fast hr half hr usage camera also poor charging slow known though first point troubling read',\n",
       " 'best product thnx amazon inread',\n",
       " 'one best budget phones available bit sceptical buying company tecno known india surprise exceptionally well made prosbattery life easily lasts two daysscreen inch screen viewing videos movies helpful mother struggles small fonts reading typing two sim slot dedicated micro sd slotcamera rear triple camera front camera dual flashandroid go version date android go version seamless useconsram available internal storage variant company reconsider expect playing high end games pubg lite runs minor glitches gameplaysound speaker output quality upto mark playing videos music manageable would definitely recommend phone looking buy something back phone watch movies web series thank amazon tecno read',\n",
       " 'none',\n",
       " 'best camera good battery life eat body material average weight best performance best display read',\n",
       " 'product shipped reported within afewhours receipt one showed inspection despite several follow ups replaced refunded horrible experience read',\n",
       " 'none',\n",
       " 'thank samsung amazon timely rakshabandhan delivery readers review unbiased written testing continuous usage ppi great entry level backup awesome thanks samsungs r even go version cute without pdfs easy comfort eyes atleast samsung guts say lag till dont need gaming regular even without go apps nicely face lock dont need good quality okay speaker music lovers dowload music app equilizer sd card smart memory cleaner use smart manager settings day smooth ram functioning rom supports otg camera average still expected samsung work front wanna beat chinese gamers thats expected buy ram based phone reading print face lock missing manage indians takes hours charge work hours calling surfing thats bad issue chinese phone lovers habit charging play pubg overall buy phone specifications must see integration longevity overall nice secondary option primary featured phone switchers read',\n",
       " 'nice mobile read',\n",
       " 'money waste products dont buy time wasted cheating costumers lost thousand rupees dont buy oneread',\n",
       " 'lot better phones available market guess way late launch product time time quad camera hd screen better battery phone pricy current trend read',\n",
       " 'really great phone dont think much go honest review read',\n",
       " 'price high specifications perfect price everything fineread',\n",
       " 'superbread',\n",
       " 'havent checked sim delivery days insert sim detected visited service centre said phone issue need change pc main board part available every alternate days calling visited answer disappointed amazon providing kind bad productsread',\n",
       " 'camera sound option camera average quality settings options less os good overall good phone read',\n",
       " 'price high specifications perfect price everything fineread',\n",
       " 'camera quality goodread',\n",
       " 'okk writing review using one day gifted mobile mother liked lot first let know updated version eluga check pictures posted eluga enterprise edition updated android pie whereas normal version android version available flipkart mobile tray sim slot rather open back cover easily insert sim memory card andhas non hybrid sim slots point note sim micro sim nano camera quality gud gorgeous front back flash led lights sides cant expect price range best thing battery back mah videos run smooth tube increase storage space accordingly doesnt support quick charging takes time charging battery backup worth verdict would getting many features fr price worth buying thumbs read',\n",
       " 'best product thnx amazon inread',\n",
       " 'camera quality good mentioned motion camera like phone slow operation even though ram made china read',\n",
       " 'super vivo',\n",
       " 'good phone waste best great display super port indian price proccesor r u kidding want buy terms display camera dont buy phone main thing phone required processors days feel lacking averagefingers goodyou choose poco wait time samsung redmi proread',\n",
       " 'finger print vast color difference picture actual matching sea blue color piece received dark blue colorotherwise good gadget price read',\n",
       " 'good phone waste best great display super port indian price proccesor r u kidding want buy terms display camera dont buy phone main thing phone required processors days feel lacking averagefingers goodyou choose poco wait time samsung redmi proread',\n",
       " 'bad product dont buy read',\n",
       " 'dont buyig product third class catergory phone plz guyiz dont buying phone humble request dread',\n",
       " 'clean bloatfree oxygenos runs smooth amoled screen refresh rate really go along make display battery life decent last day normal sound quality good modestly loud drawback design actually fits hand well shorter usual breadth bit length better viewing gaming performance average similar phones range better gaming phone looks feels premium alert slider makes convenient switch different face unlock fast oneplus phones camera good expected macro lens pretty useless main camera lacks depth colors arent vibrant oneplus bit much beautification selfie shots video recording absent performance quite good camera better phones isnt headphone mono speaker bottom right phone tends get covered hand using also one side phone audio isnt well delivered stereo expandable memory plastic frame doesnt look like plastic worrying thing makes phone comparatively less fingerprint scanner screen isnt quick traditional fingerprint scanner back recommendation youre looking phone delivers high performance smooth interface daily use go prime purpose gaming better options available also youre expecting flagship camera performance might want consider phones pixel release thats far better probably update pixel camera surely much better nords camera read',\n",
       " 'awesome mobile price pointread',\n",
       " 'good mobile best battery onces charged days battery wifi sim camera star ratingbattery star sim memory card slotcharger takes get days backup read',\n",
       " 'none',\n",
       " 'price high specifications perfect price everything fineread']"
      ]
     },
     "execution_count": 65,
     "metadata": {},
     "output_type": "execute_result"
    }
   ],
   "source": [
    "preprocessed_reviews"
   ]
  },
  {
   "cell_type": "code",
   "execution_count": 70,
   "metadata": {},
   "outputs": [],
   "source": [
    "from nltk.tokenize import sent_tokenize, word_tokenize\n",
    "def stemSentence(sentence):\n",
    "    \"\"\"\n",
    "    This function takes a sentence as an input and then first tokenize the sentences into words and then snowball stemmer\n",
    "    to stem these words.\n",
    "    Parameter:\n",
    "    sentence to be stem \n",
    "    Returns:\n",
    "    Normalized sentence\n",
    "    \"\"\"\n",
    "    token_words=word_tokenize(sentence)\n",
    "    token_words\n",
    "    stem_sentence=[]\n",
    "    for word in token_words:\n",
    "        stem_sentence.append(sno.stem(word))\n",
    "        stem_sentence.append(\" \")\n",
    "    return \"\".join(stem_sentence)"
   ]
  },
  {
   "cell_type": "code",
   "execution_count": 73,
   "metadata": {},
   "outputs": [],
   "source": [
    "data['preprocessed_reviews']=preprocessed_reviews\n",
    "#final.drop(['Text'], axis=1,inplace=True)"
   ]
  },
  {
   "cell_type": "code",
   "execution_count": 74,
   "metadata": {},
   "outputs": [],
   "source": [
    "data[\"preprocessed_reviews\"] = data[\"preprocessed_reviews\"].apply(stemSentence)"
   ]
  },
  {
   "cell_type": "code",
   "execution_count": 75,
   "metadata": {},
   "outputs": [
    {
     "data": {
      "text/plain": [
       "0      product ship report within afewhour receipt on...\n",
       "1                                     damag productread \n",
       "2      updat give chanc regret go ahead icon look gre...\n",
       "3      thank samsung amazon time rakshabandhan delive...\n",
       "4      brought phone wife die hard fan oppo offer lik...\n",
       "                             ...                        \n",
       "107    clean bloatfre oxygeno run smooth amol screen ...\n",
       "108                        awesom mobil price pointread \n",
       "109    good mobil best batteri onc charg day batteri ...\n",
       "110                                                none \n",
       "111    price high specif perfect price everyth fineread \n",
       "Name: preprocessed_reviews, Length: 112, dtype: object"
      ]
     },
     "execution_count": 75,
     "metadata": {},
     "output_type": "execute_result"
    }
   ],
   "source": [
    "data[\"preprocessed_reviews\"]"
   ]
  },
  {
   "cell_type": "code",
   "execution_count": 76,
   "metadata": {},
   "outputs": [
    {
     "data": {
      "text/html": [
       "<div>\n",
       "<style scoped>\n",
       "    .dataframe tbody tr th:only-of-type {\n",
       "        vertical-align: middle;\n",
       "    }\n",
       "\n",
       "    .dataframe tbody tr th {\n",
       "        vertical-align: top;\n",
       "    }\n",
       "\n",
       "    .dataframe thead th {\n",
       "        text-align: right;\n",
       "    }\n",
       "</style>\n",
       "<table border=\"1\" class=\"dataframe\">\n",
       "  <thead>\n",
       "    <tr style=\"text-align: right;\">\n",
       "      <th></th>\n",
       "      <th>reviews</th>\n",
       "      <th>titles</th>\n",
       "      <th>score</th>\n",
       "      <th>preprocessed_reviews</th>\n",
       "    </tr>\n",
       "  </thead>\n",
       "  <tbody>\n",
       "    <tr>\n",
       "      <th>0</th>\n",
       "      <td>\\n\\n  \\xa0Defective product shipped.. reported...</td>\n",
       "      <td>\"\\nPray you dont receive a defective product\\n\"</td>\n",
       "      <td>1</td>\n",
       "      <td>product ship report within afewhour receipt on...</td>\n",
       "    </tr>\n",
       "    <tr>\n",
       "      <th>1</th>\n",
       "      <td>\\n\\n  Damaged product\\n\\nRead more</td>\n",
       "      <td>\\nVery chipper quality\\n</td>\n",
       "      <td>0</td>\n",
       "      <td>damag productread</td>\n",
       "    </tr>\n",
       "    <tr>\n",
       "      <th>2</th>\n",
       "      <td>\"\\n\\n  Update (15/08/2020):Never give a chance...</td>\n",
       "      <td>\\nValue For Money !! Go for it\\n</td>\n",
       "      <td>1</td>\n",
       "      <td>updat give chanc regret go ahead icon look gre...</td>\n",
       "    </tr>\n",
       "    <tr>\n",
       "      <th>3</th>\n",
       "      <td>\"\\n\\n  Thank you samsung and Amazon for timely...</td>\n",
       "      <td>\\n#samsunghitsbullseye\\n</td>\n",
       "      <td>0</td>\n",
       "      <td>thank samsung amazon time rakshabandhan delive...</td>\n",
       "    </tr>\n",
       "    <tr>\n",
       "      <th>4</th>\n",
       "      <td>\\n\\n  Brought this phone for my wife who is di...</td>\n",
       "      <td>\\nGood opportunity for oppo lovers to upgrade\\n</td>\n",
       "      <td>1</td>\n",
       "      <td>brought phone wife die hard fan oppo offer lik...</td>\n",
       "    </tr>\n",
       "  </tbody>\n",
       "</table>\n",
       "</div>"
      ],
      "text/plain": [
       "                                             reviews  \\\n",
       "0  \\n\\n  \\xa0Defective product shipped.. reported...   \n",
       "1                 \\n\\n  Damaged product\\n\\nRead more   \n",
       "2  \"\\n\\n  Update (15/08/2020):Never give a chance...   \n",
       "3  \"\\n\\n  Thank you samsung and Amazon for timely...   \n",
       "4  \\n\\n  Brought this phone for my wife who is di...   \n",
       "\n",
       "                                            titles  score  \\\n",
       "0  \"\\nPray you dont receive a defective product\\n\"      1   \n",
       "1                         \\nVery chipper quality\\n      0   \n",
       "2                 \\nValue For Money !! Go for it\\n      1   \n",
       "3                         \\n#samsunghitsbullseye\\n      0   \n",
       "4  \\nGood opportunity for oppo lovers to upgrade\\n      1   \n",
       "\n",
       "                                preprocessed_reviews  \n",
       "0  product ship report within afewhour receipt on...  \n",
       "1                                 damag productread   \n",
       "2  updat give chanc regret go ahead icon look gre...  \n",
       "3  thank samsung amazon time rakshabandhan delive...  \n",
       "4  brought phone wife die hard fan oppo offer lik...  "
      ]
     },
     "execution_count": 76,
     "metadata": {},
     "output_type": "execute_result"
    }
   ],
   "source": [
    "data.head()"
   ]
  },
  {
   "cell_type": "code",
   "execution_count": 77,
   "metadata": {},
   "outputs": [
    {
     "data": {
      "text/html": [
       "<div>\n",
       "<style scoped>\n",
       "    .dataframe tbody tr th:only-of-type {\n",
       "        vertical-align: middle;\n",
       "    }\n",
       "\n",
       "    .dataframe tbody tr th {\n",
       "        vertical-align: top;\n",
       "    }\n",
       "\n",
       "    .dataframe thead th {\n",
       "        text-align: right;\n",
       "    }\n",
       "</style>\n",
       "<table border=\"1\" class=\"dataframe\">\n",
       "  <thead>\n",
       "    <tr style=\"text-align: right;\">\n",
       "      <th></th>\n",
       "      <th>titles</th>\n",
       "      <th>score</th>\n",
       "      <th>preprocessed_reviews</th>\n",
       "    </tr>\n",
       "  </thead>\n",
       "  <tbody>\n",
       "    <tr>\n",
       "      <th>0</th>\n",
       "      <td>\"\\nPray you dont receive a defective product\\n\"</td>\n",
       "      <td>1</td>\n",
       "      <td>product ship report within afewhour receipt on...</td>\n",
       "    </tr>\n",
       "    <tr>\n",
       "      <th>1</th>\n",
       "      <td>\\nVery chipper quality\\n</td>\n",
       "      <td>0</td>\n",
       "      <td>damag productread</td>\n",
       "    </tr>\n",
       "    <tr>\n",
       "      <th>2</th>\n",
       "      <td>\\nValue For Money !! Go for it\\n</td>\n",
       "      <td>1</td>\n",
       "      <td>updat give chanc regret go ahead icon look gre...</td>\n",
       "    </tr>\n",
       "    <tr>\n",
       "      <th>3</th>\n",
       "      <td>\\n#samsunghitsbullseye\\n</td>\n",
       "      <td>0</td>\n",
       "      <td>thank samsung amazon time rakshabandhan delive...</td>\n",
       "    </tr>\n",
       "    <tr>\n",
       "      <th>4</th>\n",
       "      <td>\\nGood opportunity for oppo lovers to upgrade\\n</td>\n",
       "      <td>1</td>\n",
       "      <td>brought phone wife die hard fan oppo offer lik...</td>\n",
       "    </tr>\n",
       "  </tbody>\n",
       "</table>\n",
       "</div>"
      ],
      "text/plain": [
       "                                            titles  score  \\\n",
       "0  \"\\nPray you dont receive a defective product\\n\"      1   \n",
       "1                         \\nVery chipper quality\\n      0   \n",
       "2                 \\nValue For Money !! Go for it\\n      1   \n",
       "3                         \\n#samsunghitsbullseye\\n      0   \n",
       "4  \\nGood opportunity for oppo lovers to upgrade\\n      1   \n",
       "\n",
       "                                preprocessed_reviews  \n",
       "0  product ship report within afewhour receipt on...  \n",
       "1                                 damag productread   \n",
       "2  updat give chanc regret go ahead icon look gre...  \n",
       "3  thank samsung amazon time rakshabandhan delive...  \n",
       "4  brought phone wife die hard fan oppo offer lik...  "
      ]
     },
     "execution_count": 77,
     "metadata": {},
     "output_type": "execute_result"
    }
   ],
   "source": [
    "data.drop(['reviews'], axis=1,inplace=True)\n",
    "data.head()"
   ]
  },
  {
   "cell_type": "markdown",
   "metadata": {},
   "source": [
    "## TitlesText"
   ]
  },
  {
   "cell_type": "code",
   "execution_count": 78,
   "metadata": {},
   "outputs": [
    {
     "name": "stderr",
     "output_type": "stream",
     "text": [
      "100%|█████████████████████████████████████████████████████████████████████████████| 112/112 [00:00<00:00, 37341.98it/s]\n"
     ]
    }
   ],
   "source": [
    "# Combining all the above stundents \n",
    "from tqdm import tqdm\n",
    "preprocessed_titles = []\n",
    "# tqdm is for printing the status bar\n",
    "for sentance in tqdm(data['titles'].values):\n",
    "    sentance = re.sub(r\"http\\S+\", \"\", sentance) #removing https if present\n",
    "    sentance= sentance.replace(\"\\\\n\",\"\").replace(\"  \",\"\") #removing //n if present\n",
    "    sentance= re.sub(\"\\S*\\d\\S*\", \"\", sentance).strip() #removing special characters and emojis\n",
    "    sentance = cleanhtml(sentance) #html tags\n",
    "    sentance = decontracted(sentance) #decontraction\n",
    "    sentance = cleanpunc(sentance) #cleaning punctuation\n",
    "    sentance = re.sub('[^A-Za-z0-9]+', ' ', sentance)# https://gist.github.com/sebleier/554280\n",
    "    sentance = ' '.join(e.lower() for e in sentance.split() if e.lower() not in s) #converting everything to lowercase and stopword removal \n",
    "    preprocessed_titles.append(sentance.strip(\"'\"))"
   ]
  },
  {
   "cell_type": "code",
   "execution_count": 79,
   "metadata": {},
   "outputs": [],
   "source": [
    "data['preprocessed_titles']=preprocessed_titles\n",
    "data.drop(['titles'], axis=1,inplace=True)"
   ]
  },
  {
   "cell_type": "code",
   "execution_count": 80,
   "metadata": {},
   "outputs": [
    {
     "data": {
      "text/html": [
       "<div>\n",
       "<style scoped>\n",
       "    .dataframe tbody tr th:only-of-type {\n",
       "        vertical-align: middle;\n",
       "    }\n",
       "\n",
       "    .dataframe tbody tr th {\n",
       "        vertical-align: top;\n",
       "    }\n",
       "\n",
       "    .dataframe thead th {\n",
       "        text-align: right;\n",
       "    }\n",
       "</style>\n",
       "<table border=\"1\" class=\"dataframe\">\n",
       "  <thead>\n",
       "    <tr style=\"text-align: right;\">\n",
       "      <th></th>\n",
       "      <th>score</th>\n",
       "      <th>preprocessed_reviews</th>\n",
       "      <th>preprocessed_titles</th>\n",
       "    </tr>\n",
       "  </thead>\n",
       "  <tbody>\n",
       "    <tr>\n",
       "      <th>0</th>\n",
       "      <td>1</td>\n",
       "      <td>product ship report within afewhour receipt on...</td>\n",
       "      <td>pray dont receive defective product</td>\n",
       "    </tr>\n",
       "    <tr>\n",
       "      <th>1</th>\n",
       "      <td>0</td>\n",
       "      <td>damag productread</td>\n",
       "      <td>chipper quality</td>\n",
       "    </tr>\n",
       "    <tr>\n",
       "      <th>2</th>\n",
       "      <td>1</td>\n",
       "      <td>updat give chanc regret go ahead icon look gre...</td>\n",
       "      <td>value money go</td>\n",
       "    </tr>\n",
       "    <tr>\n",
       "      <th>3</th>\n",
       "      <td>0</td>\n",
       "      <td>thank samsung amazon time rakshabandhan delive...</td>\n",
       "      <td>samsunghitsbullseye</td>\n",
       "    </tr>\n",
       "    <tr>\n",
       "      <th>4</th>\n",
       "      <td>1</td>\n",
       "      <td>brought phone wife die hard fan oppo offer lik...</td>\n",
       "      <td>good opportunity oppo lovers upgrade</td>\n",
       "    </tr>\n",
       "  </tbody>\n",
       "</table>\n",
       "</div>"
      ],
      "text/plain": [
       "   score                               preprocessed_reviews  \\\n",
       "0      1  product ship report within afewhour receipt on...   \n",
       "1      0                                 damag productread    \n",
       "2      1  updat give chanc regret go ahead icon look gre...   \n",
       "3      0  thank samsung amazon time rakshabandhan delive...   \n",
       "4      1  brought phone wife die hard fan oppo offer lik...   \n",
       "\n",
       "                    preprocessed_titles  \n",
       "0   pray dont receive defective product  \n",
       "1                       chipper quality  \n",
       "2                        value money go  \n",
       "3                   samsunghitsbullseye  \n",
       "4  good opportunity oppo lovers upgrade  "
      ]
     },
     "execution_count": 80,
     "metadata": {},
     "output_type": "execute_result"
    }
   ],
   "source": [
    "data.head()"
   ]
  },
  {
   "cell_type": "code",
   "execution_count": 81,
   "metadata": {},
   "outputs": [
    {
     "data": {
      "text/html": [
       "<div>\n",
       "<style scoped>\n",
       "    .dataframe tbody tr th:only-of-type {\n",
       "        vertical-align: middle;\n",
       "    }\n",
       "\n",
       "    .dataframe tbody tr th {\n",
       "        vertical-align: top;\n",
       "    }\n",
       "\n",
       "    .dataframe thead th {\n",
       "        text-align: right;\n",
       "    }\n",
       "</style>\n",
       "<table border=\"1\" class=\"dataframe\">\n",
       "  <thead>\n",
       "    <tr style=\"text-align: right;\">\n",
       "      <th></th>\n",
       "      <th>score</th>\n",
       "      <th>preprocessed_reviews</th>\n",
       "      <th>preprocessed_titles</th>\n",
       "    </tr>\n",
       "  </thead>\n",
       "  <tbody>\n",
       "    <tr>\n",
       "      <th>0</th>\n",
       "      <td>1</td>\n",
       "      <td>product ship report within afewhour receipt on...</td>\n",
       "      <td>pray dont receiv defect product</td>\n",
       "    </tr>\n",
       "    <tr>\n",
       "      <th>1</th>\n",
       "      <td>0</td>\n",
       "      <td>damag productread</td>\n",
       "      <td>chipper qualiti</td>\n",
       "    </tr>\n",
       "    <tr>\n",
       "      <th>2</th>\n",
       "      <td>1</td>\n",
       "      <td>updat give chanc regret go ahead icon look gre...</td>\n",
       "      <td>valu money go</td>\n",
       "    </tr>\n",
       "    <tr>\n",
       "      <th>3</th>\n",
       "      <td>0</td>\n",
       "      <td>thank samsung amazon time rakshabandhan delive...</td>\n",
       "      <td>samsunghitsbullsey</td>\n",
       "    </tr>\n",
       "    <tr>\n",
       "      <th>4</th>\n",
       "      <td>1</td>\n",
       "      <td>brought phone wife die hard fan oppo offer lik...</td>\n",
       "      <td>good opportun oppo lover upgrad</td>\n",
       "    </tr>\n",
       "  </tbody>\n",
       "</table>\n",
       "</div>"
      ],
      "text/plain": [
       "   score                               preprocessed_reviews  \\\n",
       "0      1  product ship report within afewhour receipt on...   \n",
       "1      0                                 damag productread    \n",
       "2      1  updat give chanc regret go ahead icon look gre...   \n",
       "3      0  thank samsung amazon time rakshabandhan delive...   \n",
       "4      1  brought phone wife die hard fan oppo offer lik...   \n",
       "\n",
       "                preprocessed_titles  \n",
       "0  pray dont receiv defect product   \n",
       "1                  chipper qualiti   \n",
       "2                    valu money go   \n",
       "3               samsunghitsbullsey   \n",
       "4  good opportun oppo lover upgrad   "
      ]
     },
     "execution_count": 81,
     "metadata": {},
     "output_type": "execute_result"
    }
   ],
   "source": [
    "data[\"preprocessed_titles\"] = data[\"preprocessed_titles\"].apply(stemSentence)\n",
    "data.head()"
   ]
  },
  {
   "cell_type": "code",
   "execution_count": 82,
   "metadata": {},
   "outputs": [
    {
     "data": {
      "text/plain": [
       "array([ 18,   2, 142, 135, 108,  15,   7,  18,  18,  18, 142,  96, 135,\n",
       "         2,  17,  15, 142,  18,   2, 135,  15, 108, 142,  18,  18,   7,\n",
       "        96,  18,   2, 142, 135, 215,  11,  18,  15, 142,  96, 108,  46,\n",
       "        15, 215,  15,  10,   7,  18,  18,   4,  18, 108,  13,  46,  18,\n",
       "       215, 215,  16,  15,  10,  15,  99,  23,   4,  96,  29,  96, 108,\n",
       "         1,   2,  99,  23,  23,  18,  15,  10,  16,   2,   1, 215,  96,\n",
       "         1,  11,  20,   5,  99,   1,  15,  18,   1, 135,   3,  15,  23,\n",
       "        10,   7,   1,  33,  15,   7,   3, 105,   5,  16,   2,  39,  20,\n",
       "        39,   5,  15, 177,   4,  23,   1,   7], dtype=int64)"
      ]
     },
     "execution_count": 82,
     "metadata": {},
     "output_type": "execute_result"
    }
   ],
   "source": [
    "data[\"preprocessed_reviews\"].str.split().apply(len).values"
   ]
  },
  {
   "cell_type": "markdown",
   "metadata": {},
   "source": [
    "**We will create two more columns with stores the number of words present in each reviews and titles**"
   ]
  },
  {
   "cell_type": "code",
   "execution_count": 83,
   "metadata": {},
   "outputs": [],
   "source": [
    "data[\"review_words\"] = data[\"preprocessed_reviews\"].str.split().apply(len).values\n",
    "data[\"titles_words\"] = data[\"preprocessed_titles\"].str.split().apply(len).values"
   ]
  },
  {
   "cell_type": "code",
   "execution_count": 84,
   "metadata": {},
   "outputs": [
    {
     "data": {
      "text/html": [
       "<div>\n",
       "<style scoped>\n",
       "    .dataframe tbody tr th:only-of-type {\n",
       "        vertical-align: middle;\n",
       "    }\n",
       "\n",
       "    .dataframe tbody tr th {\n",
       "        vertical-align: top;\n",
       "    }\n",
       "\n",
       "    .dataframe thead th {\n",
       "        text-align: right;\n",
       "    }\n",
       "</style>\n",
       "<table border=\"1\" class=\"dataframe\">\n",
       "  <thead>\n",
       "    <tr style=\"text-align: right;\">\n",
       "      <th></th>\n",
       "      <th>score</th>\n",
       "      <th>preprocessed_reviews</th>\n",
       "      <th>preprocessed_titles</th>\n",
       "      <th>review_words</th>\n",
       "      <th>titles_words</th>\n",
       "    </tr>\n",
       "  </thead>\n",
       "  <tbody>\n",
       "    <tr>\n",
       "      <th>0</th>\n",
       "      <td>1</td>\n",
       "      <td>product ship report within afewhour receipt on...</td>\n",
       "      <td>pray dont receiv defect product</td>\n",
       "      <td>18</td>\n",
       "      <td>5</td>\n",
       "    </tr>\n",
       "    <tr>\n",
       "      <th>1</th>\n",
       "      <td>0</td>\n",
       "      <td>damag productread</td>\n",
       "      <td>chipper qualiti</td>\n",
       "      <td>2</td>\n",
       "      <td>2</td>\n",
       "    </tr>\n",
       "    <tr>\n",
       "      <th>2</th>\n",
       "      <td>1</td>\n",
       "      <td>updat give chanc regret go ahead icon look gre...</td>\n",
       "      <td>valu money go</td>\n",
       "      <td>142</td>\n",
       "      <td>3</td>\n",
       "    </tr>\n",
       "    <tr>\n",
       "      <th>3</th>\n",
       "      <td>0</td>\n",
       "      <td>thank samsung amazon time rakshabandhan delive...</td>\n",
       "      <td>samsunghitsbullsey</td>\n",
       "      <td>135</td>\n",
       "      <td>1</td>\n",
       "    </tr>\n",
       "    <tr>\n",
       "      <th>4</th>\n",
       "      <td>1</td>\n",
       "      <td>brought phone wife die hard fan oppo offer lik...</td>\n",
       "      <td>good opportun oppo lover upgrad</td>\n",
       "      <td>108</td>\n",
       "      <td>5</td>\n",
       "    </tr>\n",
       "  </tbody>\n",
       "</table>\n",
       "</div>"
      ],
      "text/plain": [
       "   score                               preprocessed_reviews  \\\n",
       "0      1  product ship report within afewhour receipt on...   \n",
       "1      0                                 damag productread    \n",
       "2      1  updat give chanc regret go ahead icon look gre...   \n",
       "3      0  thank samsung amazon time rakshabandhan delive...   \n",
       "4      1  brought phone wife die hard fan oppo offer lik...   \n",
       "\n",
       "                preprocessed_titles  review_words  titles_words  \n",
       "0  pray dont receiv defect product             18             5  \n",
       "1                  chipper qualiti              2             2  \n",
       "2                    valu money go            142             3  \n",
       "3               samsunghitsbullsey            135             1  \n",
       "4  good opportun oppo lover upgrad            108             5  "
      ]
     },
     "execution_count": 84,
     "metadata": {},
     "output_type": "execute_result"
    }
   ],
   "source": [
    "data.head()"
   ]
  },
  {
   "cell_type": "markdown",
   "metadata": {},
   "source": [
    "**Now we have cleaned our data and now next step is exploring about the data** \n",
    "\n",
    "**Score** is our dependent variable\n",
    "\n",
    "**Preprocessed Reviews and Preprocessed Titles** our independent variable and lets check our association between these dependent and independent variables"
   ]
  },
  {
   "cell_type": "code",
   "execution_count": 85,
   "metadata": {},
   "outputs": [
    {
     "data": {
      "image/png": "[encoded data removed]",
      "text/plain": [
       "<Figure size 432x288 with 1 Axes>"
      ]
     },
     "metadata": {},
     "output_type": "display_data"
    }
   ],
   "source": [
    "#how to plot a pie chart-> https://pythonspot.com/matplotlib-pie-chart/\n",
    "#plt.pie documentation-> https://matplotlib.org/3.1.0/api/_as_gen/matplotlib.pyplot.pie.html\n",
    "\n",
    "approved_not_approved=data['score'].value_counts()\n",
    "explode=(0.2,0.0)\n",
    "plt.pie(approved_not_approved,explode=explode,labels=['Positive','Negative'],shadow=True,autopct='%1.1f%%')\n",
    "plt.show()"
   ]
  },
  {
   "cell_type": "code",
   "execution_count": 86,
   "metadata": {},
   "outputs": [
    {
     "data": {
      "text/html": [
       "<div>\n",
       "<style scoped>\n",
       "    .dataframe tbody tr th:only-of-type {\n",
       "        vertical-align: middle;\n",
       "    }\n",
       "\n",
       "    .dataframe tbody tr th {\n",
       "        vertical-align: top;\n",
       "    }\n",
       "\n",
       "    .dataframe thead th {\n",
       "        text-align: right;\n",
       "    }\n",
       "</style>\n",
       "<table border=\"1\" class=\"dataframe\">\n",
       "  <thead>\n",
       "    <tr style=\"text-align: right;\">\n",
       "      <th></th>\n",
       "      <th>score</th>\n",
       "      <th>review_words</th>\n",
       "      <th>titles_words</th>\n",
       "    </tr>\n",
       "  </thead>\n",
       "  <tbody>\n",
       "    <tr>\n",
       "      <th>count</th>\n",
       "      <td>112.000000</td>\n",
       "      <td>112.000000</td>\n",
       "      <td>112.000000</td>\n",
       "    </tr>\n",
       "    <tr>\n",
       "      <th>mean</th>\n",
       "      <td>0.696429</td>\n",
       "      <td>48.080357</td>\n",
       "      <td>2.946429</td>\n",
       "    </tr>\n",
       "    <tr>\n",
       "      <th>std</th>\n",
       "      <td>0.461866</td>\n",
       "      <td>59.462023</td>\n",
       "      <td>1.564466</td>\n",
       "    </tr>\n",
       "    <tr>\n",
       "      <th>min</th>\n",
       "      <td>0.000000</td>\n",
       "      <td>1.000000</td>\n",
       "      <td>1.000000</td>\n",
       "    </tr>\n",
       "    <tr>\n",
       "      <th>25%</th>\n",
       "      <td>0.000000</td>\n",
       "      <td>9.250000</td>\n",
       "      <td>2.000000</td>\n",
       "    </tr>\n",
       "    <tr>\n",
       "      <th>50%</th>\n",
       "      <td>1.000000</td>\n",
       "      <td>18.000000</td>\n",
       "      <td>3.000000</td>\n",
       "    </tr>\n",
       "    <tr>\n",
       "      <th>75%</th>\n",
       "      <td>1.000000</td>\n",
       "      <td>96.000000</td>\n",
       "      <td>4.000000</td>\n",
       "    </tr>\n",
       "    <tr>\n",
       "      <th>max</th>\n",
       "      <td>1.000000</td>\n",
       "      <td>215.000000</td>\n",
       "      <td>7.000000</td>\n",
       "    </tr>\n",
       "  </tbody>\n",
       "</table>\n",
       "</div>"
      ],
      "text/plain": [
       "            score  review_words  titles_words\n",
       "count  112.000000    112.000000    112.000000\n",
       "mean     0.696429     48.080357      2.946429\n",
       "std      0.461866     59.462023      1.564466\n",
       "min      0.000000      1.000000      1.000000\n",
       "25%      0.000000      9.250000      2.000000\n",
       "50%      1.000000     18.000000      3.000000\n",
       "75%      1.000000     96.000000      4.000000\n",
       "max      1.000000    215.000000      7.000000"
      ]
     },
     "execution_count": 86,
     "metadata": {},
     "output_type": "execute_result"
    }
   ],
   "source": [
    "data.describe()"
   ]
  },
  {
   "cell_type": "code",
   "execution_count": 87,
   "metadata": {},
   "outputs": [
    {
     "data": {
      "image/png": "[encoded data removed]",
      "text/plain": [
       "<Figure size 720x576 with 4 Axes>"
      ]
     },
     "metadata": {
      "needs_background": "light"
     },
     "output_type": "display_data"
    }
   ],
   "source": [
    "data.hist(figsize=(10,8));"
   ]
  },
  {
   "cell_type": "markdown",
   "metadata": {},
   "source": [
    "**Descriptive Analysis**"
   ]
  },
  {
   "cell_type": "markdown",
   "metadata": {},
   "source": [
    "For reviews we have **50words** on average on each review and since we have **standard deviation** of around **60** the data is very spread out(incosistent data) which can be clearly seen in the histogram of the review_words i.e the histogram is **positively skewed and most of the data lies between 0 to around 60** , some reviews(around 5) have around **200 words**\n",
    "\n",
    "For titles we have a mean of **3words per title** with a standard deviation of **1.5**. Distribution has 3 modes one at around 1.5 , then around 3 and at 4.5"
   ]
  },
  {
   "cell_type": "code",
   "execution_count": 88,
   "metadata": {},
   "outputs": [],
   "source": [
    "#masking separate dataframes for positive review and negative review so it will make it easy for us to use it in future and not to check it everytime \n",
    "positive_review = data[data[\"score\"]==1]\n",
    "negative_review = data[data[\"score\"]==0]"
   ]
  },
  {
   "cell_type": "code",
   "execution_count": 89,
   "metadata": {},
   "outputs": [
    {
     "data": {
      "text/html": [
       "<div>\n",
       "<style scoped>\n",
       "    .dataframe tbody tr th:only-of-type {\n",
       "        vertical-align: middle;\n",
       "    }\n",
       "\n",
       "    .dataframe tbody tr th {\n",
       "        vertical-align: top;\n",
       "    }\n",
       "\n",
       "    .dataframe thead th {\n",
       "        text-align: right;\n",
       "    }\n",
       "</style>\n",
       "<table border=\"1\" class=\"dataframe\">\n",
       "  <thead>\n",
       "    <tr style=\"text-align: right;\">\n",
       "      <th></th>\n",
       "      <th>score</th>\n",
       "      <th>preprocessed_reviews</th>\n",
       "      <th>preprocessed_titles</th>\n",
       "      <th>review_words</th>\n",
       "      <th>titles_words</th>\n",
       "    </tr>\n",
       "  </thead>\n",
       "  <tbody>\n",
       "    <tr>\n",
       "      <th>0</th>\n",
       "      <td>1</td>\n",
       "      <td>product ship report within afewhour receipt on...</td>\n",
       "      <td>pray dont receiv defect product</td>\n",
       "      <td>18</td>\n",
       "      <td>5</td>\n",
       "    </tr>\n",
       "    <tr>\n",
       "      <th>2</th>\n",
       "      <td>1</td>\n",
       "      <td>updat give chanc regret go ahead icon look gre...</td>\n",
       "      <td>valu money go</td>\n",
       "      <td>142</td>\n",
       "      <td>3</td>\n",
       "    </tr>\n",
       "    <tr>\n",
       "      <th>4</th>\n",
       "      <td>1</td>\n",
       "      <td>brought phone wife die hard fan oppo offer lik...</td>\n",
       "      <td>good opportun oppo lover upgrad</td>\n",
       "      <td>108</td>\n",
       "      <td>5</td>\n",
       "    </tr>\n",
       "    <tr>\n",
       "      <th>5</th>\n",
       "      <td>1</td>\n",
       "      <td>best camera good batteri life eat bodi materi ...</td>\n",
       "      <td>samsung rounderbest mobil</td>\n",
       "      <td>15</td>\n",
       "      <td>3</td>\n",
       "    </tr>\n",
       "    <tr>\n",
       "      <th>6</th>\n",
       "      <td>1</td>\n",
       "      <td>dont buy min game phone lag muchread</td>\n",
       "      <td>dont buy min game phone lag much</td>\n",
       "      <td>7</td>\n",
       "      <td>7</td>\n",
       "    </tr>\n",
       "  </tbody>\n",
       "</table>\n",
       "</div>"
      ],
      "text/plain": [
       "   score                               preprocessed_reviews  \\\n",
       "0      1  product ship report within afewhour receipt on...   \n",
       "2      1  updat give chanc regret go ahead icon look gre...   \n",
       "4      1  brought phone wife die hard fan oppo offer lik...   \n",
       "5      1  best camera good batteri life eat bodi materi ...   \n",
       "6      1              dont buy min game phone lag muchread    \n",
       "\n",
       "                 preprocessed_titles  review_words  titles_words  \n",
       "0   pray dont receiv defect product             18             5  \n",
       "2                     valu money go            142             3  \n",
       "4   good opportun oppo lover upgrad            108             5  \n",
       "5         samsung rounderbest mobil             15             3  \n",
       "6  dont buy min game phone lag much              7             7  "
      ]
     },
     "execution_count": 89,
     "metadata": {},
     "output_type": "execute_result"
    }
   ],
   "source": [
    "positive_review.head()"
   ]
  },
  {
   "cell_type": "code",
   "execution_count": 90,
   "metadata": {},
   "outputs": [
    {
     "data": {
      "text/html": [
       "<div>\n",
       "<style scoped>\n",
       "    .dataframe tbody tr th:only-of-type {\n",
       "        vertical-align: middle;\n",
       "    }\n",
       "\n",
       "    .dataframe tbody tr th {\n",
       "        vertical-align: top;\n",
       "    }\n",
       "\n",
       "    .dataframe thead th {\n",
       "        text-align: right;\n",
       "    }\n",
       "</style>\n",
       "<table border=\"1\" class=\"dataframe\">\n",
       "  <thead>\n",
       "    <tr style=\"text-align: right;\">\n",
       "      <th></th>\n",
       "      <th>score</th>\n",
       "      <th>preprocessed_reviews</th>\n",
       "      <th>preprocessed_titles</th>\n",
       "      <th>review_words</th>\n",
       "      <th>titles_words</th>\n",
       "    </tr>\n",
       "  </thead>\n",
       "  <tbody>\n",
       "    <tr>\n",
       "      <th>1</th>\n",
       "      <td>0</td>\n",
       "      <td>damag productread</td>\n",
       "      <td>chipper qualiti</td>\n",
       "      <td>2</td>\n",
       "      <td>2</td>\n",
       "    </tr>\n",
       "    <tr>\n",
       "      <th>3</th>\n",
       "      <td>0</td>\n",
       "      <td>thank samsung amazon time rakshabandhan delive...</td>\n",
       "      <td>samsunghitsbullsey</td>\n",
       "      <td>135</td>\n",
       "      <td>1</td>\n",
       "    </tr>\n",
       "    <tr>\n",
       "      <th>12</th>\n",
       "      <td>0</td>\n",
       "      <td>thank samsung amazon time rakshabandhan delive...</td>\n",
       "      <td>samsunghitsbullsey</td>\n",
       "      <td>135</td>\n",
       "      <td>1</td>\n",
       "    </tr>\n",
       "    <tr>\n",
       "      <th>13</th>\n",
       "      <td>0</td>\n",
       "      <td>damag productread</td>\n",
       "      <td>chipper qualiti</td>\n",
       "      <td>2</td>\n",
       "      <td>2</td>\n",
       "    </tr>\n",
       "    <tr>\n",
       "      <th>15</th>\n",
       "      <td>0</td>\n",
       "      <td>camera sound option camera averag qualiti set ...</td>\n",
       "      <td>wast money</td>\n",
       "      <td>15</td>\n",
       "      <td>2</td>\n",
       "    </tr>\n",
       "  </tbody>\n",
       "</table>\n",
       "</div>"
      ],
      "text/plain": [
       "    score                               preprocessed_reviews  \\\n",
       "1       0                                 damag productread    \n",
       "3       0  thank samsung amazon time rakshabandhan delive...   \n",
       "12      0  thank samsung amazon time rakshabandhan delive...   \n",
       "13      0                                 damag productread    \n",
       "15      0  camera sound option camera averag qualiti set ...   \n",
       "\n",
       "    preprocessed_titles  review_words  titles_words  \n",
       "1      chipper qualiti              2             2  \n",
       "3   samsunghitsbullsey            135             1  \n",
       "12  samsunghitsbullsey            135             1  \n",
       "13     chipper qualiti              2             2  \n",
       "15          wast money             15             2  "
      ]
     },
     "execution_count": 90,
     "metadata": {},
     "output_type": "execute_result"
    }
   ],
   "source": [
    "negative_review.head()"
   ]
  },
  {
   "cell_type": "code",
   "execution_count": 91,
   "metadata": {},
   "outputs": [
    {
     "data": {
      "text/html": [
       "<div>\n",
       "<style scoped>\n",
       "    .dataframe tbody tr th:only-of-type {\n",
       "        vertical-align: middle;\n",
       "    }\n",
       "\n",
       "    .dataframe tbody tr th {\n",
       "        vertical-align: top;\n",
       "    }\n",
       "\n",
       "    .dataframe thead th {\n",
       "        text-align: right;\n",
       "    }\n",
       "</style>\n",
       "<table border=\"1\" class=\"dataframe\">\n",
       "  <thead>\n",
       "    <tr style=\"text-align: right;\">\n",
       "      <th></th>\n",
       "      <th>score</th>\n",
       "      <th>review_words</th>\n",
       "      <th>titles_words</th>\n",
       "    </tr>\n",
       "  </thead>\n",
       "  <tbody>\n",
       "    <tr>\n",
       "      <th>count</th>\n",
       "      <td>78.0</td>\n",
       "      <td>78.000000</td>\n",
       "      <td>78.000000</td>\n",
       "    </tr>\n",
       "    <tr>\n",
       "      <th>mean</th>\n",
       "      <td>1.0</td>\n",
       "      <td>52.038462</td>\n",
       "      <td>3.448718</td>\n",
       "    </tr>\n",
       "    <tr>\n",
       "      <th>std</th>\n",
       "      <td>0.0</td>\n",
       "      <td>62.754819</td>\n",
       "      <td>1.525944</td>\n",
       "    </tr>\n",
       "    <tr>\n",
       "      <th>min</th>\n",
       "      <td>1.0</td>\n",
       "      <td>1.000000</td>\n",
       "      <td>1.000000</td>\n",
       "    </tr>\n",
       "    <tr>\n",
       "      <th>25%</th>\n",
       "      <td>1.0</td>\n",
       "      <td>15.000000</td>\n",
       "      <td>2.000000</td>\n",
       "    </tr>\n",
       "    <tr>\n",
       "      <th>50%</th>\n",
       "      <td>1.0</td>\n",
       "      <td>18.000000</td>\n",
       "      <td>4.000000</td>\n",
       "    </tr>\n",
       "    <tr>\n",
       "      <th>75%</th>\n",
       "      <td>1.0</td>\n",
       "      <td>96.000000</td>\n",
       "      <td>5.000000</td>\n",
       "    </tr>\n",
       "    <tr>\n",
       "      <th>max</th>\n",
       "      <td>1.0</td>\n",
       "      <td>215.000000</td>\n",
       "      <td>7.000000</td>\n",
       "    </tr>\n",
       "  </tbody>\n",
       "</table>\n",
       "</div>"
      ],
      "text/plain": [
       "       score  review_words  titles_words\n",
       "count   78.0     78.000000     78.000000\n",
       "mean     1.0     52.038462      3.448718\n",
       "std      0.0     62.754819      1.525944\n",
       "min      1.0      1.000000      1.000000\n",
       "25%      1.0     15.000000      2.000000\n",
       "50%      1.0     18.000000      4.000000\n",
       "75%      1.0     96.000000      5.000000\n",
       "max      1.0    215.000000      7.000000"
      ]
     },
     "execution_count": 91,
     "metadata": {},
     "output_type": "execute_result"
    }
   ],
   "source": [
    "positive_review.describe()"
   ]
  },
  {
   "cell_type": "code",
   "execution_count": 92,
   "metadata": {},
   "outputs": [
    {
     "data": {
      "text/html": [
       "<div>\n",
       "<style scoped>\n",
       "    .dataframe tbody tr th:only-of-type {\n",
       "        vertical-align: middle;\n",
       "    }\n",
       "\n",
       "    .dataframe tbody tr th {\n",
       "        vertical-align: top;\n",
       "    }\n",
       "\n",
       "    .dataframe thead th {\n",
       "        text-align: right;\n",
       "    }\n",
       "</style>\n",
       "<table border=\"1\" class=\"dataframe\">\n",
       "  <thead>\n",
       "    <tr style=\"text-align: right;\">\n",
       "      <th></th>\n",
       "      <th>score</th>\n",
       "      <th>review_words</th>\n",
       "      <th>titles_words</th>\n",
       "    </tr>\n",
       "  </thead>\n",
       "  <tbody>\n",
       "    <tr>\n",
       "      <th>count</th>\n",
       "      <td>34.0</td>\n",
       "      <td>34.000000</td>\n",
       "      <td>34.000000</td>\n",
       "    </tr>\n",
       "    <tr>\n",
       "      <th>mean</th>\n",
       "      <td>0.0</td>\n",
       "      <td>39.000000</td>\n",
       "      <td>1.794118</td>\n",
       "    </tr>\n",
       "    <tr>\n",
       "      <th>std</th>\n",
       "      <td>0.0</td>\n",
       "      <td>50.812191</td>\n",
       "      <td>0.913847</td>\n",
       "    </tr>\n",
       "    <tr>\n",
       "      <th>min</th>\n",
       "      <td>0.0</td>\n",
       "      <td>1.000000</td>\n",
       "      <td>1.000000</td>\n",
       "    </tr>\n",
       "    <tr>\n",
       "      <th>25%</th>\n",
       "      <td>0.0</td>\n",
       "      <td>2.000000</td>\n",
       "      <td>1.000000</td>\n",
       "    </tr>\n",
       "    <tr>\n",
       "      <th>50%</th>\n",
       "      <td>0.0</td>\n",
       "      <td>15.000000</td>\n",
       "      <td>2.000000</td>\n",
       "    </tr>\n",
       "    <tr>\n",
       "      <th>75%</th>\n",
       "      <td>0.0</td>\n",
       "      <td>84.000000</td>\n",
       "      <td>2.000000</td>\n",
       "    </tr>\n",
       "    <tr>\n",
       "      <th>max</th>\n",
       "      <td>0.0</td>\n",
       "      <td>135.000000</td>\n",
       "      <td>5.000000</td>\n",
       "    </tr>\n",
       "  </tbody>\n",
       "</table>\n",
       "</div>"
      ],
      "text/plain": [
       "       score  review_words  titles_words\n",
       "count   34.0     34.000000     34.000000\n",
       "mean     0.0     39.000000      1.794118\n",
       "std      0.0     50.812191      0.913847\n",
       "min      0.0      1.000000      1.000000\n",
       "25%      0.0      2.000000      1.000000\n",
       "50%      0.0     15.000000      2.000000\n",
       "75%      0.0     84.000000      2.000000\n",
       "max      0.0    135.000000      5.000000"
      ]
     },
     "execution_count": 92,
     "metadata": {},
     "output_type": "execute_result"
    }
   ],
   "source": [
    "negative_review.describe()"
   ]
  },
  {
   "cell_type": "code",
   "execution_count": 93,
   "metadata": {},
   "outputs": [
    {
     "data": {
      "image/png": "[encoded data removed]",
      "text/plain": [
       "<Figure size 432x288 with 1 Axes>"
      ]
     },
     "metadata": {
      "needs_background": "light"
     },
     "output_type": "display_data"
    }
   ],
   "source": [
    "positive_review[\"review_words\"].hist(alpha = 0.5,bins = 20, label = 'Positive')\n",
    "negative_review[\"review_words\"].hist(alpha = 0.5,bins = 20, label = 'Negative')\n",
    "plt.ylabel(\"Frequencey\")\n",
    "plt.xlabel(\"Number of words\")\n",
    "plt.title(\"Positive Vs Negative in Review\")\n",
    "plt.legend();"
   ]
  },
  {
   "cell_type": "markdown",
   "metadata": {},
   "source": [
    "We can see that for reviews number of words are more for **positive reviews** then for **negative reviews**"
   ]
  },
  {
   "cell_type": "code",
   "execution_count": 94,
   "metadata": {},
   "outputs": [
    {
     "data": {
      "image/png": "[encoded data removed]",
      "text/plain": [
       "<Figure size 432x288 with 1 Axes>"
      ]
     },
     "metadata": {
      "needs_background": "light"
     },
     "output_type": "display_data"
    }
   ],
   "source": [
    "positive_review[\"titles_words\"].hist(alpha = 0.5,bins = 20, label = 'Positive')\n",
    "negative_review[\"titles_words\"].hist(alpha = 0.5,bins = 20, label = 'Negative')\n",
    "plt.ylabel(\"Frequencey\")\n",
    "plt.xlabel(\"Number of words\")\n",
    "plt.title(\"Positive Vs Negative in Title\")\n",
    "plt.legend();"
   ]
  },
  {
   "cell_type": "markdown",
   "metadata": {},
   "source": [
    "for the titles we can see that 1-2 word titles are more for in **negative reviews** but the condtion reverses after  that and we see more words in positive review title then for the title with negative review"
   ]
  },
  {
   "cell_type": "code",
   "execution_count": 95,
   "metadata": {},
   "outputs": [
    {
     "data": {
      "image/png": "[encoded data removed]",
      "text/plain": [
       "<Figure size 432x288 with 1 Axes>"
      ]
     },
     "metadata": {
      "needs_background": "light"
     },
     "output_type": "display_data"
    }
   ],
   "source": [
    "positive_word_count = positive_review[\"review_words\"].values\n",
    "\n",
    "negative_word_count = negative_review[\"review_words\"].values\n",
    "\n",
    "plt.boxplot([positive_word_count, negative_word_count])\n",
    "plt.title('Words in each review')\n",
    "plt.xticks([1,2],('Positive Review','Negative Review'))\n",
    "plt.ylabel('Words in reviews')\n",
    "plt.grid()\n",
    "plt.show()\n"
   ]
  },
  {
   "cell_type": "markdown",
   "metadata": {},
   "source": [
    "**For positive review**\n",
    "1. Range is around ~230\n",
    "2. IQR is around (100-15) = ~85\n",
    "3. Median is around ~16\n",
    "4. We have lot of high values that is beyond 75percentile\n",
    "\n",
    "**For negative review**\n",
    "1. Range is around 130\n",
    "2. IQR is around (100-1) = ~99\n",
    "3. Median is around ~15\n",
    "4. It has less high values beyond 75percentile as compared to positive review"
   ]
  },
  {
   "cell_type": "code",
   "execution_count": 96,
   "metadata": {},
   "outputs": [
    {
     "data": {
      "image/png": "[encoded data removed]",
      "text/plain": [
       "<Figure size 432x288 with 1 Axes>"
      ]
     },
     "metadata": {
      "needs_background": "light"
     },
     "output_type": "display_data"
    }
   ],
   "source": [
    "positive_word_count = positive_review[\"titles_words\"].values\n",
    "\n",
    "negative_word_count = negative_review[\"titles_words\"].values\n",
    "\n",
    "plt.boxplot([positive_word_count, negative_word_count])\n",
    "plt.title('Words in each review title')\n",
    "plt.xticks([1,2],('Positive Title','Negative Title'))\n",
    "plt.ylabel('Words in Titles')\n",
    "plt.grid()\n",
    "plt.show()\n"
   ]
  },
  {
   "cell_type": "markdown",
   "metadata": {},
   "source": [
    "**For positive title**\n",
    "1. Range is around ~7-1 = 6\n",
    "2. IQR is around (5-2) = ~3\n",
    "3. Median is around 3\n",
    "\n",
    "**For negative review**\n",
    "1. Range is around 4-1= 3\n",
    "2. IQR is around (2-1) = ~1\n",
    "3. Median is around ~2\n",
    "4. Outlier at 4\n",
    "5. Median and 75percentile value both falls at 2"
   ]
  },
  {
   "cell_type": "code",
   "execution_count": 97,
   "metadata": {},
   "outputs": [
    {
     "data": {
      "image/png": "[encoded data removed]",
      "text/plain": [
       "<Figure size 576x576 with 1 Axes>"
      ]
     },
     "metadata": {
      "needs_background": "light"
     },
     "output_type": "display_data"
    }
   ],
   "source": [
    "#Word Cloud of accepted project essay\n",
    "from wordcloud import WordCloud\n",
    "x = positive_review[\"preprocessed_reviews\"]\n",
    "text = \" \".join(review for review in x)\n",
    "plt.subplots(figsize=(8,8))\n",
    "wordcloud = WordCloud(\n",
    "                      background_color='black',\n",
    "                      width=512,\n",
    "                      height=384\n",
    "                         ).generate(text)\n",
    "plt.imshow(wordcloud)\n",
    "plt.axis('off')\n",
    "#plt.savefig('graph.png')\n",
    "\n",
    "plt.show()"
   ]
  },
  {
   "cell_type": "markdown",
   "metadata": {},
   "source": [
    "words like **phone, time, back , cover** dominate here we can also see words like **good,within** which could tell us that its a positive review during modelling"
   ]
  },
  {
   "cell_type": "code",
   "execution_count": 98,
   "metadata": {},
   "outputs": [
    {
     "data": {
      "image/png": "[encoded data removed]",
      "text/plain": [
       "<Figure size 576x576 with 1 Axes>"
      ]
     },
     "metadata": {
      "needs_background": "light"
     },
     "output_type": "display_data"
    }
   ],
   "source": [
    "#Word Cloud of accepted project essay\n",
    "from wordcloud import WordCloud\n",
    "x = negative_review[\"preprocessed_reviews\"]\n",
    "text = \" \".join(review for review in x)\n",
    "plt.subplots(figsize=(8,8))\n",
    "wordcloud = WordCloud(\n",
    "                      background_color='white',\n",
    "                      width=512,\n",
    "                      height=384\n",
    "                         ).generate(text)\n",
    "plt.imshow(wordcloud)\n",
    "plt.axis('off')\n",
    "#plt.savefig('graph.png')\n",
    "\n",
    "plt.show()"
   ]
  },
  {
   "cell_type": "markdown",
   "metadata": {},
   "source": [
    "Words like **dont, need , work, version**  are highlighted here, but **thank** word is also present but is in the negative review, wonder why someone writes thank in negative review"
   ]
  },
  {
   "cell_type": "code",
   "execution_count": 99,
   "metadata": {},
   "outputs": [
    {
     "data": {
      "image/png": "[encoded data removed]",
      "text/plain": [
       "<Figure size 720x216 with 1 Axes>"
      ]
     },
     "metadata": {
      "needs_background": "light"
     },
     "output_type": "display_data"
    }
   ],
   "source": [
    "plt.figure(figsize=(10,3))\n",
    "sns.kdeplot(positive_word_count,label=\"Positive\", bw=0.6)\n",
    "sns.kdeplot(negative_word_count,label=\"Negative\", bw=0.6)\n",
    "plt.xlabel(\"word count\")\n",
    "plt.ylabel(\"Density\")\n",
    "plt.title(\"Kernel Density Plot\")\n",
    "plt.legend()\n",
    "plt.show()"
   ]
  },
  {
   "cell_type": "markdown",
   "metadata": {},
   "source": [
    "**Positive word count** follows somewhat normal distribution with mean around **2**\n",
    "\n",
    "**Negative word count** has much more spread distribution with two modes aroun **3** and around **6**"
   ]
  },
  {
   "cell_type": "markdown",
   "metadata": {},
   "source": [
    "**Since we have small dataset we simply train our model to whole data and will not split the data into train, cross-validaton and test data**"
   ]
  },
  {
   "cell_type": "code",
   "execution_count": 100,
   "metadata": {},
   "outputs": [
    {
     "data": {
      "text/html": [
       "<div>\n",
       "<style scoped>\n",
       "    .dataframe tbody tr th:only-of-type {\n",
       "        vertical-align: middle;\n",
       "    }\n",
       "\n",
       "    .dataframe tbody tr th {\n",
       "        vertical-align: top;\n",
       "    }\n",
       "\n",
       "    .dataframe thead th {\n",
       "        text-align: right;\n",
       "    }\n",
       "</style>\n",
       "<table border=\"1\" class=\"dataframe\">\n",
       "  <thead>\n",
       "    <tr style=\"text-align: right;\">\n",
       "      <th></th>\n",
       "      <th>score</th>\n",
       "      <th>preprocessed_reviews</th>\n",
       "      <th>preprocessed_titles</th>\n",
       "      <th>review_words</th>\n",
       "      <th>titles_words</th>\n",
       "    </tr>\n",
       "  </thead>\n",
       "  <tbody>\n",
       "    <tr>\n",
       "      <th>0</th>\n",
       "      <td>1</td>\n",
       "      <td>product ship report within afewhour receipt on...</td>\n",
       "      <td>pray dont receiv defect product</td>\n",
       "      <td>18</td>\n",
       "      <td>5</td>\n",
       "    </tr>\n",
       "    <tr>\n",
       "      <th>1</th>\n",
       "      <td>0</td>\n",
       "      <td>damag productread</td>\n",
       "      <td>chipper qualiti</td>\n",
       "      <td>2</td>\n",
       "      <td>2</td>\n",
       "    </tr>\n",
       "    <tr>\n",
       "      <th>2</th>\n",
       "      <td>1</td>\n",
       "      <td>updat give chanc regret go ahead icon look gre...</td>\n",
       "      <td>valu money go</td>\n",
       "      <td>142</td>\n",
       "      <td>3</td>\n",
       "    </tr>\n",
       "    <tr>\n",
       "      <th>3</th>\n",
       "      <td>0</td>\n",
       "      <td>thank samsung amazon time rakshabandhan delive...</td>\n",
       "      <td>samsunghitsbullsey</td>\n",
       "      <td>135</td>\n",
       "      <td>1</td>\n",
       "    </tr>\n",
       "    <tr>\n",
       "      <th>4</th>\n",
       "      <td>1</td>\n",
       "      <td>brought phone wife die hard fan oppo offer lik...</td>\n",
       "      <td>good opportun oppo lover upgrad</td>\n",
       "      <td>108</td>\n",
       "      <td>5</td>\n",
       "    </tr>\n",
       "  </tbody>\n",
       "</table>\n",
       "</div>"
      ],
      "text/plain": [
       "   score                               preprocessed_reviews  \\\n",
       "0      1  product ship report within afewhour receipt on...   \n",
       "1      0                                 damag productread    \n",
       "2      1  updat give chanc regret go ahead icon look gre...   \n",
       "3      0  thank samsung amazon time rakshabandhan delive...   \n",
       "4      1  brought phone wife die hard fan oppo offer lik...   \n",
       "\n",
       "                preprocessed_titles  review_words  titles_words  \n",
       "0  pray dont receiv defect product             18             5  \n",
       "1                  chipper qualiti              2             2  \n",
       "2                    valu money go            142             3  \n",
       "3               samsunghitsbullsey            135             1  \n",
       "4  good opportun oppo lover upgrad            108             5  "
      ]
     },
     "execution_count": 100,
     "metadata": {},
     "output_type": "execute_result"
    }
   ],
   "source": [
    "data.head()"
   ]
  },
  {
   "cell_type": "code",
   "execution_count": 101,
   "metadata": {},
   "outputs": [
    {
     "data": {
      "text/plain": [
       "0    1\n",
       "1    0\n",
       "2    1\n",
       "3    0\n",
       "4    1\n",
       "Name: score, dtype: int64"
      ]
     },
     "execution_count": 101,
     "metadata": {},
     "output_type": "execute_result"
    }
   ],
   "source": [
    "y = data.loc[:,\"score\"]\n",
    "y.head()"
   ]
  },
  {
   "cell_type": "code",
   "execution_count": 102,
   "metadata": {},
   "outputs": [],
   "source": [
    "data.drop(\"score\",axis=\"columns\",inplace= True)"
   ]
  },
  {
   "cell_type": "code",
   "execution_count": 103,
   "metadata": {},
   "outputs": [
    {
     "data": {
      "text/html": [
       "<div>\n",
       "<style scoped>\n",
       "    .dataframe tbody tr th:only-of-type {\n",
       "        vertical-align: middle;\n",
       "    }\n",
       "\n",
       "    .dataframe tbody tr th {\n",
       "        vertical-align: top;\n",
       "    }\n",
       "\n",
       "    .dataframe thead th {\n",
       "        text-align: right;\n",
       "    }\n",
       "</style>\n",
       "<table border=\"1\" class=\"dataframe\">\n",
       "  <thead>\n",
       "    <tr style=\"text-align: right;\">\n",
       "      <th></th>\n",
       "      <th>preprocessed_reviews</th>\n",
       "      <th>preprocessed_titles</th>\n",
       "      <th>review_words</th>\n",
       "      <th>titles_words</th>\n",
       "    </tr>\n",
       "  </thead>\n",
       "  <tbody>\n",
       "    <tr>\n",
       "      <th>0</th>\n",
       "      <td>product ship report within afewhour receipt on...</td>\n",
       "      <td>pray dont receiv defect product</td>\n",
       "      <td>18</td>\n",
       "      <td>5</td>\n",
       "    </tr>\n",
       "    <tr>\n",
       "      <th>1</th>\n",
       "      <td>damag productread</td>\n",
       "      <td>chipper qualiti</td>\n",
       "      <td>2</td>\n",
       "      <td>2</td>\n",
       "    </tr>\n",
       "    <tr>\n",
       "      <th>2</th>\n",
       "      <td>updat give chanc regret go ahead icon look gre...</td>\n",
       "      <td>valu money go</td>\n",
       "      <td>142</td>\n",
       "      <td>3</td>\n",
       "    </tr>\n",
       "    <tr>\n",
       "      <th>3</th>\n",
       "      <td>thank samsung amazon time rakshabandhan delive...</td>\n",
       "      <td>samsunghitsbullsey</td>\n",
       "      <td>135</td>\n",
       "      <td>1</td>\n",
       "    </tr>\n",
       "    <tr>\n",
       "      <th>4</th>\n",
       "      <td>brought phone wife die hard fan oppo offer lik...</td>\n",
       "      <td>good opportun oppo lover upgrad</td>\n",
       "      <td>108</td>\n",
       "      <td>5</td>\n",
       "    </tr>\n",
       "  </tbody>\n",
       "</table>\n",
       "</div>"
      ],
      "text/plain": [
       "                                preprocessed_reviews  \\\n",
       "0  product ship report within afewhour receipt on...   \n",
       "1                                 damag productread    \n",
       "2  updat give chanc regret go ahead icon look gre...   \n",
       "3  thank samsung amazon time rakshabandhan delive...   \n",
       "4  brought phone wife die hard fan oppo offer lik...   \n",
       "\n",
       "                preprocessed_titles  review_words  titles_words  \n",
       "0  pray dont receiv defect product             18             5  \n",
       "1                  chipper qualiti              2             2  \n",
       "2                    valu money go            142             3  \n",
       "3               samsunghitsbullsey            135             1  \n",
       "4  good opportun oppo lover upgrad            108             5  "
      ]
     },
     "execution_count": 103,
     "metadata": {},
     "output_type": "execute_result"
    }
   ],
   "source": [
    "data.head()"
   ]
  },
  {
   "cell_type": "markdown",
   "metadata": {},
   "source": [
    "# Vectorization"
   ]
  },
  {
   "cell_type": "markdown",
   "metadata": {},
   "source": [
    "## Text "
   ]
  },
  {
   "cell_type": "code",
   "execution_count": 104,
   "metadata": {},
   "outputs": [],
   "source": [
    "from sklearn.feature_extraction.text import CountVectorizer"
   ]
  },
  {
   "cell_type": "code",
   "execution_count": 105,
   "metadata": {},
   "outputs": [
    {
     "name": "stdout",
     "output_type": "stream",
     "text": [
      "some feature names  ['absent', 'absolut', 'accept', 'accessori', 'accomplish', 'accord', 'actual', 'advertis', 'afewhour', 'affectbatterymonst']\n",
      "==================================================\n",
      "<class 'scipy.sparse.csr.csr_matrix'>\n",
      "(112, 689)\n",
      "0\n",
      "==================================================\n"
     ]
    }
   ],
   "source": [
    "#BoW\n",
    "count_vect = CountVectorizer() #in scikit-learn\n",
    "review_vect = count_vect.fit_transform(data['preprocessed_reviews'])\n",
    "print(\"some feature names \", count_vect.get_feature_names()[:10])\n",
    "print('='*50)\n",
    "print(type(review_vect))\n",
    "print(review_vect.shape)\n",
    "print(review_vect[5,0])\n",
    "print('='*50)"
   ]
  },
  {
   "cell_type": "code",
   "execution_count": 106,
   "metadata": {},
   "outputs": [
    {
     "name": "stdout",
     "output_type": "stream",
     "text": [
      "some feature names  ['amazon', 'amez', 'android', 'averag', 'awesom', 'backup', 'bad', 'batteri', 'best', 'budget']\n",
      "==================================================\n",
      "<class 'scipy.sparse.csr.csr_matrix'>\n",
      "(112, 74)\n",
      "0\n",
      "==================================================\n"
     ]
    }
   ],
   "source": [
    "#BoW\n",
    "count_vect = CountVectorizer() #in scikit-learn\n",
    "title_vect = count_vect.fit_transform(data['preprocessed_titles'])\n",
    "print(\"some feature names \", count_vect.get_feature_names()[:10])\n",
    "print('='*50)\n",
    "print(type(title_vect))\n",
    "print(title_vect.shape)\n",
    "print(title_vect[5,0])\n",
    "print('='*50)"
   ]
  },
  {
   "cell_type": "markdown",
   "metadata": {},
   "source": [
    "## Numerical Data"
   ]
  },
  {
   "cell_type": "code",
   "execution_count": 107,
   "metadata": {},
   "outputs": [
    {
     "name": "stdout",
     "output_type": "stream",
     "text": [
      "Shape of price train data after normalization (112, 1)\n",
      "price train data after normalization [[-0.50814871]]\n",
      "==================================================\n"
     ]
    }
   ],
   "source": [
    "#Normalizing Numerical Data \n",
    "from sklearn.preprocessing import StandardScaler\n",
    "norm = StandardScaler()\n",
    "review_norm = norm.fit_transform(data['review_words'].values.reshape(-1,1))\n",
    "\n",
    "#price_train=price_scalar.transform(X_train['price'].values.reshape(1,-1))\n",
    "print(\"Shape of price train data after normalization\",review_norm.shape)\n",
    "print(\"price train data after normalization\",review_norm[0:1])\n",
    "print(\"=\"*50)"
   ]
  },
  {
   "cell_type": "code",
   "execution_count": 108,
   "metadata": {},
   "outputs": [
    {
     "name": "stdout",
     "output_type": "stream",
     "text": [
      "Shape of price train data after normalization (112, 1)\n",
      "price train data after normalization [[1.31853339]]\n",
      "==================================================\n"
     ]
    }
   ],
   "source": [
    "#Normalizing Numerical Data \n",
    "from sklearn.preprocessing import StandardScaler\n",
    "norm = StandardScaler()\n",
    "title_norm = norm.fit_transform(data['titles_words'].values.reshape(-1,1))\n",
    "\n",
    "#price_train=price_scalar.transform(X_train['price'].values.reshape(1,-1))\n",
    "print(\"Shape of price train data after normalization\",title_norm.shape)\n",
    "print(\"price train data after normalization\",title_norm[0:1])\n",
    "print(\"=\"*50)"
   ]
  },
  {
   "cell_type": "markdown",
   "metadata": {},
   "source": [
    "# Modelling"
   ]
  },
  {
   "cell_type": "markdown",
   "metadata": {},
   "source": [
    "Since the data is small we can try **K-Nearest Neighbours(KNN)** and also we can try **Naive Bayes** which is belived to perform better in case of text classification"
   ]
  },
  {
   "cell_type": "code",
   "execution_count": 109,
   "metadata": {},
   "outputs": [
    {
     "data": {
      "text/plain": [
       "(112, 1)"
      ]
     },
     "execution_count": 109,
     "metadata": {},
     "output_type": "execute_result"
    }
   ],
   "source": [
    "title_norm.shape"
   ]
  },
  {
   "cell_type": "code",
   "execution_count": 110,
   "metadata": {},
   "outputs": [],
   "source": [
    "from scipy.sparse import hstack\n",
    "X=hstack((review_vect,title_vect,review_norm,title_norm)).tocsr()"
   ]
  },
  {
   "cell_type": "code",
   "execution_count": 111,
   "metadata": {},
   "outputs": [
    {
     "name": "stdout",
     "output_type": "stream",
     "text": [
      "Final X's shape (112, 765) and Y's shape (112,)\n"
     ]
    }
   ],
   "source": [
    "print(f\"Final X's shape {X.shape} and Y's shape {y.shape}\")"
   ]
  },
  {
   "cell_type": "markdown",
   "metadata": {},
   "source": [
    "## Applying K-NN "
   ]
  },
  {
   "cell_type": "code",
   "execution_count": 112,
   "metadata": {},
   "outputs": [],
   "source": [
    "#writting function for using batch-wise prediction\n",
    "def batch_predict(neigh,data):\n",
    "    '''Batch-Wise prediction is used to predict the class label in batches to fast process the knn algorithm'''\n",
    "    y_train_pred = []\n",
    "    loop_value=data.shape[0]-data.shape[0]%1000\n",
    "    for i in range(0, loop_value, 1000): #range will be from 0 to 49041 with step of 1000pts each time so are values will be between 0-4000\n",
    "        y_train_pred.extend(neigh.predict_proba(data[i:i+1000])[:,1])\n",
    "    y_train_pred.extend(neigh.predict_proba(data[loop_value:])[:,1])\n",
    "        \n",
    "    return y_train_pred"
   ]
  },
  {
   "cell_type": "code",
   "execution_count": 113,
   "metadata": {},
   "outputs": [
    {
     "name": "stderr",
     "output_type": "stream",
     "text": [
      "C:\\Users\\aksha\\anaconda3\\lib\\site-packages\\ipykernel_launcher.py:8: TqdmDeprecationWarning: This function will be removed in tqdm==5.0.0\n",
      "Please use `tqdm.notebook.tqdm` instead of `tqdm.tqdm_notebook`\n",
      "  \n"
     ]
    },
    {
     "data": {
      "application/vnd.jupyter.widget-view+json": {
       "model_id": "d0382d14158e418284c2eebdb66fc070",
       "version_major": 2,
       "version_minor": 0
      },
      "text/plain": [
       "HBox(children=(FloatProgress(value=0.0, max=10.0), HTML(value='')))"
      ]
     },
     "metadata": {},
     "output_type": "display_data"
    },
    {
     "name": "stdout",
     "output_type": "stream",
     "text": [
      "\n"
     ]
    },
    {
     "data": {
      "image/png": "[encoded data removed]",
      "text/plain": [
       "<Figure size 432x288 with 1 Axes>"
      ]
     },
     "metadata": {
      "needs_background": "light"
     },
     "output_type": "display_data"
    }
   ],
   "source": [
    "from sklearn.neighbors import KNeighborsClassifier\n",
    "from sklearn.metrics import roc_auc_score\n",
    "import matplotlib.pyplot as plt\n",
    "from tqdm import tqdm_notebook as tqdm\n",
    "train_auc = []\n",
    "cv_auc = []\n",
    "K = [5, 11, 15, 19, 31, 41, 51,61,71,81]\n",
    "for i in tqdm(K):\n",
    "    neigh = KNeighborsClassifier(n_neighbors=i, algorithm='brute')\n",
    "    neigh.fit(X, y) #during fit our model is learning from the training data e.g. y=f(x)\n",
    "    # roc_auc_score(y_true, y_score) the 2nd parameter should be probability estimates of the positive class\n",
    "    # not the predicted outputs\n",
    "    y_train_pred =  batch_predict(neigh,X)\n",
    "    #y_cv_pred =  batch_predict(neigh,X_cv)\n",
    "    #print(y_train.shape)\n",
    "    #print(len(y_train_pred))\n",
    "     #roc_auc_score->Compute(ROC AUC) from prediction scores.\n",
    "    train_auc.append(roc_auc_score(y,y_train_pred))#roc_auc_score->Compute(ROC AUC) from prediction scores.\n",
    "    #cv_auc.append(roc_auc_score(y_cv, y_cv_pred))    \n",
    "\n",
    "    \n",
    "plt.plot(K, train_auc, label='Train AUC') #Plotting K vs auc of train\n",
    "plt.scatter(K, train_auc, label='Train AUC') #Scatter plot of K vs auc train\n",
    "\n",
    "plt.legend() #adding legend\n",
    "plt.xlabel(\"K: hyperparameter\") #X axis-label\n",
    "plt.ylabel(\"AUC\")  #Y-axis label\n",
    "plt.title(\"AUC vs K\") #adding title of the plot\n",
    "plt.grid()\n",
    "plt.show()"
   ]
  },
  {
   "cell_type": "markdown",
   "metadata": {},
   "source": [
    "We achieved a AUC score of ~97 for k = ~5 so we select K as the best value of KNN"
   ]
  },
  {
   "cell_type": "code",
   "execution_count": 114,
   "metadata": {},
   "outputs": [
    {
     "data": {
      "image/png": "[encoded data removed]",
      "text/plain": [
       "<Figure size 432x288 with 1 Axes>"
      ]
     },
     "metadata": {
      "needs_background": "light"
     },
     "output_type": "display_data"
    }
   ],
   "source": [
    "from sklearn.metrics import roc_curve,auc\n",
    "\n",
    "neigh=KNeighborsClassifier(n_neighbors= 5)\n",
    "neigh.fit(X,y)\n",
    "\n",
    "#documentation of roc_curve ->https://scikit-learn.org/stable/modules/generated/sklearn.metrics.roc_curve.html\n",
    "#roc_curve returns three values fpr,tpr and thresholds\n",
    "y_train_predict=batch_predict(neigh,X)\n",
    "train_fpr,train_tpr,train_thresholds= roc_curve(y,y_train_predict)\n",
    "\n",
    "plt.plot(train_fpr, train_tpr, label=\"train AUC =\"+str(auc(train_fpr, train_tpr))) #documentation of auc-> https://scikit-learn.org/stable/modules/generated/sklearn.metrics.roc_curve.html\n",
    "\n",
    "plt.legend()\n",
    "plt.xlabel(\"False Positive Rate of test and train\") #plt.plot documentation ->https://matplotlib.org/3.1.0/tutorials/introductory/pyplot.html\n",
    "plt.ylabel(\"True positive rate of test and train\")\n",
    "plt.title(\"ROC curve\")\n",
    "plt.grid()\n",
    "plt.show()"
   ]
  },
  {
   "cell_type": "markdown",
   "metadata": {},
   "source": [
    "So we got an AUC score of 98% but due such small data we can have a condition of **overfitting**"
   ]
  },
  {
   "cell_type": "markdown",
   "metadata": {},
   "source": [
    "## Confusion Matrix"
   ]
  },
  {
   "cell_type": "code",
   "execution_count": 115,
   "metadata": {},
   "outputs": [],
   "source": [
    "def pred(proba,thresh, fpr ,tpr):\n",
    "    \"\"\"This function calculations and return the prediction with highest tpr and lowest tpr\"\"\"\n",
    "    t=thresh[np.argmax(tpr*(1-fpr))] #t creates a numpy array with the max fpr and lowest tpr\n",
    "    print(\"the maximum tpr*(1-fpr)\",max(tpr*(1-fpr)),\"for threshold\",np.round(t,3))\n",
    "    predictions=[]\n",
    "    for i in proba:\n",
    "        if i>=t:\n",
    "            predictions.append(1)\n",
    "        else:\n",
    "            predictions.append(0)\n",
    "    return predictions"
   ]
  },
  {
   "cell_type": "code",
   "execution_count": 116,
   "metadata": {},
   "outputs": [
    {
     "name": "stdout",
     "output_type": "stream",
     "text": [
      "Train confusion matrix\n",
      "the maximum tpr*(1-fpr) 0.8567119155354449 for threshold 0.6\n",
      "[[32  2]\n",
      " [ 7 71]]\n"
     ]
    }
   ],
   "source": [
    "from sklearn.metrics import confusion_matrix\n",
    "\n",
    "print(\"Train confusion matrix\")\n",
    "cm=confusion_matrix(y, pred(y_train_predict, train_thresholds,train_fpr,train_tpr))\n",
    "print(cm)"
   ]
  },
  {
   "cell_type": "code",
   "execution_count": 117,
   "metadata": {},
   "outputs": [
    {
     "data": {
      "text/plain": [
       "Text(0.5, 24.0, 'Predicted')"
      ]
     },
     "execution_count": 117,
     "metadata": {},
     "output_type": "execute_result"
    },
    {
     "data": {
      "image/png": "[encoded data removed]",
      "text/plain": [
       "<Figure size 360x360 with 2 Axes>"
      ]
     },
     "metadata": {
      "needs_background": "light"
     },
     "output_type": "display_data"
    }
   ],
   "source": [
    "#https://stackoverflow.com/questions/35572000/how-can-i-plot-a-confusion-matrix\n",
    "\n",
    "import seaborn as sn\n",
    "df_cm=pd.DataFrame(cm,index=[0,1],columns=[0,1])\n",
    "plt.figure(figsize = (5,5))\n",
    "plt.title(\"Train Confusion matrix\")\n",
    "ax=sn.heatmap(df_cm, annot=True,fmt='g')\n",
    "ax.set_ylabel(\"Actual\")\n",
    "ax.set_xlabel(\"Predicted\")"
   ]
  },
  {
   "cell_type": "markdown",
   "metadata": {},
   "source": [
    "Most of the predictions are right that''s why we get such a high AUC score but still it makes **9** mistakes"
   ]
  },
  {
   "cell_type": "markdown",
   "metadata": {},
   "source": [
    "## Naive Bayes\n",
    "Since NB is a probability based alogrithm we don't need to normalize the numerical values, but still its good practice to make the numerical features of same scale"
   ]
  },
  {
   "cell_type": "code",
   "execution_count": 118,
   "metadata": {},
   "outputs": [
    {
     "name": "stdout",
     "output_type": "stream",
     "text": [
      "Shape after normalization (1, 112)\n",
      "data after normalization [[0.02230261 0.00247807 0.17594279 0.16726955 0.13381564 0.01858551\n",
      "  0.00867324 0.02230261 0.02230261 0.02230261 0.17594279 0.11894724\n",
      "  0.16726955 0.00247807 0.02106357 0.01858551 0.17594279 0.02230261\n",
      "  0.00247807 0.16726955 0.01858551 0.13381564 0.17594279 0.02230261\n",
      "  0.02230261 0.00867324 0.11894724 0.02230261 0.00247807 0.17594279\n",
      "  0.16726955 0.26639225 0.01362937 0.02230261 0.01858551 0.17594279\n",
      "  0.11894724 0.13381564 0.05699555 0.01858551 0.26639225 0.01858551\n",
      "  0.01239034 0.00867324 0.02230261 0.02230261 0.00495613 0.02230261\n",
      "  0.13381564 0.01610744 0.05699555 0.02230261 0.26639225 0.26639225\n",
      "  0.01982454 0.01858551 0.01239034 0.01858551 0.12266434 0.02849778\n",
      "  0.00495613 0.11894724 0.03593198 0.11894724 0.13381564 0.00123903\n",
      "  0.00247807 0.12266434 0.02849778 0.02849778 0.02230261 0.01858551\n",
      "  0.01239034 0.01982454 0.00247807 0.00123903 0.26639225 0.11894724\n",
      "  0.00123903 0.01362937 0.02478067 0.00619517 0.12266434 0.00123903\n",
      "  0.01858551 0.02230261 0.00123903 0.16726955 0.0037171  0.01858551\n",
      "  0.02849778 0.01239034 0.00867324 0.00123903 0.04088811 0.01858551\n",
      "  0.00867324 0.0037171  0.13009854 0.00619517 0.01982454 0.00247807\n",
      "  0.04832231 0.02478067 0.04832231 0.00619517 0.01858551 0.21930897\n",
      "  0.00495613 0.02849778 0.00123903 0.00867324]]\n",
      "==================================================\n"
     ]
    }
   ],
   "source": [
    "from sklearn.preprocessing import Normalizer\n",
    "norm = Normalizer()\n",
    "review_norm = norm.fit_transform(data['review_words'].values.reshape(1,-1))\n",
    "\n",
    "print(\"Shape after normalization\",review_norm.shape)\n",
    "print(\"data after normalization\",review_norm[0:1])\n",
    "print(\"=\"*50)"
   ]
  },
  {
   "cell_type": "code",
   "execution_count": 119,
   "metadata": {},
   "outputs": [
    {
     "name": "stdout",
     "output_type": "stream",
     "text": [
      "Shape after normalization (1, 112)\n",
      "data after normalization [[0.14176199 0.0567048  0.0850572  0.0283524  0.14176199 0.0850572\n",
      "  0.19846679 0.14176199 0.14176199 0.14176199 0.0850572  0.1134096\n",
      "  0.0283524  0.0567048  0.0283524  0.0567048  0.0850572  0.14176199\n",
      "  0.0567048  0.0283524  0.0850572  0.14176199 0.0850572  0.14176199\n",
      "  0.14176199 0.19846679 0.1134096  0.14176199 0.0567048  0.0850572\n",
      "  0.0283524  0.14176199 0.0850572  0.14176199 0.0567048  0.0850572\n",
      "  0.1134096  0.14176199 0.14176199 0.0283524  0.14176199 0.0850572\n",
      "  0.1134096  0.0283524  0.0283524  0.14176199 0.1134096  0.0567048\n",
      "  0.14176199 0.0850572  0.1134096  0.0283524  0.14176199 0.14176199\n",
      "  0.1134096  0.0850572  0.1134096  0.0850572  0.0567048  0.0567048\n",
      "  0.0567048  0.1134096  0.0567048  0.1134096  0.14176199 0.0283524\n",
      "  0.0567048  0.0567048  0.0567048  0.0567048  0.14176199 0.0567048\n",
      "  0.0567048  0.1134096  0.0567048  0.0283524  0.14176199 0.1134096\n",
      "  0.0283524  0.0850572  0.0283524  0.0283524  0.0567048  0.0283524\n",
      "  0.0850572  0.14176199 0.0283524  0.0283524  0.0283524  0.0850572\n",
      "  0.0567048  0.0567048  0.0283524  0.1134096  0.0567048  0.0567048\n",
      "  0.0283524  0.0567048  0.14176199 0.0283524  0.1134096  0.0567048\n",
      "  0.0567048  0.0283524  0.0567048  0.1134096  0.0283524  0.0850572\n",
      "  0.1134096  0.0567048  0.0283524  0.0283524 ]]\n",
      "==================================================\n"
     ]
    }
   ],
   "source": [
    "from sklearn.preprocessing import Normalizer\n",
    "norm = Normalizer()\n",
    "title_norm = norm.fit_transform(data['titles_words'].values.reshape(1,-1))\n",
    "\n",
    "print(\"Shape after normalization\",title_norm.shape)\n",
    "print(\"data after normalization\",title_norm[0:1])\n",
    "print(\"=\"*50)"
   ]
  },
  {
   "cell_type": "code",
   "execution_count": 120,
   "metadata": {},
   "outputs": [],
   "source": [
    "#reshaping our normalized vectors to make it compatible with the shape of vectorised text \n",
    "title_norm= title_norm.reshape(-1,1);\n",
    "review_norm= review_norm.reshape(-1,1);"
   ]
  },
  {
   "cell_type": "code",
   "execution_count": 121,
   "metadata": {},
   "outputs": [
    {
     "name": "stdout",
     "output_type": "stream",
     "text": [
      "(112, 1),(112, 1)\n",
      "(112, 689),(112, 74)\n"
     ]
    }
   ],
   "source": [
    "print(f\"{title_norm.shape},{review_norm.shape}\")\n",
    "print(f\"{review_vect.shape},{title_vect.shape}\")"
   ]
  },
  {
   "cell_type": "code",
   "execution_count": 122,
   "metadata": {},
   "outputs": [],
   "source": [
    "X=hstack((review_vect,title_vect,title_norm,review_norm)).tocsr()"
   ]
  },
  {
   "cell_type": "code",
   "execution_count": 123,
   "metadata": {},
   "outputs": [
    {
     "name": "stderr",
     "output_type": "stream",
     "text": [
      "C:\\Users\\aksha\\anaconda3\\lib\\site-packages\\ipykernel_launcher.py:10: TqdmDeprecationWarning: This function will be removed in tqdm==5.0.0\n",
      "Please use `tqdm.notebook.tqdm` instead of `tqdm.tqdm_notebook`\n",
      "  # Remove the CWD from sys.path while we load stuff.\n"
     ]
    },
    {
     "data": {
      "application/vnd.jupyter.widget-view+json": {
       "model_id": "00d09178b063452c8f9a7d9a74a2b950",
       "version_major": 2,
       "version_minor": 0
      },
      "text/plain": [
       "HBox(children=(FloatProgress(value=0.0, max=24.0), HTML(value='')))"
      ]
     },
     "metadata": {},
     "output_type": "display_data"
    },
    {
     "name": "stdout",
     "output_type": "stream",
     "text": [
      "\n"
     ]
    },
    {
     "data": {
      "image/png": "[encoded data removed]",
      "text/plain": [
       "<Figure size 720x1080 with 1 Axes>"
      ]
     },
     "metadata": {
      "needs_background": "light"
     },
     "output_type": "display_data"
    }
   ],
   "source": [
    "from sklearn.naive_bayes import MultinomialNB\n",
    "from sklearn.metrics import roc_auc_score\n",
    "import matplotlib.pyplot as plt\n",
    "from tqdm import tqdm_notebook as tqdm\n",
    "import math\n",
    "alpha1=[]\n",
    "train_auc = []\n",
    "cv_auc = []\n",
    "alpha = [ 0.00001, 0.001, 0.01,1 ,1.5 ,2 ,2.5 ,3.001 ,4, 4.5 ,5,7,9, 12, 15 ,17, 21 ,26, 29, 31 ,35 ,42 ,48,70]\n",
    "for i in tqdm(alpha):\n",
    "    nb = MultinomialNB(alpha=i, class_prior=[0.5,0.5]) #to deal with class imbalance we used class_prior as 0.5,0.5\n",
    "    nb.fit(X, y) #during fit our model is learning from the training data e.g. y=f(x)\n",
    "    # roc_auc_score(y_true, y_score) the 2nd parameter should be probability estimates of the positive class\n",
    "    # not the predicted outputs\n",
    "    y_train_pred =  nb.predict_log_proba(X)[:,1] #the reason for using log_probabilites is to encounter the problem of numerical stability\n",
    "    #y_cv_pred =  nb.predict_log_proba(X_cv_dtm)[:,1]\n",
    "    train_auc.append(roc_auc_score(y,y_train_pred))#roc_auc_score->Compute(ROC AUC) from prediction scores.\n",
    "    #cv_auc.append(roc_auc_score(y_cv, y_cv_pred))  \n",
    "  \n",
    "for i in alpha:\n",
    "    j=math.log(i)\n",
    "    alpha1.append(j)\n",
    "    \n",
    "plt.figure(figsize=(10,15))\n",
    "plt.plot(alpha1, train_auc, label='Train AUC') #Plotting K vs auc of train\n",
    "plt.scatter(alpha1, train_auc, label='Train AUC') #Scatter plot of K vs auc train\n",
    "\n",
    "#plt.plot(alpha1, cv_auc, label='CV AUC') #Plotting K vs auc of train\n",
    "#plt.scatter(alpha1, cv_auc, label='CV AUC') #Scatter plot of K vs auc train\n",
    "\n",
    "plt.legend() #adding legend\n",
    "plt.xlabel(\"log_alpha: hyperparameter\") #X axis-label\n",
    "plt.ylabel(\"AUC\")  #Y-axis label\n",
    "plt.title(\"AUC vs alpha\") #adding title of the plot\n",
    "plt.grid()\n",
    "plt.show()"
   ]
  },
  {
   "cell_type": "markdown",
   "metadata": {},
   "source": [
    "Choosing **0.001** as value of the alpha(hyperparamter for Naive Bayes)"
   ]
  },
  {
   "cell_type": "code",
   "execution_count": 124,
   "metadata": {},
   "outputs": [
    {
     "data": {
      "image/png": "[encoded data removed]",
      "text/plain": [
       "<Figure size 432x288 with 1 Axes>"
      ]
     },
     "metadata": {
      "needs_background": "light"
     },
     "output_type": "display_data"
    }
   ],
   "source": [
    "from sklearn.metrics import roc_curve,auc\n",
    "\n",
    "neigh=MultinomialNB(alpha=0.001)\n",
    "neigh.fit(X,y)\n",
    "\n",
    "#documentation of roc_curve ->https://scikit-learn.org/stable/modules/generated/sklearn.metrics.roc_curve.html\n",
    "#roc_curve returns three values fpr,tpr and thresholds\n",
    "y_train_predict=neigh.predict_log_proba(X)[:,1]\n",
    "\n",
    "train_fpr,train_tpr,train_thresholds= roc_curve(y,y_train_predict)\n",
    "\n",
    "plt.plot(train_fpr, train_tpr, label=\"train AUC =\"+str(auc(train_fpr, train_tpr))) #documentation of auc-> https://scikit-learn.org/stable/modules/generated/sklearn.metrics.roc_curve.html\n",
    "\n",
    "\n",
    "plt.legend()\n",
    "plt.xlabel(\"False Positive Rate train\") #plt.plot documentation ->https://matplotlib.org/3.1.0/tutorials/introductory/pyplot.html\n",
    "plt.ylabel(\"True positive rate train\")\n",
    "plt.title(\"ROC curve\")\n",
    "plt.grid()\n",
    "plt.show()"
   ]
  },
  {
   "cell_type": "markdown",
   "metadata": {},
   "source": [
    "**AUC score of 1.0 i.e 100%** certainly we have a condition of overfitting which is expected with such small data"
   ]
  },
  {
   "cell_type": "markdown",
   "metadata": {},
   "source": [
    "## Confusion Matrix"
   ]
  },
  {
   "cell_type": "code",
   "execution_count": 125,
   "metadata": {},
   "outputs": [],
   "source": [
    "y_pred = neigh.predict(X)"
   ]
  },
  {
   "cell_type": "code",
   "execution_count": 126,
   "metadata": {},
   "outputs": [
    {
     "name": "stdout",
     "output_type": "stream",
     "text": [
      "[[34  0]\n",
      " [ 1 77]]\n"
     ]
    }
   ],
   "source": [
    "from sklearn.metrics import confusion_matrix\n",
    "con_mat=confusion_matrix(y, y_pred) \n",
    "print(con_mat)"
   ]
  },
  {
   "cell_type": "markdown",
   "metadata": {},
   "source": [
    "It makes only 1 error , this can be due to overfitting but it is certainly performing better than KNN"
   ]
  },
  {
   "cell_type": "code",
   "execution_count": 128,
   "metadata": {},
   "outputs": [
    {
     "name": "stdout",
     "output_type": "stream",
     "text": [
      "+------------+-------------+---------------------+-------+\n",
      "| Vectorizer |    Model    | Best Hyperparameter |  AUC  |\n",
      "+------------+-------------+---------------------+-------+\n",
      "|    BOW     |     KNN     |          5          | 97.8% |\n",
      "|    BOW     | Naive Bayes |        0.001        | 99.9% |\n",
      "+------------+-------------+---------------------+-------+\n"
     ]
    }
   ],
   "source": [
    "#Refer->http://zetcode.com/python/prettytable/\n",
    "#Refer->https://het.as.utexas.edu/HET/Software/Numpy/reference/generated/numpy.percentile.html\n",
    "#Refer->https://docs.scipy.org/doc/numpy-1.13.0/reference/generated/numpy.round_.html\n",
    "from prettytable import PrettyTable\n",
    "x=PrettyTable()\n",
    "\n",
    "x.field_names=[\"Vectorizer\", \"Model\", \"Best Hyperparameter\",\"AUC\"] #column headers\n",
    "\n",
    "x.add_row([\"BOW\", \"KNN\", 5 , \"97.8%\"])\n",
    "x.add_row([\"BOW\", \"Naive Bayes\", \"0.001\" , \"99.9%\"])\n",
    "\n",
    "print(x)"
   ]
  },
  {
   "cell_type": "markdown",
   "metadata": {},
   "source": [
    "# Fine-Grained Sentiment Analysis"
   ]
  },
  {
   "cell_type": "code",
   "execution_count": 31,
   "metadata": {},
   "outputs": [],
   "source": [
    "import os \n",
    "os.chdir(\"D:\\\\firefox downloads\\\\73strings\")"
   ]
  },
  {
   "cell_type": "code",
   "execution_count": 126,
   "metadata": {},
   "outputs": [
    {
     "name": "stdout",
     "output_type": "stream",
     "text": [
      "Collecting textblob\n",
      "  Downloading textblob-0.15.3-py2.py3-none-any.whl (636 kB)\n",
      "Requirement already satisfied: nltk>=3.1 in c:\\users\\aksha\\anaconda3\\lib\\site-packages (from textblob) (3.4.5)\n",
      "Requirement already satisfied: six in c:\\users\\aksha\\appdata\\roaming\\python\\python37\\site-packages (from nltk>=3.1->textblob) (1.15.0)\n",
      "Installing collected packages: textblob\n",
      "Successfully installed textblob-0.15.3\n"
     ]
    }
   ],
   "source": [
    "#! pip install textblob"
   ]
  },
  {
   "cell_type": "code",
   "execution_count": 129,
   "metadata": {},
   "outputs": [],
   "source": [
    "from nltk.sentiment.vader import SentimentIntensityAnalyzer\n",
    "from textblob import TextBlob\n",
    "import pandas as pd\n",
    "import numpy as np\n",
    "from sklearn.metrics import f1_score, accuracy_score\n",
    "from tqdm import tqdm"
   ]
  },
  {
   "cell_type": "markdown",
   "metadata": {},
   "source": [
    "Reading the text files provided and the merging the **dataSentence.txt** and **dataSplit.txt** file on sentence index column"
   ]
  },
  {
   "cell_type": "code",
   "execution_count": 130,
   "metadata": {},
   "outputs": [],
   "source": [
    "df = pd.read_csv('D:\\\\firefox downloads\\\\73strings\\\\stanfordSentimentTreebank\\\\datasetSentences.txt', sep='\\t',)\n",
    "                  "
   ]
  },
  {
   "cell_type": "code",
   "execution_count": 131,
   "metadata": {},
   "outputs": [
    {
     "data": {
      "text/html": [
       "<div>\n",
       "<style scoped>\n",
       "    .dataframe tbody tr th:only-of-type {\n",
       "        vertical-align: middle;\n",
       "    }\n",
       "\n",
       "    .dataframe tbody tr th {\n",
       "        vertical-align: top;\n",
       "    }\n",
       "\n",
       "    .dataframe thead th {\n",
       "        text-align: right;\n",
       "    }\n",
       "</style>\n",
       "<table border=\"1\" class=\"dataframe\">\n",
       "  <thead>\n",
       "    <tr style=\"text-align: right;\">\n",
       "      <th></th>\n",
       "      <th>sentence_index</th>\n",
       "      <th>sentence</th>\n",
       "    </tr>\n",
       "  </thead>\n",
       "  <tbody>\n",
       "    <tr>\n",
       "      <th>0</th>\n",
       "      <td>1</td>\n",
       "      <td>The Rock is destined to be the 21st Century 's...</td>\n",
       "    </tr>\n",
       "    <tr>\n",
       "      <th>1</th>\n",
       "      <td>2</td>\n",
       "      <td>The gorgeously elaborate continuation of `` Th...</td>\n",
       "    </tr>\n",
       "    <tr>\n",
       "      <th>2</th>\n",
       "      <td>3</td>\n",
       "      <td>Effective but too-tepid biopic</td>\n",
       "    </tr>\n",
       "    <tr>\n",
       "      <th>3</th>\n",
       "      <td>4</td>\n",
       "      <td>If you sometimes like to go to the movies to h...</td>\n",
       "    </tr>\n",
       "    <tr>\n",
       "      <th>4</th>\n",
       "      <td>5</td>\n",
       "      <td>Emerges as something rare , an issue movie tha...</td>\n",
       "    </tr>\n",
       "  </tbody>\n",
       "</table>\n",
       "</div>"
      ],
      "text/plain": [
       "   sentence_index                                           sentence\n",
       "0               1  The Rock is destined to be the 21st Century 's...\n",
       "1               2  The gorgeously elaborate continuation of `` Th...\n",
       "2               3                     Effective but too-tepid biopic\n",
       "3               4  If you sometimes like to go to the movies to h...\n",
       "4               5  Emerges as something rare , an issue movie tha..."
      ]
     },
     "execution_count": 131,
     "metadata": {},
     "output_type": "execute_result"
    }
   ],
   "source": [
    "df.head()"
   ]
  },
  {
   "cell_type": "code",
   "execution_count": 132,
   "metadata": {},
   "outputs": [
    {
     "data": {
      "text/html": [
       "<div>\n",
       "<style scoped>\n",
       "    .dataframe tbody tr th:only-of-type {\n",
       "        vertical-align: middle;\n",
       "    }\n",
       "\n",
       "    .dataframe tbody tr th {\n",
       "        vertical-align: top;\n",
       "    }\n",
       "\n",
       "    .dataframe thead th {\n",
       "        text-align: right;\n",
       "    }\n",
       "</style>\n",
       "<table border=\"1\" class=\"dataframe\">\n",
       "  <thead>\n",
       "    <tr style=\"text-align: right;\">\n",
       "      <th></th>\n",
       "      <th>sentence_index</th>\n",
       "      <th>splitset_label</th>\n",
       "    </tr>\n",
       "  </thead>\n",
       "  <tbody>\n",
       "    <tr>\n",
       "      <th>0</th>\n",
       "      <td>1</td>\n",
       "      <td>1</td>\n",
       "    </tr>\n",
       "    <tr>\n",
       "      <th>1</th>\n",
       "      <td>2</td>\n",
       "      <td>1</td>\n",
       "    </tr>\n",
       "    <tr>\n",
       "      <th>2</th>\n",
       "      <td>3</td>\n",
       "      <td>2</td>\n",
       "    </tr>\n",
       "    <tr>\n",
       "      <th>3</th>\n",
       "      <td>4</td>\n",
       "      <td>2</td>\n",
       "    </tr>\n",
       "    <tr>\n",
       "      <th>4</th>\n",
       "      <td>5</td>\n",
       "      <td>2</td>\n",
       "    </tr>\n",
       "  </tbody>\n",
       "</table>\n",
       "</div>"
      ],
      "text/plain": [
       "   sentence_index  splitset_label\n",
       "0               1               1\n",
       "1               2               1\n",
       "2               3               2\n",
       "3               4               2\n",
       "4               5               2"
      ]
     },
     "execution_count": 132,
     "metadata": {},
     "output_type": "execute_result"
    }
   ],
   "source": [
    "df2 = pd.read_csv('D:\\\\firefox downloads\\\\73strings\\\\stanfordSentimentTreebank\\\\datasetSplit.txt', sep=',')\n",
    "df2.head()\n",
    "                  "
   ]
  },
  {
   "cell_type": "code",
   "execution_count": 133,
   "metadata": {},
   "outputs": [],
   "source": [
    "df3 = df.merge(df2, on =\"sentence_index\")"
   ]
  },
  {
   "cell_type": "code",
   "execution_count": 134,
   "metadata": {},
   "outputs": [
    {
     "data": {
      "text/html": [
       "<div>\n",
       "<style scoped>\n",
       "    .dataframe tbody tr th:only-of-type {\n",
       "        vertical-align: middle;\n",
       "    }\n",
       "\n",
       "    .dataframe tbody tr th {\n",
       "        vertical-align: top;\n",
       "    }\n",
       "\n",
       "    .dataframe thead th {\n",
       "        text-align: right;\n",
       "    }\n",
       "</style>\n",
       "<table border=\"1\" class=\"dataframe\">\n",
       "  <thead>\n",
       "    <tr style=\"text-align: right;\">\n",
       "      <th></th>\n",
       "      <th>sentence_index</th>\n",
       "      <th>sentence</th>\n",
       "      <th>splitset_label</th>\n",
       "    </tr>\n",
       "  </thead>\n",
       "  <tbody>\n",
       "    <tr>\n",
       "      <th>0</th>\n",
       "      <td>1</td>\n",
       "      <td>The Rock is destined to be the 21st Century 's...</td>\n",
       "      <td>1</td>\n",
       "    </tr>\n",
       "    <tr>\n",
       "      <th>1</th>\n",
       "      <td>2</td>\n",
       "      <td>The gorgeously elaborate continuation of `` Th...</td>\n",
       "      <td>1</td>\n",
       "    </tr>\n",
       "    <tr>\n",
       "      <th>2</th>\n",
       "      <td>3</td>\n",
       "      <td>Effective but too-tepid biopic</td>\n",
       "      <td>2</td>\n",
       "    </tr>\n",
       "    <tr>\n",
       "      <th>3</th>\n",
       "      <td>4</td>\n",
       "      <td>If you sometimes like to go to the movies to h...</td>\n",
       "      <td>2</td>\n",
       "    </tr>\n",
       "    <tr>\n",
       "      <th>4</th>\n",
       "      <td>5</td>\n",
       "      <td>Emerges as something rare , an issue movie tha...</td>\n",
       "      <td>2</td>\n",
       "    </tr>\n",
       "  </tbody>\n",
       "</table>\n",
       "</div>"
      ],
      "text/plain": [
       "   sentence_index                                           sentence  \\\n",
       "0               1  The Rock is destined to be the 21st Century 's...   \n",
       "1               2  The gorgeously elaborate continuation of `` Th...   \n",
       "2               3                     Effective but too-tepid biopic   \n",
       "3               4  If you sometimes like to go to the movies to h...   \n",
       "4               5  Emerges as something rare , an issue movie tha...   \n",
       "\n",
       "   splitset_label  \n",
       "0               1  \n",
       "1               1  \n",
       "2               2  \n",
       "3               2  \n",
       "4               2  "
      ]
     },
     "execution_count": 134,
     "metadata": {},
     "output_type": "execute_result"
    }
   ],
   "source": [
    "df3.head()"
   ]
  },
  {
   "cell_type": "markdown",
   "metadata": {},
   "source": [
    "Creating three separate text files **train.txt**, **test.txt** and **dev.txt**"
   ]
  },
  {
   "cell_type": "code",
   "execution_count": 135,
   "metadata": {},
   "outputs": [],
   "source": [
    "train = df3[\"sentence\"][df3[\"splitset_label\"]==1]"
   ]
  },
  {
   "cell_type": "code",
   "execution_count": 136,
   "metadata": {},
   "outputs": [
    {
     "data": {
      "text/plain": [
       "(8544,)"
      ]
     },
     "execution_count": 136,
     "metadata": {},
     "output_type": "execute_result"
    }
   ],
   "source": [
    "train.shape"
   ]
  },
  {
   "cell_type": "code",
   "execution_count": 137,
   "metadata": {},
   "outputs": [],
   "source": [
    "test = df3[\"sentence\"][df3[\"splitset_label\"]==2]\n",
    "dev = df3[\"sentence\"][df3[\"splitset_label\"]==3]"
   ]
  },
  {
   "cell_type": "code",
   "execution_count": 138,
   "metadata": {},
   "outputs": [
    {
     "data": {
      "text/plain": [
       "(1101,)"
      ]
     },
     "execution_count": 138,
     "metadata": {},
     "output_type": "execute_result"
    }
   ],
   "source": [
    "dev.shape"
   ]
  },
  {
   "cell_type": "code",
   "execution_count": 139,
   "metadata": {},
   "outputs": [
    {
     "data": {
      "text/plain": [
       "(2210,)"
      ]
     },
     "execution_count": 139,
     "metadata": {},
     "output_type": "execute_result"
    }
   ],
   "source": [
    "test.shape"
   ]
  },
  {
   "cell_type": "markdown",
   "metadata": {},
   "source": [
    "Now we will train our FastText model on **train data** and testing on our reviews"
   ]
  },
  {
   "cell_type": "code",
   "execution_count": 140,
   "metadata": {},
   "outputs": [
    {
     "data": {
      "text/html": [
       "<div>\n",
       "<style scoped>\n",
       "    .dataframe tbody tr th:only-of-type {\n",
       "        vertical-align: middle;\n",
       "    }\n",
       "\n",
       "    .dataframe tbody tr th {\n",
       "        vertical-align: top;\n",
       "    }\n",
       "\n",
       "    .dataframe thead th {\n",
       "        text-align: right;\n",
       "    }\n",
       "</style>\n",
       "<table border=\"1\" class=\"dataframe\">\n",
       "  <thead>\n",
       "    <tr style=\"text-align: right;\">\n",
       "      <th></th>\n",
       "      <th>0</th>\n",
       "      <th>1</th>\n",
       "    </tr>\n",
       "  </thead>\n",
       "  <tbody>\n",
       "    <tr>\n",
       "      <th>0</th>\n",
       "      <td>__label__4</td>\n",
       "      <td>The Rock is destined to be the 21st Century 's...</td>\n",
       "    </tr>\n",
       "    <tr>\n",
       "      <th>1</th>\n",
       "      <td>__label__5</td>\n",
       "      <td>The gorgeously elaborate continuation of `` Th...</td>\n",
       "    </tr>\n",
       "    <tr>\n",
       "      <th>2</th>\n",
       "      <td>__label__4</td>\n",
       "      <td>Singer/composer Bryan Adams contributes a slew...</td>\n",
       "    </tr>\n",
       "    <tr>\n",
       "      <th>3</th>\n",
       "      <td>__label__3</td>\n",
       "      <td>You 'd think by now America would have had eno...</td>\n",
       "    </tr>\n",
       "    <tr>\n",
       "      <th>4</th>\n",
       "      <td>__label__4</td>\n",
       "      <td>Yet the act is still charming here .</td>\n",
       "    </tr>\n",
       "  </tbody>\n",
       "</table>\n",
       "</div>"
      ],
      "text/plain": [
       "            0                                                  1\n",
       "0  __label__4  The Rock is destined to be the 21st Century 's...\n",
       "1  __label__5  The gorgeously elaborate continuation of `` Th...\n",
       "2  __label__4  Singer/composer Bryan Adams contributes a slew...\n",
       "3  __label__3  You 'd think by now America would have had eno...\n",
       "4  __label__4               Yet the act is still charming here ."
      ]
     },
     "execution_count": 140,
     "metadata": {},
     "output_type": "execute_result"
    }
   ],
   "source": [
    "train = pd.read_csv('D:\\\\firefox downloads\\\\73strings\\\\stanfordSentimentTreebank\\\\sst_train.txt', sep='\\t',header=None)\n",
    "train.head()"
   ]
  },
  {
   "cell_type": "code",
   "execution_count": 141,
   "metadata": {},
   "outputs": [],
   "source": [
    "#https://github.com/prrao87/fine-grained-sentiment/blob/master/notebooks/model_trials.ipynb\n",
    "def textblob_score(sentence):\n",
    "    return TextBlob(sentence).sentiment.polarity"
   ]
  },
  {
   "cell_type": "code",
   "execution_count": 142,
   "metadata": {},
   "outputs": [
    {
     "data": {
      "text/html": [
       "<div>\n",
       "<style scoped>\n",
       "    .dataframe tbody tr th:only-of-type {\n",
       "        vertical-align: middle;\n",
       "    }\n",
       "\n",
       "    .dataframe tbody tr th {\n",
       "        vertical-align: top;\n",
       "    }\n",
       "\n",
       "    .dataframe thead th {\n",
       "        text-align: right;\n",
       "    }\n",
       "</style>\n",
       "<table border=\"1\" class=\"dataframe\">\n",
       "  <thead>\n",
       "    <tr style=\"text-align: right;\">\n",
       "      <th></th>\n",
       "      <th>0</th>\n",
       "      <th>1</th>\n",
       "      <th>textblob_pred</th>\n",
       "    </tr>\n",
       "  </thead>\n",
       "  <tbody>\n",
       "    <tr>\n",
       "      <th>0</th>\n",
       "      <td>__label__4</td>\n",
       "      <td>The Rock is destined to be the 21st Century 's...</td>\n",
       "      <td>4</td>\n",
       "    </tr>\n",
       "    <tr>\n",
       "      <th>1</th>\n",
       "      <td>__label__5</td>\n",
       "      <td>The gorgeously elaborate continuation of `` Th...</td>\n",
       "      <td>4</td>\n",
       "    </tr>\n",
       "    <tr>\n",
       "      <th>2</th>\n",
       "      <td>__label__4</td>\n",
       "      <td>Singer/composer Bryan Adams contributes a slew...</td>\n",
       "      <td>3</td>\n",
       "    </tr>\n",
       "    <tr>\n",
       "      <th>3</th>\n",
       "      <td>__label__3</td>\n",
       "      <td>You 'd think by now America would have had eno...</td>\n",
       "      <td>3</td>\n",
       "    </tr>\n",
       "    <tr>\n",
       "      <th>4</th>\n",
       "      <td>__label__4</td>\n",
       "      <td>Yet the act is still charming here .</td>\n",
       "      <td>5</td>\n",
       "    </tr>\n",
       "  </tbody>\n",
       "</table>\n",
       "</div>"
      ],
      "text/plain": [
       "            0                                                  1 textblob_pred\n",
       "0  __label__4  The Rock is destined to be the 21st Century 's...             4\n",
       "1  __label__5  The gorgeously elaborate continuation of `` Th...             4\n",
       "2  __label__4  Singer/composer Bryan Adams contributes a slew...             3\n",
       "3  __label__3  You 'd think by now America would have had eno...             3\n",
       "4  __label__4               Yet the act is still charming here .             5"
      ]
     },
     "execution_count": 142,
     "metadata": {},
     "output_type": "execute_result"
    }
   ],
   "source": [
    "train['textblob_score'] = train[1].apply(textblob_score)\n",
    "# Convert float score to category based on binning\n",
    "train['textblob_pred'] = pd.cut(train['textblob_score'], bins=5, labels=[1, 2, 3, 4, 5])\n",
    "train = train.drop('textblob_score', axis=1)\n",
    "train.head()"
   ]
  },
  {
   "cell_type": "code",
   "execution_count": 143,
   "metadata": {},
   "outputs": [],
   "source": [
    "import re "
   ]
  },
  {
   "cell_type": "code",
   "execution_count": 145,
   "metadata": {},
   "outputs": [],
   "source": [
    "data = pd.read_csv(\"D:\\\\firefox downloads\\\\73strings\\\\amazon_reviews_names.csv\")"
   ]
  },
  {
   "cell_type": "code",
   "execution_count": 146,
   "metadata": {},
   "outputs": [
    {
     "data": {
      "text/html": [
       "<div>\n",
       "<style scoped>\n",
       "    .dataframe tbody tr th:only-of-type {\n",
       "        vertical-align: middle;\n",
       "    }\n",
       "\n",
       "    .dataframe tbody tr th {\n",
       "        vertical-align: top;\n",
       "    }\n",
       "\n",
       "    .dataframe thead th {\n",
       "        text-align: right;\n",
       "    }\n",
       "</style>\n",
       "<table border=\"1\" class=\"dataframe\">\n",
       "  <thead>\n",
       "    <tr style=\"text-align: right;\">\n",
       "      <th></th>\n",
       "      <th>ASIN</th>\n",
       "      <th>Reviews</th>\n",
       "      <th>Titles</th>\n",
       "      <th>Ratings</th>\n",
       "      <th>Product_Names</th>\n",
       "    </tr>\n",
       "  </thead>\n",
       "  <tbody>\n",
       "    <tr>\n",
       "      <th>0</th>\n",
       "      <td>B07X4R63DF</td>\n",
       "      <td>['\\n\\n  \\xa0Defective product shipped.. report...</td>\n",
       "      <td>[\"\\nPray you don't receive a defective product...</td>\n",
       "      <td>['4.0 out of 5 stars']</td>\n",
       "      <td>['\\n\\n\\n\\n\\n\\n\\n\\nRedmi 8A Dual (Sea Blue, 2GB...</td>\n",
       "    </tr>\n",
       "    <tr>\n",
       "      <th>1</th>\n",
       "      <td>B086KCCMCP</td>\n",
       "      <td>['\\n\\n  Damaged product\\n\\nRead more']</td>\n",
       "      <td>['\\nVery chipper quality\\n']</td>\n",
       "      <td>['3.9 out of 5 stars']</td>\n",
       "      <td>['\\n\\n\\n\\n\\n\\n\\n\\nSamsung Galaxy M01 (Black, 3...</td>\n",
       "    </tr>\n",
       "    <tr>\n",
       "      <th>2</th>\n",
       "      <td>B07HGJJ559</td>\n",
       "      <td>[\"\\n\\n  Update (15/08/2020):Never give a chanc...</td>\n",
       "      <td>['\\nValue For Money !! Go for it\\n']</td>\n",
       "      <td>['4.2 out of 5 stars']</td>\n",
       "      <td>['\\n\\n\\n\\n\\n\\n\\n\\nSamsung Galaxy M21 (Midnight...</td>\n",
       "    </tr>\n",
       "    <tr>\n",
       "      <th>3</th>\n",
       "      <td>B089MQ622N</td>\n",
       "      <td>[\"\\n\\n  Thank you samsung and Amazon for timel...</td>\n",
       "      <td>['\\n#samsunghitsbullseye\\n']</td>\n",
       "      <td>['3.1 out of 5 stars']</td>\n",
       "      <td>['\\n\\n\\n\\n\\n\\n\\n\\nSamsung Galaxy M01 Core (Bla...</td>\n",
       "    </tr>\n",
       "    <tr>\n",
       "      <th>4</th>\n",
       "      <td>B07SDPJ4XJ</td>\n",
       "      <td>['\\n\\n  Brought this phone for my wife who is ...</td>\n",
       "      <td>['\\nGood opportunity for oppo lovers to upgrad...</td>\n",
       "      <td>['4.2 out of 5 stars']</td>\n",
       "      <td>['\\n\\n\\n\\n\\n\\n\\n\\nOPPO A5 2020 (Dazzling White...</td>\n",
       "    </tr>\n",
       "  </tbody>\n",
       "</table>\n",
       "</div>"
      ],
      "text/plain": [
       "         ASIN                                            Reviews  \\\n",
       "0  B07X4R63DF  ['\\n\\n  \\xa0Defective product shipped.. report...   \n",
       "1  B086KCCMCP             ['\\n\\n  Damaged product\\n\\nRead more']   \n",
       "2  B07HGJJ559  [\"\\n\\n  Update (15/08/2020):Never give a chanc...   \n",
       "3  B089MQ622N  [\"\\n\\n  Thank you samsung and Amazon for timel...   \n",
       "4  B07SDPJ4XJ  ['\\n\\n  Brought this phone for my wife who is ...   \n",
       "\n",
       "                                              Titles                 Ratings  \\\n",
       "0  [\"\\nPray you don't receive a defective product...  ['4.0 out of 5 stars']   \n",
       "1                       ['\\nVery chipper quality\\n']  ['3.9 out of 5 stars']   \n",
       "2               ['\\nValue For Money !! Go for it\\n']  ['4.2 out of 5 stars']   \n",
       "3                       ['\\n#samsunghitsbullseye\\n']  ['3.1 out of 5 stars']   \n",
       "4  ['\\nGood opportunity for oppo lovers to upgrad...  ['4.2 out of 5 stars']   \n",
       "\n",
       "                                       Product_Names  \n",
       "0  ['\\n\\n\\n\\n\\n\\n\\n\\nRedmi 8A Dual (Sea Blue, 2GB...  \n",
       "1  ['\\n\\n\\n\\n\\n\\n\\n\\nSamsung Galaxy M01 (Black, 3...  \n",
       "2  ['\\n\\n\\n\\n\\n\\n\\n\\nSamsung Galaxy M21 (Midnight...  \n",
       "3  ['\\n\\n\\n\\n\\n\\n\\n\\nSamsung Galaxy M01 Core (Bla...  \n",
       "4  ['\\n\\n\\n\\n\\n\\n\\n\\nOPPO A5 2020 (Dazzling White...  "
      ]
     },
     "execution_count": 146,
     "metadata": {},
     "output_type": "execute_result"
    }
   ],
   "source": [
    "data.head()"
   ]
  },
  {
   "cell_type": "code",
   "execution_count": 147,
   "metadata": {},
   "outputs": [],
   "source": [
    "data.drop([\"ASIN\",\"Titles\",\"Ratings\"],axis = \"columns\",inplace =True)"
   ]
  },
  {
   "cell_type": "code",
   "execution_count": 148,
   "metadata": {},
   "outputs": [],
   "source": [
    "data['Reviews'] = data[\"Reviews\"].astype(str).str.replace('\\[|\\]|\\'', '')"
   ]
  },
  {
   "cell_type": "code",
   "execution_count": 150,
   "metadata": {},
   "outputs": [],
   "source": [
    "data['Product_Names'] = data[\"Product_Names\"].astype(str).str.replace('\\[|\\]|\\'', '')"
   ]
  },
  {
   "cell_type": "code",
   "execution_count": 151,
   "metadata": {},
   "outputs": [
    {
     "data": {
      "text/html": [
       "<div>\n",
       "<style scoped>\n",
       "    .dataframe tbody tr th:only-of-type {\n",
       "        vertical-align: middle;\n",
       "    }\n",
       "\n",
       "    .dataframe tbody tr th {\n",
       "        vertical-align: top;\n",
       "    }\n",
       "\n",
       "    .dataframe thead th {\n",
       "        text-align: right;\n",
       "    }\n",
       "</style>\n",
       "<table border=\"1\" class=\"dataframe\">\n",
       "  <thead>\n",
       "    <tr style=\"text-align: right;\">\n",
       "      <th></th>\n",
       "      <th>Reviews</th>\n",
       "      <th>Product_Names</th>\n",
       "    </tr>\n",
       "  </thead>\n",
       "  <tbody>\n",
       "    <tr>\n",
       "      <th>0</th>\n",
       "      <td>\\n\\n  \\xa0Defective product shipped.. reported...</td>\n",
       "      <td>\\n\\n\\n\\n\\n\\n\\n\\nRedmi 8A Dual (Sea Blue, 2GB R...</td>\n",
       "    </tr>\n",
       "    <tr>\n",
       "      <th>1</th>\n",
       "      <td>\\n\\n  Damaged product\\n\\nRead more</td>\n",
       "      <td>\\n\\n\\n\\n\\n\\n\\n\\nSamsung Galaxy M01 (Black, 3GB...</td>\n",
       "    </tr>\n",
       "    <tr>\n",
       "      <th>2</th>\n",
       "      <td>\"\\n\\n  Update (15/08/2020):Never give a chance...</td>\n",
       "      <td>\\n\\n\\n\\n\\n\\n\\n\\nSamsung Galaxy M21 (Midnight B...</td>\n",
       "    </tr>\n",
       "    <tr>\n",
       "      <th>3</th>\n",
       "      <td>\"\\n\\n  Thank you samsung and Amazon for timely...</td>\n",
       "      <td>\\n\\n\\n\\n\\n\\n\\n\\nSamsung Galaxy M01 Core (Black...</td>\n",
       "    </tr>\n",
       "    <tr>\n",
       "      <th>4</th>\n",
       "      <td>\\n\\n  Brought this phone for my wife who is di...</td>\n",
       "      <td>\\n\\n\\n\\n\\n\\n\\n\\nOPPO A5 2020 (Dazzling White, ...</td>\n",
       "    </tr>\n",
       "  </tbody>\n",
       "</table>\n",
       "</div>"
      ],
      "text/plain": [
       "                                             Reviews  \\\n",
       "0  \\n\\n  \\xa0Defective product shipped.. reported...   \n",
       "1                 \\n\\n  Damaged product\\n\\nRead more   \n",
       "2  \"\\n\\n  Update (15/08/2020):Never give a chance...   \n",
       "3  \"\\n\\n  Thank you samsung and Amazon for timely...   \n",
       "4  \\n\\n  Brought this phone for my wife who is di...   \n",
       "\n",
       "                                       Product_Names  \n",
       "0  \\n\\n\\n\\n\\n\\n\\n\\nRedmi 8A Dual (Sea Blue, 2GB R...  \n",
       "1  \\n\\n\\n\\n\\n\\n\\n\\nSamsung Galaxy M01 (Black, 3GB...  \n",
       "2  \\n\\n\\n\\n\\n\\n\\n\\nSamsung Galaxy M21 (Midnight B...  \n",
       "3  \\n\\n\\n\\n\\n\\n\\n\\nSamsung Galaxy M01 Core (Black...  \n",
       "4  \\n\\n\\n\\n\\n\\n\\n\\nOPPO A5 2020 (Dazzling White, ...  "
      ]
     },
     "execution_count": 151,
     "metadata": {},
     "output_type": "execute_result"
    }
   ],
   "source": [
    "data.head()"
   ]
  },
  {
   "cell_type": "code",
   "execution_count": 152,
   "metadata": {},
   "outputs": [
    {
     "name": "stderr",
     "output_type": "stream",
     "text": [
      "100%|██████████████████████████████████████████████████████████████████████████████| 112/112 [00:00<00:00, 7000.72it/s]\n"
     ]
    }
   ],
   "source": [
    "# Combining all the above stundents \n",
    "from tqdm import tqdm\n",
    "preprocessed_reviews = []\n",
    "# tqdm is for printing the status bar\n",
    "for sentance in tqdm(data['Reviews'].values):\n",
    "    sentance = re.sub(r\"http\\S+\", \"\", sentance) #removing https if present\n",
    "    sentance= sentance.replace(\"\\\\n\",\"\").replace(\"  \",\"\") #removing //n if present\n",
    "    sentance= re.sub(\"\\S*\\d\\S*\", \"\", sentance).strip() #removing special characters and emojis\n",
    "    sentance = cleanhtml(sentance) #html tags\n",
    "    sentance = decontracted(sentance) #decontraction\n",
    "    sentance = cleanpunc(sentance) #cleaning punctuation\n",
    "    sentance = re.sub('[^A-Za-z0-9]+', ' ', sentance)# https://gist.github.com/sebleier/554280\n",
    "    sentance = ' '.join(e.lower() for e in sentance.split() if e.lower() not in s) #converting everything to lowercase and stopword removal \n",
    "    preprocessed_reviews.append(sentance.strip(\"'\"))"
   ]
  },
  {
   "cell_type": "code",
   "execution_count": 153,
   "metadata": {},
   "outputs": [],
   "source": [
    "from nltk.tokenize import sent_tokenize, word_tokenize\n",
    "def stemSentence(sentence):\n",
    "    token_words=word_tokenize(sentence)\n",
    "    token_words\n",
    "    stem_sentence=[]\n",
    "    for word in token_words:\n",
    "        stem_sentence.append(sno.stem(word))\n",
    "        stem_sentence.append(\" \")\n",
    "    return \"\".join(stem_sentence)"
   ]
  },
  {
   "cell_type": "code",
   "execution_count": 154,
   "metadata": {},
   "outputs": [],
   "source": [
    "data['preprocessed_reviews']=preprocessed_reviews"
   ]
  },
  {
   "cell_type": "code",
   "execution_count": 155,
   "metadata": {},
   "outputs": [],
   "source": [
    "data[\"preprocessed_reviews\"] = data[\"preprocessed_reviews\"].apply(stemSentence)"
   ]
  },
  {
   "cell_type": "code",
   "execution_count": 156,
   "metadata": {},
   "outputs": [
    {
     "data": {
      "text/html": [
       "<div>\n",
       "<style scoped>\n",
       "    .dataframe tbody tr th:only-of-type {\n",
       "        vertical-align: middle;\n",
       "    }\n",
       "\n",
       "    .dataframe tbody tr th {\n",
       "        vertical-align: top;\n",
       "    }\n",
       "\n",
       "    .dataframe thead th {\n",
       "        text-align: right;\n",
       "    }\n",
       "</style>\n",
       "<table border=\"1\" class=\"dataframe\">\n",
       "  <thead>\n",
       "    <tr style=\"text-align: right;\">\n",
       "      <th></th>\n",
       "      <th>Reviews</th>\n",
       "      <th>Product_Names</th>\n",
       "      <th>preprocessed_reviews</th>\n",
       "    </tr>\n",
       "  </thead>\n",
       "  <tbody>\n",
       "    <tr>\n",
       "      <th>0</th>\n",
       "      <td>\\n\\n  \\xa0Defective product shipped.. reported...</td>\n",
       "      <td>\\n\\n\\n\\n\\n\\n\\n\\nRedmi 8A Dual (Sea Blue, 2GB R...</td>\n",
       "      <td>product ship report within afewhour receipt on...</td>\n",
       "    </tr>\n",
       "    <tr>\n",
       "      <th>1</th>\n",
       "      <td>\\n\\n  Damaged product\\n\\nRead more</td>\n",
       "      <td>\\n\\n\\n\\n\\n\\n\\n\\nSamsung Galaxy M01 (Black, 3GB...</td>\n",
       "      <td>damag productread</td>\n",
       "    </tr>\n",
       "    <tr>\n",
       "      <th>2</th>\n",
       "      <td>\"\\n\\n  Update (15/08/2020):Never give a chance...</td>\n",
       "      <td>\\n\\n\\n\\n\\n\\n\\n\\nSamsung Galaxy M21 (Midnight B...</td>\n",
       "      <td>updat give chanc regret go ahead icon look gre...</td>\n",
       "    </tr>\n",
       "    <tr>\n",
       "      <th>3</th>\n",
       "      <td>\"\\n\\n  Thank you samsung and Amazon for timely...</td>\n",
       "      <td>\\n\\n\\n\\n\\n\\n\\n\\nSamsung Galaxy M01 Core (Black...</td>\n",
       "      <td>thank samsung amazon time rakshabandhan delive...</td>\n",
       "    </tr>\n",
       "    <tr>\n",
       "      <th>4</th>\n",
       "      <td>\\n\\n  Brought this phone for my wife who is di...</td>\n",
       "      <td>\\n\\n\\n\\n\\n\\n\\n\\nOPPO A5 2020 (Dazzling White, ...</td>\n",
       "      <td>brought phone wife die hard fan oppo offer lik...</td>\n",
       "    </tr>\n",
       "  </tbody>\n",
       "</table>\n",
       "</div>"
      ],
      "text/plain": [
       "                                             Reviews  \\\n",
       "0  \\n\\n  \\xa0Defective product shipped.. reported...   \n",
       "1                 \\n\\n  Damaged product\\n\\nRead more   \n",
       "2  \"\\n\\n  Update (15/08/2020):Never give a chance...   \n",
       "3  \"\\n\\n  Thank you samsung and Amazon for timely...   \n",
       "4  \\n\\n  Brought this phone for my wife who is di...   \n",
       "\n",
       "                                       Product_Names  \\\n",
       "0  \\n\\n\\n\\n\\n\\n\\n\\nRedmi 8A Dual (Sea Blue, 2GB R...   \n",
       "1  \\n\\n\\n\\n\\n\\n\\n\\nSamsung Galaxy M01 (Black, 3GB...   \n",
       "2  \\n\\n\\n\\n\\n\\n\\n\\nSamsung Galaxy M21 (Midnight B...   \n",
       "3  \\n\\n\\n\\n\\n\\n\\n\\nSamsung Galaxy M01 Core (Black...   \n",
       "4  \\n\\n\\n\\n\\n\\n\\n\\nOPPO A5 2020 (Dazzling White, ...   \n",
       "\n",
       "                                preprocessed_reviews  \n",
       "0  product ship report within afewhour receipt on...  \n",
       "1                                 damag productread   \n",
       "2  updat give chanc regret go ahead icon look gre...  \n",
       "3  thank samsung amazon time rakshabandhan delive...  \n",
       "4  brought phone wife die hard fan oppo offer lik...  "
      ]
     },
     "execution_count": 156,
     "metadata": {},
     "output_type": "execute_result"
    }
   ],
   "source": [
    "data.head()"
   ]
  },
  {
   "cell_type": "code",
   "execution_count": 157,
   "metadata": {},
   "outputs": [
    {
     "name": "stderr",
     "output_type": "stream",
     "text": [
      "100%|█████████████████████████████████████████████████████████████████████████████| 112/112 [00:00<00:00, 22402.69it/s]\n"
     ]
    }
   ],
   "source": [
    "# Combining all the above stundents \n",
    "from tqdm import tqdm\n",
    "preprocessed_names = []\n",
    "# tqdm is for printing the status bar\n",
    "for sentance in tqdm(data['Product_Names'].values):\n",
    "    sentance = re.sub(r\"http\\S+\", \"\", sentance) #removing https if present\n",
    "    sentance= sentance.replace(\"\\\\n\",\"\").replace(\"  \",\"\") #removing //n if present\n",
    "    sentance= re.sub(\"\\S*\\d\\S*\", \"\", sentance).strip() #removing special characters and emojis\n",
    "    sentance = cleanhtml(sentance) #html tags\n",
    "    sentance = decontracted(sentance) #decontraction\n",
    "    sentance = cleanpunc(sentance) #cleaning punctuation\n",
    "    sentance = re.sub('[^A-Za-z0-9]+', ' ', sentance)# https://gist.github.com/sebleier/554280\n",
    "    sentance = ' '.join(e.lower() for e in sentance.split() if e.lower() not in s) #converting everything to lowercase and stopword removal \n",
    "    preprocessed_names.append(sentance.strip(\"'\"))"
   ]
  },
  {
   "cell_type": "code",
   "execution_count": 158,
   "metadata": {},
   "outputs": [],
   "source": [
    "data['preprocessed_names']=preprocessed_names"
   ]
  },
  {
   "cell_type": "code",
   "execution_count": 159,
   "metadata": {},
   "outputs": [],
   "source": [
    "data[\"preprocessed_names\"] = data[\"preprocessed_names\"].apply(stemSentence)"
   ]
  },
  {
   "cell_type": "code",
   "execution_count": 160,
   "metadata": {},
   "outputs": [
    {
     "data": {
      "text/html": [
       "<div>\n",
       "<style scoped>\n",
       "    .dataframe tbody tr th:only-of-type {\n",
       "        vertical-align: middle;\n",
       "    }\n",
       "\n",
       "    .dataframe tbody tr th {\n",
       "        vertical-align: top;\n",
       "    }\n",
       "\n",
       "    .dataframe thead th {\n",
       "        text-align: right;\n",
       "    }\n",
       "</style>\n",
       "<table border=\"1\" class=\"dataframe\">\n",
       "  <thead>\n",
       "    <tr style=\"text-align: right;\">\n",
       "      <th></th>\n",
       "      <th>Reviews</th>\n",
       "      <th>Product_Names</th>\n",
       "      <th>preprocessed_reviews</th>\n",
       "      <th>preprocessed_names</th>\n",
       "    </tr>\n",
       "  </thead>\n",
       "  <tbody>\n",
       "    <tr>\n",
       "      <th>0</th>\n",
       "      <td>\\n\\n  \\xa0Defective product shipped.. reported...</td>\n",
       "      <td>\\n\\n\\n\\n\\n\\n\\n\\nRedmi 8A Dual (Sea Blue, 2GB R...</td>\n",
       "      <td>product ship report within afewhour receipt on...</td>\n",
       "      <td>redmi dual sea blue ram storag dual camera mah...</td>\n",
       "    </tr>\n",
       "    <tr>\n",
       "      <th>1</th>\n",
       "      <td>\\n\\n  Damaged product\\n\\nRead more</td>\n",
       "      <td>\\n\\n\\n\\n\\n\\n\\n\\nSamsung Galaxy M01 (Black, 3GB...</td>\n",
       "      <td>damag productread</td>\n",
       "      <td>samsung galaxi black ram storag cost emi addit...</td>\n",
       "    </tr>\n",
       "    <tr>\n",
       "      <th>2</th>\n",
       "      <td>\"\\n\\n  Update (15/08/2020):Never give a chance...</td>\n",
       "      <td>\\n\\n\\n\\n\\n\\n\\n\\nSamsung Galaxy M21 (Midnight B...</td>\n",
       "      <td>updat give chanc regret go ahead icon look gre...</td>\n",
       "      <td>samsung galaxi midnight blue ram storag</td>\n",
       "    </tr>\n",
       "    <tr>\n",
       "      <th>3</th>\n",
       "      <td>\"\\n\\n  Thank you samsung and Amazon for timely...</td>\n",
       "      <td>\\n\\n\\n\\n\\n\\n\\n\\nSamsung Galaxy M01 Core (Black...</td>\n",
       "      <td>thank samsung amazon time rakshabandhan delive...</td>\n",
       "      <td>samsung galaxi core black ram storag cost emi ...</td>\n",
       "    </tr>\n",
       "    <tr>\n",
       "      <th>4</th>\n",
       "      <td>\\n\\n  Brought this phone for my wife who is di...</td>\n",
       "      <td>\\n\\n\\n\\n\\n\\n\\n\\nOPPO A5 2020 (Dazzling White, ...</td>\n",
       "      <td>brought phone wife die hard fan oppo offer lik...</td>\n",
       "      <td>oppo dazzl white ram storag cost emi addit exc...</td>\n",
       "    </tr>\n",
       "  </tbody>\n",
       "</table>\n",
       "</div>"
      ],
      "text/plain": [
       "                                             Reviews  \\\n",
       "0  \\n\\n  \\xa0Defective product shipped.. reported...   \n",
       "1                 \\n\\n  Damaged product\\n\\nRead more   \n",
       "2  \"\\n\\n  Update (15/08/2020):Never give a chance...   \n",
       "3  \"\\n\\n  Thank you samsung and Amazon for timely...   \n",
       "4  \\n\\n  Brought this phone for my wife who is di...   \n",
       "\n",
       "                                       Product_Names  \\\n",
       "0  \\n\\n\\n\\n\\n\\n\\n\\nRedmi 8A Dual (Sea Blue, 2GB R...   \n",
       "1  \\n\\n\\n\\n\\n\\n\\n\\nSamsung Galaxy M01 (Black, 3GB...   \n",
       "2  \\n\\n\\n\\n\\n\\n\\n\\nSamsung Galaxy M21 (Midnight B...   \n",
       "3  \\n\\n\\n\\n\\n\\n\\n\\nSamsung Galaxy M01 Core (Black...   \n",
       "4  \\n\\n\\n\\n\\n\\n\\n\\nOPPO A5 2020 (Dazzling White, ...   \n",
       "\n",
       "                                preprocessed_reviews  \\\n",
       "0  product ship report within afewhour receipt on...   \n",
       "1                                 damag productread    \n",
       "2  updat give chanc regret go ahead icon look gre...   \n",
       "3  thank samsung amazon time rakshabandhan delive...   \n",
       "4  brought phone wife die hard fan oppo offer lik...   \n",
       "\n",
       "                                  preprocessed_names  \n",
       "0  redmi dual sea blue ram storag dual camera mah...  \n",
       "1  samsung galaxi black ram storag cost emi addit...  \n",
       "2           samsung galaxi midnight blue ram storag   \n",
       "3  samsung galaxi core black ram storag cost emi ...  \n",
       "4  oppo dazzl white ram storag cost emi addit exc...  "
      ]
     },
     "execution_count": 160,
     "metadata": {},
     "output_type": "execute_result"
    }
   ],
   "source": [
    "data.head()"
   ]
  },
  {
   "cell_type": "code",
   "execution_count": 161,
   "metadata": {},
   "outputs": [],
   "source": [
    "data.drop([\"Reviews\",\"Product_Names\"],axis = \"columns\",inplace =True )"
   ]
  },
  {
   "cell_type": "code",
   "execution_count": 162,
   "metadata": {},
   "outputs": [
    {
     "data": {
      "text/html": [
       "<div>\n",
       "<style scoped>\n",
       "    .dataframe tbody tr th:only-of-type {\n",
       "        vertical-align: middle;\n",
       "    }\n",
       "\n",
       "    .dataframe tbody tr th {\n",
       "        vertical-align: top;\n",
       "    }\n",
       "\n",
       "    .dataframe thead th {\n",
       "        text-align: right;\n",
       "    }\n",
       "</style>\n",
       "<table border=\"1\" class=\"dataframe\">\n",
       "  <thead>\n",
       "    <tr style=\"text-align: right;\">\n",
       "      <th></th>\n",
       "      <th>preprocessed_reviews</th>\n",
       "      <th>preprocessed_names</th>\n",
       "    </tr>\n",
       "  </thead>\n",
       "  <tbody>\n",
       "    <tr>\n",
       "      <th>0</th>\n",
       "      <td>product ship report within afewhour receipt on...</td>\n",
       "      <td>redmi dual sea blue ram storag dual camera mah...</td>\n",
       "    </tr>\n",
       "    <tr>\n",
       "      <th>1</th>\n",
       "      <td>damag productread</td>\n",
       "      <td>samsung galaxi black ram storag cost emi addit...</td>\n",
       "    </tr>\n",
       "    <tr>\n",
       "      <th>2</th>\n",
       "      <td>updat give chanc regret go ahead icon look gre...</td>\n",
       "      <td>samsung galaxi midnight blue ram storag</td>\n",
       "    </tr>\n",
       "    <tr>\n",
       "      <th>3</th>\n",
       "      <td>thank samsung amazon time rakshabandhan delive...</td>\n",
       "      <td>samsung galaxi core black ram storag cost emi ...</td>\n",
       "    </tr>\n",
       "    <tr>\n",
       "      <th>4</th>\n",
       "      <td>brought phone wife die hard fan oppo offer lik...</td>\n",
       "      <td>oppo dazzl white ram storag cost emi addit exc...</td>\n",
       "    </tr>\n",
       "  </tbody>\n",
       "</table>\n",
       "</div>"
      ],
      "text/plain": [
       "                                preprocessed_reviews  \\\n",
       "0  product ship report within afewhour receipt on...   \n",
       "1                                 damag productread    \n",
       "2  updat give chanc regret go ahead icon look gre...   \n",
       "3  thank samsung amazon time rakshabandhan delive...   \n",
       "4  brought phone wife die hard fan oppo offer lik...   \n",
       "\n",
       "                                  preprocessed_names  \n",
       "0  redmi dual sea blue ram storag dual camera mah...  \n",
       "1  samsung galaxi black ram storag cost emi addit...  \n",
       "2           samsung galaxi midnight blue ram storag   \n",
       "3  samsung galaxi core black ram storag cost emi ...  \n",
       "4  oppo dazzl white ram storag cost emi addit exc...  "
      ]
     },
     "execution_count": 162,
     "metadata": {},
     "output_type": "execute_result"
    }
   ],
   "source": [
    "data.head()"
   ]
  },
  {
   "cell_type": "code",
   "execution_count": 163,
   "metadata": {},
   "outputs": [
    {
     "data": {
      "text/html": [
       "<div>\n",
       "<style scoped>\n",
       "    .dataframe tbody tr th:only-of-type {\n",
       "        vertical-align: middle;\n",
       "    }\n",
       "\n",
       "    .dataframe tbody tr th {\n",
       "        vertical-align: top;\n",
       "    }\n",
       "\n",
       "    .dataframe thead th {\n",
       "        text-align: right;\n",
       "    }\n",
       "</style>\n",
       "<table border=\"1\" class=\"dataframe\">\n",
       "  <thead>\n",
       "    <tr style=\"text-align: right;\">\n",
       "      <th></th>\n",
       "      <th>preprocessed_reviews</th>\n",
       "      <th>preprocessed_names</th>\n",
       "      <th>textblob_pred</th>\n",
       "    </tr>\n",
       "  </thead>\n",
       "  <tbody>\n",
       "    <tr>\n",
       "      <th>0</th>\n",
       "      <td>product ship report within afewhour receipt on...</td>\n",
       "      <td>redmi dual sea blue ram storag dual camera mah...</td>\n",
       "      <td>3</td>\n",
       "    </tr>\n",
       "    <tr>\n",
       "      <th>1</th>\n",
       "      <td>damag productread</td>\n",
       "      <td>samsung galaxi black ram storag cost emi addit...</td>\n",
       "      <td>3</td>\n",
       "    </tr>\n",
       "    <tr>\n",
       "      <th>2</th>\n",
       "      <td>updat give chanc regret go ahead icon look gre...</td>\n",
       "      <td>samsung galaxi midnight blue ram storag</td>\n",
       "      <td>4</td>\n",
       "    </tr>\n",
       "    <tr>\n",
       "      <th>3</th>\n",
       "      <td>thank samsung amazon time rakshabandhan delive...</td>\n",
       "      <td>samsung galaxi core black ram storag cost emi ...</td>\n",
       "      <td>3</td>\n",
       "    </tr>\n",
       "    <tr>\n",
       "      <th>4</th>\n",
       "      <td>brought phone wife die hard fan oppo offer lik...</td>\n",
       "      <td>oppo dazzl white ram storag cost emi addit exc...</td>\n",
       "      <td>4</td>\n",
       "    </tr>\n",
       "  </tbody>\n",
       "</table>\n",
       "</div>"
      ],
      "text/plain": [
       "                                preprocessed_reviews  \\\n",
       "0  product ship report within afewhour receipt on...   \n",
       "1                                 damag productread    \n",
       "2  updat give chanc regret go ahead icon look gre...   \n",
       "3  thank samsung amazon time rakshabandhan delive...   \n",
       "4  brought phone wife die hard fan oppo offer lik...   \n",
       "\n",
       "                                  preprocessed_names textblob_pred  \n",
       "0  redmi dual sea blue ram storag dual camera mah...             3  \n",
       "1  samsung galaxi black ram storag cost emi addit...             3  \n",
       "2           samsung galaxi midnight blue ram storag              4  \n",
       "3  samsung galaxi core black ram storag cost emi ...             3  \n",
       "4  oppo dazzl white ram storag cost emi addit exc...             4  "
      ]
     },
     "execution_count": 163,
     "metadata": {},
     "output_type": "execute_result"
    }
   ],
   "source": [
    "data['textblob_score'] = data[\"preprocessed_reviews\"].apply(textblob_score)\n",
    "# Convert float score to category based on binning\n",
    "data['textblob_pred'] = pd.cut(data['textblob_score'], bins=5, labels=[1, 2, 3, 4, 5])\n",
    "data = data.drop('textblob_score', axis=1)\n",
    "data.head()"
   ]
  },
  {
   "cell_type": "code",
   "execution_count": 164,
   "metadata": {},
   "outputs": [],
   "source": [
    "data.to_csv(\"Fine_Grained_Sentiment_Analysis.csv\",sep=',',index=False)"
   ]
  }
 ],
 "metadata": {
  "kernelspec": {
   "display_name": "Python 3",
   "language": "python",
   "name": "python3"
  },
  "language_info": {
   "codemirror_mode": {
    "name": "ipython",
    "version": 3
   },
   "file_extension": ".py",
   "mimetype": "text/x-python",
   "name": "python",
   "nbconvert_exporter": "python",
   "pygments_lexer": "ipython3",
   "version": "3.7.6"
  },
  "latex_envs": {
   "LaTeX_envs_menu_present": true,
   "autoclose": false,
   "autocomplete": true,
   "bibliofile": "biblio.bib",
   "cite_by": "apalike",
   "current_citInitial": 1,
   "eqLabelWithNumbers": true,
   "eqNumInitial": 1,
   "hotkeys": {
    "equation": "Ctrl-E",
    "itemize": "Ctrl-I"
   },
   "labels_anchors": false,
   "latex_user_defs": false,
   "report_style_numbering": false,
   "user_envs_cfg": false
  },
  "toc": {
   "base_numbering": 1,
   "nav_menu": {},
   "number_sections": true,
   "sideBar": true,
   "skip_h1_title": false,
   "title_cell": "Table of Contents",
   "title_sidebar": "Contents",
   "toc_cell": false,
   "toc_position": {},
   "toc_section_display": true,
   "toc_window_display": false
  },
  "varInspector": {
   "cols": {
    "lenName": 16,
    "lenType": 16,
    "lenVar": 40
   },
   "kernels_config": {
    "python": {
     "delete_cmd_postfix": "",
     "delete_cmd_prefix": "del ",
     "library": "var_list.py",
     "varRefreshCmd": "print(var_dic_list())"
    },
    "r": {
     "delete_cmd_postfix": ") ",
     "delete_cmd_prefix": "rm(",
     "library": "var_list.r",
     "varRefreshCmd": "cat(var_dic_list()) "
    }
   },
   "types_to_exclude": [
    "module",
    "function",
    "builtin_function_or_method",
    "instance",
    "_Feature"
   ],
   "window_display": false
  }
 },
 "nbformat": 4,
 "nbformat_minor": 4
}
